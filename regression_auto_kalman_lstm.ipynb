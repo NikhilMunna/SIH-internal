{
  "nbformat": 4,
  "nbformat_minor": 0,
  "metadata": {
    "kernelspec": {
      "name": "python3",
      "display_name": "Python 3"
    },
    "language_info": {
      "codemirror_mode": {
        "name": "ipython",
        "version": 3
      },
      "file_extension": ".py",
      "mimetype": "text/x-python",
      "name": "python",
      "nbconvert_exporter": "python",
      "pygments_lexer": "ipython3",
      "version": "3.6.9"
    },
    "colab": {
      "name": "regression_auto_kalman_lstm.ipynb",
      "provenance": []
    },
    "accelerator": "GPU"
  },
  "cells": [
    {
      "cell_type": "markdown",
      "metadata": {
        "id": "mJbuKjPvV2az",
        "colab_type": "text"
      },
      "source": [
        "# Predictive Maintenance"
      ]
    },
    {
      "cell_type": "markdown",
      "metadata": {
        "id": "fBK9LHSeV2a5",
        "colab_type": "text"
      },
      "source": [
        "## Dataset 1 - Regression (RUL) using Autoencoder + Kalman + LSTM\n",
        "\n",
        "Here, we fit an autoencoder on the train set which learns to regenerate the train set. By using the activations of some intermediate layer of the autoencoder, we get an efficient representation of the original noisy train data. This representation of the original data can be used to train the LSTM model for predicting RUL."
      ]
    },
    {
      "cell_type": "code",
      "metadata": {
        "id": "KIjbBmkTV2a-",
        "colab_type": "code",
        "outputId": "06a05df8-21dc-4502-8b30-b4cc91d2e7e5",
        "colab": {
          "base_uri": "https://localhost:8080/",
          "height": 34
        }
      },
      "source": [
        "import keras\n",
        "!pip install pykalman"
      ],
      "execution_count": 0,
      "outputs": [
        {
          "output_type": "stream",
          "text": [
            "Requirement already satisfied: pykalman in /usr/local/lib/python3.6/dist-packages (0.9.5)\n"
          ],
          "name": "stdout"
        }
      ]
    },
    {
      "cell_type": "code",
      "metadata": {
        "id": "YqgbqEgvdUPi",
        "colab_type": "code",
        "colab": {}
      },
      "source": [
        ""
      ],
      "execution_count": 0,
      "outputs": []
    },
    {
      "cell_type": "code",
      "metadata": {
        "id": "XWDr0Pl5dUJY",
        "colab_type": "code",
        "colab": {}
      },
      "source": [
        ""
      ],
      "execution_count": 0,
      "outputs": []
    },
    {
      "cell_type": "code",
      "metadata": {
        "id": "JNGMNx5EdUGm",
        "colab_type": "code",
        "colab": {}
      },
      "source": [
        ""
      ],
      "execution_count": 0,
      "outputs": []
    },
    {
      "cell_type": "code",
      "metadata": {
        "id": "m4xUyVhGV2bO",
        "colab_type": "code",
        "colab": {}
      },
      "source": [
        "import pandas as pd\n",
        "import numpy as np\n",
        "import matplotlib.pyplot as plt\n",
        "\n",
        "# Setting seed for reproducability\n",
        "np.random.seed(1234)  \n",
        "PYTHONHASHSEED = 0\n",
        "from sklearn import preprocessing\n",
        "from sklearn.metrics import confusion_matrix, recall_score, precision_score\n",
        "from keras.models import Sequential\n",
        "from keras.layers import Dense, Dropout, LSTM, Activation\n",
        "%matplotlib inline"
      ],
      "execution_count": 0,
      "outputs": []
    },
    {
      "cell_type": "markdown",
      "metadata": {
        "id": "mQHs35MrV2bW",
        "colab_type": "text"
      },
      "source": [
        "## Preprocess Train and Test Data using Kalman Filtering"
      ]
    },
    {
      "cell_type": "code",
      "metadata": {
        "id": "udbaLAHWV2ba",
        "colab_type": "code",
        "colab": {}
      },
      "source": [
        "# read training data \n",
        "train_df = pd.read_csv('train_01.txt', sep=\" \", header=None)\n",
        "train_df.drop(train_df.columns[[26, 27]], axis=1, inplace=True)\n",
        "train_df.columns = ['id', 'cycle', 'setting1', 'setting2', 'setting3', 's1', 's2', 's3',\n",
        "                     's4', 's5', 's6', 's7', 's8', 's9', 's10', 's11', 's12', 's13', 's14',\n",
        "                     's15', 's16', 's17', 's18', 's19', 's20', 's21']"
      ],
      "execution_count": 0,
      "outputs": []
    },
    {
      "cell_type": "code",
      "metadata": {
        "id": "oHcMuKyNV2bi",
        "colab_type": "code",
        "colab": {}
      },
      "source": [
        "from pykalman import KalmanFilter"
      ],
      "execution_count": 0,
      "outputs": []
    },
    {
      "cell_type": "code",
      "metadata": {
        "id": "5A57k1_MV2bs",
        "colab_type": "code",
        "outputId": "a0bf67cf-1818-49ca-8414-ed4b852d085f",
        "colab": {
          "base_uri": "https://localhost:8080/",
          "height": 226
        }
      },
      "source": [
        "\n",
        "train_df.head()"
      ],
      "execution_count": 0,
      "outputs": [
        {
          "output_type": "execute_result",
          "data": {
            "text/html": [
              "<div>\n",
              "<style scoped>\n",
              "    .dataframe tbody tr th:only-of-type {\n",
              "        vertical-align: middle;\n",
              "    }\n",
              "\n",
              "    .dataframe tbody tr th {\n",
              "        vertical-align: top;\n",
              "    }\n",
              "\n",
              "    .dataframe thead th {\n",
              "        text-align: right;\n",
              "    }\n",
              "</style>\n",
              "<table border=\"1\" class=\"dataframe\">\n",
              "  <thead>\n",
              "    <tr style=\"text-align: right;\">\n",
              "      <th></th>\n",
              "      <th>id</th>\n",
              "      <th>cycle</th>\n",
              "      <th>setting1</th>\n",
              "      <th>setting2</th>\n",
              "      <th>setting3</th>\n",
              "      <th>s1</th>\n",
              "      <th>s2</th>\n",
              "      <th>s3</th>\n",
              "      <th>s4</th>\n",
              "      <th>s5</th>\n",
              "      <th>s6</th>\n",
              "      <th>s7</th>\n",
              "      <th>s8</th>\n",
              "      <th>s9</th>\n",
              "      <th>s10</th>\n",
              "      <th>s11</th>\n",
              "      <th>s12</th>\n",
              "      <th>s13</th>\n",
              "      <th>s14</th>\n",
              "      <th>s15</th>\n",
              "      <th>s16</th>\n",
              "      <th>s17</th>\n",
              "      <th>s18</th>\n",
              "      <th>s19</th>\n",
              "      <th>s20</th>\n",
              "      <th>s21</th>\n",
              "    </tr>\n",
              "  </thead>\n",
              "  <tbody>\n",
              "    <tr>\n",
              "      <th>0</th>\n",
              "      <td>1</td>\n",
              "      <td>1</td>\n",
              "      <td>-0.0007</td>\n",
              "      <td>-0.0004</td>\n",
              "      <td>100.0</td>\n",
              "      <td>518.67</td>\n",
              "      <td>641.82</td>\n",
              "      <td>1589.70</td>\n",
              "      <td>1400.60</td>\n",
              "      <td>14.62</td>\n",
              "      <td>21.61</td>\n",
              "      <td>554.36</td>\n",
              "      <td>2388.06</td>\n",
              "      <td>9046.19</td>\n",
              "      <td>1.3</td>\n",
              "      <td>47.47</td>\n",
              "      <td>521.66</td>\n",
              "      <td>2388.02</td>\n",
              "      <td>8138.62</td>\n",
              "      <td>8.4195</td>\n",
              "      <td>0.03</td>\n",
              "      <td>392</td>\n",
              "      <td>2388</td>\n",
              "      <td>100.0</td>\n",
              "      <td>39.06</td>\n",
              "      <td>23.4190</td>\n",
              "    </tr>\n",
              "    <tr>\n",
              "      <th>1</th>\n",
              "      <td>1</td>\n",
              "      <td>2</td>\n",
              "      <td>0.0019</td>\n",
              "      <td>-0.0003</td>\n",
              "      <td>100.0</td>\n",
              "      <td>518.67</td>\n",
              "      <td>642.15</td>\n",
              "      <td>1591.82</td>\n",
              "      <td>1403.14</td>\n",
              "      <td>14.62</td>\n",
              "      <td>21.61</td>\n",
              "      <td>553.75</td>\n",
              "      <td>2388.04</td>\n",
              "      <td>9044.07</td>\n",
              "      <td>1.3</td>\n",
              "      <td>47.49</td>\n",
              "      <td>522.28</td>\n",
              "      <td>2388.07</td>\n",
              "      <td>8131.49</td>\n",
              "      <td>8.4318</td>\n",
              "      <td>0.03</td>\n",
              "      <td>392</td>\n",
              "      <td>2388</td>\n",
              "      <td>100.0</td>\n",
              "      <td>39.00</td>\n",
              "      <td>23.4236</td>\n",
              "    </tr>\n",
              "    <tr>\n",
              "      <th>2</th>\n",
              "      <td>1</td>\n",
              "      <td>3</td>\n",
              "      <td>-0.0043</td>\n",
              "      <td>0.0003</td>\n",
              "      <td>100.0</td>\n",
              "      <td>518.67</td>\n",
              "      <td>642.35</td>\n",
              "      <td>1587.99</td>\n",
              "      <td>1404.20</td>\n",
              "      <td>14.62</td>\n",
              "      <td>21.61</td>\n",
              "      <td>554.26</td>\n",
              "      <td>2388.08</td>\n",
              "      <td>9052.94</td>\n",
              "      <td>1.3</td>\n",
              "      <td>47.27</td>\n",
              "      <td>522.42</td>\n",
              "      <td>2388.03</td>\n",
              "      <td>8133.23</td>\n",
              "      <td>8.4178</td>\n",
              "      <td>0.03</td>\n",
              "      <td>390</td>\n",
              "      <td>2388</td>\n",
              "      <td>100.0</td>\n",
              "      <td>38.95</td>\n",
              "      <td>23.3442</td>\n",
              "    </tr>\n",
              "    <tr>\n",
              "      <th>3</th>\n",
              "      <td>1</td>\n",
              "      <td>4</td>\n",
              "      <td>0.0007</td>\n",
              "      <td>0.0000</td>\n",
              "      <td>100.0</td>\n",
              "      <td>518.67</td>\n",
              "      <td>642.35</td>\n",
              "      <td>1582.79</td>\n",
              "      <td>1401.87</td>\n",
              "      <td>14.62</td>\n",
              "      <td>21.61</td>\n",
              "      <td>554.45</td>\n",
              "      <td>2388.11</td>\n",
              "      <td>9049.48</td>\n",
              "      <td>1.3</td>\n",
              "      <td>47.13</td>\n",
              "      <td>522.86</td>\n",
              "      <td>2388.08</td>\n",
              "      <td>8133.83</td>\n",
              "      <td>8.3682</td>\n",
              "      <td>0.03</td>\n",
              "      <td>392</td>\n",
              "      <td>2388</td>\n",
              "      <td>100.0</td>\n",
              "      <td>38.88</td>\n",
              "      <td>23.3739</td>\n",
              "    </tr>\n",
              "    <tr>\n",
              "      <th>4</th>\n",
              "      <td>1</td>\n",
              "      <td>5</td>\n",
              "      <td>-0.0019</td>\n",
              "      <td>-0.0002</td>\n",
              "      <td>100.0</td>\n",
              "      <td>518.67</td>\n",
              "      <td>642.37</td>\n",
              "      <td>1582.85</td>\n",
              "      <td>1406.22</td>\n",
              "      <td>14.62</td>\n",
              "      <td>21.61</td>\n",
              "      <td>554.00</td>\n",
              "      <td>2388.06</td>\n",
              "      <td>9055.15</td>\n",
              "      <td>1.3</td>\n",
              "      <td>47.28</td>\n",
              "      <td>522.19</td>\n",
              "      <td>2388.04</td>\n",
              "      <td>8133.80</td>\n",
              "      <td>8.4294</td>\n",
              "      <td>0.03</td>\n",
              "      <td>393</td>\n",
              "      <td>2388</td>\n",
              "      <td>100.0</td>\n",
              "      <td>38.90</td>\n",
              "      <td>23.4044</td>\n",
              "    </tr>\n",
              "  </tbody>\n",
              "</table>\n",
              "</div>"
            ],
            "text/plain": [
              "   id  cycle  setting1  setting2  setting3  ...  s17   s18    s19    s20      s21\n",
              "0   1      1   -0.0007   -0.0004     100.0  ...  392  2388  100.0  39.06  23.4190\n",
              "1   1      2    0.0019   -0.0003     100.0  ...  392  2388  100.0  39.00  23.4236\n",
              "2   1      3   -0.0043    0.0003     100.0  ...  390  2388  100.0  38.95  23.3442\n",
              "3   1      4    0.0007    0.0000     100.0  ...  392  2388  100.0  38.88  23.3739\n",
              "4   1      5   -0.0019   -0.0002     100.0  ...  393  2388  100.0  38.90  23.4044\n",
              "\n",
              "[5 rows x 26 columns]"
            ]
          },
          "metadata": {
            "tags": []
          },
          "execution_count": 32
        }
      ]
    },
    {
      "cell_type": "code",
      "metadata": {
        "id": "x8gKd934V2by",
        "colab_type": "code",
        "colab": {}
      },
      "source": [
        "train_df.columns\n",
        "cols = ['setting1', 'setting2', 'setting3', 's1', 's2', 's3',\n",
        "       's4', 's5', 's6', 's7', 's8', 's9', 's10', 's11', 's12', 's13', 's14',\n",
        "       's15', 's16', 's17', 's18', 's19', 's20', 's21']"
      ],
      "execution_count": 0,
      "outputs": []
    },
    {
      "cell_type": "code",
      "metadata": {
        "id": "OWoPxEbYV2b4",
        "colab_type": "code",
        "outputId": "1d48265b-869d-4899-9615-fc19fcb6a583",
        "colab": {
          "base_uri": "https://localhost:8080/",
          "height": 34
        }
      },
      "source": [
        "train_df.columns[2]"
      ],
      "execution_count": 0,
      "outputs": [
        {
          "output_type": "execute_result",
          "data": {
            "text/plain": [
              "'setting1'"
            ]
          },
          "metadata": {
            "tags": []
          },
          "execution_count": 34
        }
      ]
    },
    {
      "cell_type": "code",
      "metadata": {
        "id": "Ciyqr-tHV2cA",
        "colab_type": "code",
        "outputId": "705af5cd-13b4-4ef4-b995-57e315c57355",
        "colab": {
          "base_uri": "https://localhost:8080/",
          "height": 434
        }
      },
      "source": [
        "for cols in train_df.columns:\n",
        "    if cols == 'id':\n",
        "        continue;\n",
        "    if cols == 'cycle':\n",
        "        continue;\n",
        "    else:\n",
        "        print(cols)\n",
        "        kf = KalmanFilter(transition_matrices = [1],\n",
        "                      observation_matrices = [1],\n",
        "                      initial_state_mean = train_df[cols].values[0],\n",
        "                      initial_state_covariance = 1,\n",
        "                      observation_covariance=1,\n",
        "                      transition_covariance=.01)\n",
        "        state_means,_ = kf.filter(train_df[cols].values)\n",
        "        train_df[cols] = state_means.flatten()"
      ],
      "execution_count": 0,
      "outputs": [
        {
          "output_type": "stream",
          "text": [
            "setting1\n",
            "setting2\n",
            "setting3\n",
            "s1\n",
            "s2\n",
            "s3\n",
            "s4\n",
            "s5\n",
            "s6\n",
            "s7\n",
            "s8\n",
            "s9\n",
            "s10\n",
            "s11\n",
            "s12\n",
            "s13\n",
            "s14\n",
            "s15\n",
            "s16\n",
            "s17\n",
            "s18\n",
            "s19\n",
            "s20\n",
            "s21\n"
          ],
          "name": "stdout"
        }
      ]
    },
    {
      "cell_type": "code",
      "metadata": {
        "id": "dhHU1UJbV2cI",
        "colab_type": "code",
        "colab": {}
      },
      "source": [
        "# read test data\n",
        "test_df = pd.read_csv('test_01.txt', sep=\" \", header=None)\n",
        "test_df.drop(test_df.columns[[26, 27]], axis=1, inplace=True)\n",
        "test_df.columns = ['id', 'cycle', 'setting1', 'setting2', 'setting3', 's1', 's2', 's3',\n",
        "                     's4', 's5', 's6', 's7', 's8', 's9', 's10', 's11', 's12', 's13', 's14',\n",
        "                     's15', 's16', 's17', 's18', 's19', 's20', 's21']"
      ],
      "execution_count": 0,
      "outputs": []
    },
    {
      "cell_type": "code",
      "metadata": {
        "id": "QgR4t9CRV2cO",
        "colab_type": "code",
        "outputId": "87bbc728-867a-4a43-a584-1597e71ba010",
        "colab": {
          "base_uri": "https://localhost:8080/",
          "height": 434
        }
      },
      "source": [
        "for cols in test_df.columns:\n",
        "    if cols == 'id':\n",
        "        continue;\n",
        "    if cols == 'cycle':\n",
        "        continue;\n",
        "    else:\n",
        "        print(cols)\n",
        "        kf = KalmanFilter(transition_matrices = [1],\n",
        "                      observation_matrices = [1],\n",
        "                      initial_state_mean = test_df[cols].values[0],\n",
        "                      initial_state_covariance = 1,\n",
        "                      observation_covariance=1,\n",
        "                      transition_covariance=.01)\n",
        "        state_means,_ = kf.filter(test_df[cols].values)\n",
        "        test_df[cols] = state_means.flatten()"
      ],
      "execution_count": 0,
      "outputs": [
        {
          "output_type": "stream",
          "text": [
            "setting1\n",
            "setting2\n",
            "setting3\n",
            "s1\n",
            "s2\n",
            "s3\n",
            "s4\n",
            "s5\n",
            "s6\n",
            "s7\n",
            "s8\n",
            "s9\n",
            "s10\n",
            "s11\n",
            "s12\n",
            "s13\n",
            "s14\n",
            "s15\n",
            "s16\n",
            "s17\n",
            "s18\n",
            "s19\n",
            "s20\n",
            "s21\n"
          ],
          "name": "stdout"
        }
      ]
    },
    {
      "cell_type": "code",
      "metadata": {
        "id": "aAGq5cXmV2cU",
        "colab_type": "code",
        "colab": {}
      },
      "source": [
        "# read ground truth data\n",
        "truth_df = pd.read_csv('truth_01.txt', sep=\" \", header=None)\n",
        "truth_df.drop(truth_df.columns[[1]], axis=1, inplace=True)"
      ],
      "execution_count": 0,
      "outputs": []
    },
    {
      "cell_type": "code",
      "metadata": {
        "id": "XKtygN-2V2ca",
        "colab_type": "code",
        "outputId": "72f2fd1e-8d3c-4fe4-8155-bc3063a19683",
        "colab": {
          "base_uri": "https://localhost:8080/",
          "height": 226
        }
      },
      "source": [
        "train_df = train_df.sort_values(['id','cycle'])\n",
        "train_df.head()"
      ],
      "execution_count": 0,
      "outputs": [
        {
          "output_type": "execute_result",
          "data": {
            "text/html": [
              "<div>\n",
              "<style scoped>\n",
              "    .dataframe tbody tr th:only-of-type {\n",
              "        vertical-align: middle;\n",
              "    }\n",
              "\n",
              "    .dataframe tbody tr th {\n",
              "        vertical-align: top;\n",
              "    }\n",
              "\n",
              "    .dataframe thead th {\n",
              "        text-align: right;\n",
              "    }\n",
              "</style>\n",
              "<table border=\"1\" class=\"dataframe\">\n",
              "  <thead>\n",
              "    <tr style=\"text-align: right;\">\n",
              "      <th></th>\n",
              "      <th>id</th>\n",
              "      <th>cycle</th>\n",
              "      <th>setting1</th>\n",
              "      <th>setting2</th>\n",
              "      <th>setting3</th>\n",
              "      <th>s1</th>\n",
              "      <th>s2</th>\n",
              "      <th>s3</th>\n",
              "      <th>s4</th>\n",
              "      <th>s5</th>\n",
              "      <th>s6</th>\n",
              "      <th>s7</th>\n",
              "      <th>s8</th>\n",
              "      <th>s9</th>\n",
              "      <th>s10</th>\n",
              "      <th>s11</th>\n",
              "      <th>s12</th>\n",
              "      <th>s13</th>\n",
              "      <th>s14</th>\n",
              "      <th>s15</th>\n",
              "      <th>s16</th>\n",
              "      <th>s17</th>\n",
              "      <th>s18</th>\n",
              "      <th>s19</th>\n",
              "      <th>s20</th>\n",
              "      <th>s21</th>\n",
              "    </tr>\n",
              "  </thead>\n",
              "  <tbody>\n",
              "    <tr>\n",
              "      <th>0</th>\n",
              "      <td>1</td>\n",
              "      <td>1</td>\n",
              "      <td>-0.000700</td>\n",
              "      <td>-0.000400</td>\n",
              "      <td>100.0</td>\n",
              "      <td>518.67</td>\n",
              "      <td>641.820000</td>\n",
              "      <td>1589.700000</td>\n",
              "      <td>1400.600000</td>\n",
              "      <td>14.62</td>\n",
              "      <td>21.61</td>\n",
              "      <td>554.360000</td>\n",
              "      <td>2388.060000</td>\n",
              "      <td>9046.190000</td>\n",
              "      <td>1.3</td>\n",
              "      <td>47.470000</td>\n",
              "      <td>521.660000</td>\n",
              "      <td>2388.020000</td>\n",
              "      <td>8138.620000</td>\n",
              "      <td>8.419500</td>\n",
              "      <td>0.03</td>\n",
              "      <td>392.000000</td>\n",
              "      <td>2388.0</td>\n",
              "      <td>100.0</td>\n",
              "      <td>39.060000</td>\n",
              "      <td>23.419000</td>\n",
              "    </tr>\n",
              "    <tr>\n",
              "      <th>1</th>\n",
              "      <td>1</td>\n",
              "      <td>2</td>\n",
              "      <td>0.000178</td>\n",
              "      <td>-0.000366</td>\n",
              "      <td>100.0</td>\n",
              "      <td>518.67</td>\n",
              "      <td>641.931457</td>\n",
              "      <td>1590.416026</td>\n",
              "      <td>1401.457881</td>\n",
              "      <td>14.62</td>\n",
              "      <td>21.61</td>\n",
              "      <td>554.153974</td>\n",
              "      <td>2388.053245</td>\n",
              "      <td>9045.473974</td>\n",
              "      <td>1.3</td>\n",
              "      <td>47.476755</td>\n",
              "      <td>521.869404</td>\n",
              "      <td>2388.036887</td>\n",
              "      <td>8136.211854</td>\n",
              "      <td>8.423654</td>\n",
              "      <td>0.03</td>\n",
              "      <td>392.000000</td>\n",
              "      <td>2388.0</td>\n",
              "      <td>100.0</td>\n",
              "      <td>39.039735</td>\n",
              "      <td>23.420554</td>\n",
              "    </tr>\n",
              "    <tr>\n",
              "      <th>2</th>\n",
              "      <td>1</td>\n",
              "      <td>3</td>\n",
              "      <td>-0.000977</td>\n",
              "      <td>-0.000194</td>\n",
              "      <td>100.0</td>\n",
              "      <td>518.67</td>\n",
              "      <td>642.039450</td>\n",
              "      <td>1589.790059</td>\n",
              "      <td>1402.165407</td>\n",
              "      <td>14.62</td>\n",
              "      <td>21.61</td>\n",
              "      <td>554.181331</td>\n",
              "      <td>2388.060148</td>\n",
              "      <td>9047.400370</td>\n",
              "      <td>1.3</td>\n",
              "      <td>47.423408</td>\n",
              "      <td>522.011470</td>\n",
              "      <td>2388.035110</td>\n",
              "      <td>8135.442471</td>\n",
              "      <td>8.422144</td>\n",
              "      <td>0.03</td>\n",
              "      <td>391.483957</td>\n",
              "      <td>2388.0</td>\n",
              "      <td>100.0</td>\n",
              "      <td>39.016581</td>\n",
              "      <td>23.400853</td>\n",
              "    </tr>\n",
              "    <tr>\n",
              "      <th>3</th>\n",
              "      <td>1</td>\n",
              "      <td>4</td>\n",
              "      <td>-0.000623</td>\n",
              "      <td>-0.000153</td>\n",
              "      <td>100.0</td>\n",
              "      <td>518.67</td>\n",
              "      <td>642.105091</td>\n",
              "      <td>1588.310457</td>\n",
              "      <td>1402.102967</td>\n",
              "      <td>14.62</td>\n",
              "      <td>21.61</td>\n",
              "      <td>554.238119</td>\n",
              "      <td>2388.070686</td>\n",
              "      <td>9047.839942</td>\n",
              "      <td>1.3</td>\n",
              "      <td>47.361390</td>\n",
              "      <td>522.190824</td>\n",
              "      <td>2388.044599</td>\n",
              "      <td>8135.101643</td>\n",
              "      <td>8.410742</td>\n",
              "      <td>0.03</td>\n",
              "      <td>391.593033</td>\n",
              "      <td>2388.0</td>\n",
              "      <td>100.0</td>\n",
              "      <td>38.987712</td>\n",
              "      <td>23.395156</td>\n",
              "    </tr>\n",
              "    <tr>\n",
              "      <th>4</th>\n",
              "      <td>1</td>\n",
              "      <td>5</td>\n",
              "      <td>-0.000854</td>\n",
              "      <td>-0.000162</td>\n",
              "      <td>100.0</td>\n",
              "      <td>518.67</td>\n",
              "      <td>642.153105</td>\n",
              "      <td>1587.320764</td>\n",
              "      <td>1402.849168</td>\n",
              "      <td>14.62</td>\n",
              "      <td>21.61</td>\n",
              "      <td>554.194961</td>\n",
              "      <td>2388.068749</td>\n",
              "      <td>9049.164870</td>\n",
              "      <td>1.3</td>\n",
              "      <td>47.346638</td>\n",
              "      <td>522.190674</td>\n",
              "      <td>2388.043765</td>\n",
              "      <td>8134.865724</td>\n",
              "      <td>8.414123</td>\n",
              "      <td>0.03</td>\n",
              "      <td>391.848042</td>\n",
              "      <td>2388.0</td>\n",
              "      <td>100.0</td>\n",
              "      <td>38.971815</td>\n",
              "      <td>23.396831</td>\n",
              "    </tr>\n",
              "  </tbody>\n",
              "</table>\n",
              "</div>"
            ],
            "text/plain": [
              "   id  cycle  setting1  setting2  ...     s18    s19        s20        s21\n",
              "0   1      1 -0.000700 -0.000400  ...  2388.0  100.0  39.060000  23.419000\n",
              "1   1      2  0.000178 -0.000366  ...  2388.0  100.0  39.039735  23.420554\n",
              "2   1      3 -0.000977 -0.000194  ...  2388.0  100.0  39.016581  23.400853\n",
              "3   1      4 -0.000623 -0.000153  ...  2388.0  100.0  38.987712  23.395156\n",
              "4   1      5 -0.000854 -0.000162  ...  2388.0  100.0  38.971815  23.396831\n",
              "\n",
              "[5 rows x 26 columns]"
            ]
          },
          "metadata": {
            "tags": []
          },
          "execution_count": 39
        }
      ]
    },
    {
      "cell_type": "markdown",
      "metadata": {
        "id": "Q8KWzp-nV2cg",
        "colab_type": "text"
      },
      "source": [
        "## Generate True Labels (RUL) for Train Data"
      ]
    },
    {
      "cell_type": "code",
      "metadata": {
        "id": "iHNspPvZV2ci",
        "colab_type": "code",
        "outputId": "15b2ba9a-5909-4bca-b91a-47bda825b2a7",
        "colab": {
          "base_uri": "https://localhost:8080/",
          "height": 226
        }
      },
      "source": [
        "# Data Labeling - generate column RUL\n",
        "rul = pd.DataFrame(train_df.groupby('id')['cycle'].max()).reset_index()\n",
        "rul.columns = ['id', 'max']\n",
        "train_df = train_df.merge(rul, on=['id'], how='left')\n",
        "train_df['RUL'] = train_df['max'] - train_df['cycle']\n",
        "train_df.drop('max', axis=1, inplace=True)\n",
        "train_df.head()"
      ],
      "execution_count": 0,
      "outputs": [
        {
          "output_type": "execute_result",
          "data": {
            "text/html": [
              "<div>\n",
              "<style scoped>\n",
              "    .dataframe tbody tr th:only-of-type {\n",
              "        vertical-align: middle;\n",
              "    }\n",
              "\n",
              "    .dataframe tbody tr th {\n",
              "        vertical-align: top;\n",
              "    }\n",
              "\n",
              "    .dataframe thead th {\n",
              "        text-align: right;\n",
              "    }\n",
              "</style>\n",
              "<table border=\"1\" class=\"dataframe\">\n",
              "  <thead>\n",
              "    <tr style=\"text-align: right;\">\n",
              "      <th></th>\n",
              "      <th>id</th>\n",
              "      <th>cycle</th>\n",
              "      <th>setting1</th>\n",
              "      <th>setting2</th>\n",
              "      <th>setting3</th>\n",
              "      <th>s1</th>\n",
              "      <th>s2</th>\n",
              "      <th>s3</th>\n",
              "      <th>s4</th>\n",
              "      <th>s5</th>\n",
              "      <th>s6</th>\n",
              "      <th>s7</th>\n",
              "      <th>s8</th>\n",
              "      <th>s9</th>\n",
              "      <th>s10</th>\n",
              "      <th>s11</th>\n",
              "      <th>s12</th>\n",
              "      <th>s13</th>\n",
              "      <th>s14</th>\n",
              "      <th>s15</th>\n",
              "      <th>s16</th>\n",
              "      <th>s17</th>\n",
              "      <th>s18</th>\n",
              "      <th>s19</th>\n",
              "      <th>s20</th>\n",
              "      <th>s21</th>\n",
              "      <th>RUL</th>\n",
              "    </tr>\n",
              "  </thead>\n",
              "  <tbody>\n",
              "    <tr>\n",
              "      <th>0</th>\n",
              "      <td>1</td>\n",
              "      <td>1</td>\n",
              "      <td>-0.000700</td>\n",
              "      <td>-0.000400</td>\n",
              "      <td>100.0</td>\n",
              "      <td>518.67</td>\n",
              "      <td>641.820000</td>\n",
              "      <td>1589.700000</td>\n",
              "      <td>1400.600000</td>\n",
              "      <td>14.62</td>\n",
              "      <td>21.61</td>\n",
              "      <td>554.360000</td>\n",
              "      <td>2388.060000</td>\n",
              "      <td>9046.190000</td>\n",
              "      <td>1.3</td>\n",
              "      <td>47.470000</td>\n",
              "      <td>521.660000</td>\n",
              "      <td>2388.020000</td>\n",
              "      <td>8138.620000</td>\n",
              "      <td>8.419500</td>\n",
              "      <td>0.03</td>\n",
              "      <td>392.000000</td>\n",
              "      <td>2388.0</td>\n",
              "      <td>100.0</td>\n",
              "      <td>39.060000</td>\n",
              "      <td>23.419000</td>\n",
              "      <td>191</td>\n",
              "    </tr>\n",
              "    <tr>\n",
              "      <th>1</th>\n",
              "      <td>1</td>\n",
              "      <td>2</td>\n",
              "      <td>0.000178</td>\n",
              "      <td>-0.000366</td>\n",
              "      <td>100.0</td>\n",
              "      <td>518.67</td>\n",
              "      <td>641.931457</td>\n",
              "      <td>1590.416026</td>\n",
              "      <td>1401.457881</td>\n",
              "      <td>14.62</td>\n",
              "      <td>21.61</td>\n",
              "      <td>554.153974</td>\n",
              "      <td>2388.053245</td>\n",
              "      <td>9045.473974</td>\n",
              "      <td>1.3</td>\n",
              "      <td>47.476755</td>\n",
              "      <td>521.869404</td>\n",
              "      <td>2388.036887</td>\n",
              "      <td>8136.211854</td>\n",
              "      <td>8.423654</td>\n",
              "      <td>0.03</td>\n",
              "      <td>392.000000</td>\n",
              "      <td>2388.0</td>\n",
              "      <td>100.0</td>\n",
              "      <td>39.039735</td>\n",
              "      <td>23.420554</td>\n",
              "      <td>190</td>\n",
              "    </tr>\n",
              "    <tr>\n",
              "      <th>2</th>\n",
              "      <td>1</td>\n",
              "      <td>3</td>\n",
              "      <td>-0.000977</td>\n",
              "      <td>-0.000194</td>\n",
              "      <td>100.0</td>\n",
              "      <td>518.67</td>\n",
              "      <td>642.039450</td>\n",
              "      <td>1589.790059</td>\n",
              "      <td>1402.165407</td>\n",
              "      <td>14.62</td>\n",
              "      <td>21.61</td>\n",
              "      <td>554.181331</td>\n",
              "      <td>2388.060148</td>\n",
              "      <td>9047.400370</td>\n",
              "      <td>1.3</td>\n",
              "      <td>47.423408</td>\n",
              "      <td>522.011470</td>\n",
              "      <td>2388.035110</td>\n",
              "      <td>8135.442471</td>\n",
              "      <td>8.422144</td>\n",
              "      <td>0.03</td>\n",
              "      <td>391.483957</td>\n",
              "      <td>2388.0</td>\n",
              "      <td>100.0</td>\n",
              "      <td>39.016581</td>\n",
              "      <td>23.400853</td>\n",
              "      <td>189</td>\n",
              "    </tr>\n",
              "    <tr>\n",
              "      <th>3</th>\n",
              "      <td>1</td>\n",
              "      <td>4</td>\n",
              "      <td>-0.000623</td>\n",
              "      <td>-0.000153</td>\n",
              "      <td>100.0</td>\n",
              "      <td>518.67</td>\n",
              "      <td>642.105091</td>\n",
              "      <td>1588.310457</td>\n",
              "      <td>1402.102967</td>\n",
              "      <td>14.62</td>\n",
              "      <td>21.61</td>\n",
              "      <td>554.238119</td>\n",
              "      <td>2388.070686</td>\n",
              "      <td>9047.839942</td>\n",
              "      <td>1.3</td>\n",
              "      <td>47.361390</td>\n",
              "      <td>522.190824</td>\n",
              "      <td>2388.044599</td>\n",
              "      <td>8135.101643</td>\n",
              "      <td>8.410742</td>\n",
              "      <td>0.03</td>\n",
              "      <td>391.593033</td>\n",
              "      <td>2388.0</td>\n",
              "      <td>100.0</td>\n",
              "      <td>38.987712</td>\n",
              "      <td>23.395156</td>\n",
              "      <td>188</td>\n",
              "    </tr>\n",
              "    <tr>\n",
              "      <th>4</th>\n",
              "      <td>1</td>\n",
              "      <td>5</td>\n",
              "      <td>-0.000854</td>\n",
              "      <td>-0.000162</td>\n",
              "      <td>100.0</td>\n",
              "      <td>518.67</td>\n",
              "      <td>642.153105</td>\n",
              "      <td>1587.320764</td>\n",
              "      <td>1402.849168</td>\n",
              "      <td>14.62</td>\n",
              "      <td>21.61</td>\n",
              "      <td>554.194961</td>\n",
              "      <td>2388.068749</td>\n",
              "      <td>9049.164870</td>\n",
              "      <td>1.3</td>\n",
              "      <td>47.346638</td>\n",
              "      <td>522.190674</td>\n",
              "      <td>2388.043765</td>\n",
              "      <td>8134.865724</td>\n",
              "      <td>8.414123</td>\n",
              "      <td>0.03</td>\n",
              "      <td>391.848042</td>\n",
              "      <td>2388.0</td>\n",
              "      <td>100.0</td>\n",
              "      <td>38.971815</td>\n",
              "      <td>23.396831</td>\n",
              "      <td>187</td>\n",
              "    </tr>\n",
              "  </tbody>\n",
              "</table>\n",
              "</div>"
            ],
            "text/plain": [
              "   id  cycle  setting1  setting2  ...    s19        s20        s21  RUL\n",
              "0   1      1 -0.000700 -0.000400  ...  100.0  39.060000  23.419000  191\n",
              "1   1      2  0.000178 -0.000366  ...  100.0  39.039735  23.420554  190\n",
              "2   1      3 -0.000977 -0.000194  ...  100.0  39.016581  23.400853  189\n",
              "3   1      4 -0.000623 -0.000153  ...  100.0  38.987712  23.395156  188\n",
              "4   1      5 -0.000854 -0.000162  ...  100.0  38.971815  23.396831  187\n",
              "\n",
              "[5 rows x 27 columns]"
            ]
          },
          "metadata": {
            "tags": []
          },
          "execution_count": 40
        }
      ]
    },
    {
      "cell_type": "code",
      "metadata": {
        "id": "IX1xFyKZV2cn",
        "colab_type": "code",
        "outputId": "cd7b947c-c3ed-4a62-c2ac-37725460088d",
        "colab": {
          "base_uri": "https://localhost:8080/",
          "height": 226
        }
      },
      "source": [
        "# generate label columns for training data\n",
        "w1 = 30\n",
        "w0 = 15\n",
        "train_df['label1'] = np.where(train_df['RUL'] <= w1, 1, 0 )\n",
        "train_df['label2'] = train_df['label1']\n",
        "train_df.loc[train_df['RUL'] <= w0, 'label2'] = 2\n",
        "train_df.head()"
      ],
      "execution_count": 0,
      "outputs": [
        {
          "output_type": "execute_result",
          "data": {
            "text/html": [
              "<div>\n",
              "<style scoped>\n",
              "    .dataframe tbody tr th:only-of-type {\n",
              "        vertical-align: middle;\n",
              "    }\n",
              "\n",
              "    .dataframe tbody tr th {\n",
              "        vertical-align: top;\n",
              "    }\n",
              "\n",
              "    .dataframe thead th {\n",
              "        text-align: right;\n",
              "    }\n",
              "</style>\n",
              "<table border=\"1\" class=\"dataframe\">\n",
              "  <thead>\n",
              "    <tr style=\"text-align: right;\">\n",
              "      <th></th>\n",
              "      <th>id</th>\n",
              "      <th>cycle</th>\n",
              "      <th>setting1</th>\n",
              "      <th>setting2</th>\n",
              "      <th>setting3</th>\n",
              "      <th>s1</th>\n",
              "      <th>s2</th>\n",
              "      <th>s3</th>\n",
              "      <th>s4</th>\n",
              "      <th>s5</th>\n",
              "      <th>s6</th>\n",
              "      <th>s7</th>\n",
              "      <th>s8</th>\n",
              "      <th>s9</th>\n",
              "      <th>s10</th>\n",
              "      <th>s11</th>\n",
              "      <th>s12</th>\n",
              "      <th>s13</th>\n",
              "      <th>s14</th>\n",
              "      <th>s15</th>\n",
              "      <th>s16</th>\n",
              "      <th>s17</th>\n",
              "      <th>s18</th>\n",
              "      <th>s19</th>\n",
              "      <th>s20</th>\n",
              "      <th>s21</th>\n",
              "      <th>RUL</th>\n",
              "      <th>label1</th>\n",
              "      <th>label2</th>\n",
              "    </tr>\n",
              "  </thead>\n",
              "  <tbody>\n",
              "    <tr>\n",
              "      <th>0</th>\n",
              "      <td>1</td>\n",
              "      <td>1</td>\n",
              "      <td>-0.000700</td>\n",
              "      <td>-0.000400</td>\n",
              "      <td>100.0</td>\n",
              "      <td>518.67</td>\n",
              "      <td>641.820000</td>\n",
              "      <td>1589.700000</td>\n",
              "      <td>1400.600000</td>\n",
              "      <td>14.62</td>\n",
              "      <td>21.61</td>\n",
              "      <td>554.360000</td>\n",
              "      <td>2388.060000</td>\n",
              "      <td>9046.190000</td>\n",
              "      <td>1.3</td>\n",
              "      <td>47.470000</td>\n",
              "      <td>521.660000</td>\n",
              "      <td>2388.020000</td>\n",
              "      <td>8138.620000</td>\n",
              "      <td>8.419500</td>\n",
              "      <td>0.03</td>\n",
              "      <td>392.000000</td>\n",
              "      <td>2388.0</td>\n",
              "      <td>100.0</td>\n",
              "      <td>39.060000</td>\n",
              "      <td>23.419000</td>\n",
              "      <td>191</td>\n",
              "      <td>0</td>\n",
              "      <td>0</td>\n",
              "    </tr>\n",
              "    <tr>\n",
              "      <th>1</th>\n",
              "      <td>1</td>\n",
              "      <td>2</td>\n",
              "      <td>0.000178</td>\n",
              "      <td>-0.000366</td>\n",
              "      <td>100.0</td>\n",
              "      <td>518.67</td>\n",
              "      <td>641.931457</td>\n",
              "      <td>1590.416026</td>\n",
              "      <td>1401.457881</td>\n",
              "      <td>14.62</td>\n",
              "      <td>21.61</td>\n",
              "      <td>554.153974</td>\n",
              "      <td>2388.053245</td>\n",
              "      <td>9045.473974</td>\n",
              "      <td>1.3</td>\n",
              "      <td>47.476755</td>\n",
              "      <td>521.869404</td>\n",
              "      <td>2388.036887</td>\n",
              "      <td>8136.211854</td>\n",
              "      <td>8.423654</td>\n",
              "      <td>0.03</td>\n",
              "      <td>392.000000</td>\n",
              "      <td>2388.0</td>\n",
              "      <td>100.0</td>\n",
              "      <td>39.039735</td>\n",
              "      <td>23.420554</td>\n",
              "      <td>190</td>\n",
              "      <td>0</td>\n",
              "      <td>0</td>\n",
              "    </tr>\n",
              "    <tr>\n",
              "      <th>2</th>\n",
              "      <td>1</td>\n",
              "      <td>3</td>\n",
              "      <td>-0.000977</td>\n",
              "      <td>-0.000194</td>\n",
              "      <td>100.0</td>\n",
              "      <td>518.67</td>\n",
              "      <td>642.039450</td>\n",
              "      <td>1589.790059</td>\n",
              "      <td>1402.165407</td>\n",
              "      <td>14.62</td>\n",
              "      <td>21.61</td>\n",
              "      <td>554.181331</td>\n",
              "      <td>2388.060148</td>\n",
              "      <td>9047.400370</td>\n",
              "      <td>1.3</td>\n",
              "      <td>47.423408</td>\n",
              "      <td>522.011470</td>\n",
              "      <td>2388.035110</td>\n",
              "      <td>8135.442471</td>\n",
              "      <td>8.422144</td>\n",
              "      <td>0.03</td>\n",
              "      <td>391.483957</td>\n",
              "      <td>2388.0</td>\n",
              "      <td>100.0</td>\n",
              "      <td>39.016581</td>\n",
              "      <td>23.400853</td>\n",
              "      <td>189</td>\n",
              "      <td>0</td>\n",
              "      <td>0</td>\n",
              "    </tr>\n",
              "    <tr>\n",
              "      <th>3</th>\n",
              "      <td>1</td>\n",
              "      <td>4</td>\n",
              "      <td>-0.000623</td>\n",
              "      <td>-0.000153</td>\n",
              "      <td>100.0</td>\n",
              "      <td>518.67</td>\n",
              "      <td>642.105091</td>\n",
              "      <td>1588.310457</td>\n",
              "      <td>1402.102967</td>\n",
              "      <td>14.62</td>\n",
              "      <td>21.61</td>\n",
              "      <td>554.238119</td>\n",
              "      <td>2388.070686</td>\n",
              "      <td>9047.839942</td>\n",
              "      <td>1.3</td>\n",
              "      <td>47.361390</td>\n",
              "      <td>522.190824</td>\n",
              "      <td>2388.044599</td>\n",
              "      <td>8135.101643</td>\n",
              "      <td>8.410742</td>\n",
              "      <td>0.03</td>\n",
              "      <td>391.593033</td>\n",
              "      <td>2388.0</td>\n",
              "      <td>100.0</td>\n",
              "      <td>38.987712</td>\n",
              "      <td>23.395156</td>\n",
              "      <td>188</td>\n",
              "      <td>0</td>\n",
              "      <td>0</td>\n",
              "    </tr>\n",
              "    <tr>\n",
              "      <th>4</th>\n",
              "      <td>1</td>\n",
              "      <td>5</td>\n",
              "      <td>-0.000854</td>\n",
              "      <td>-0.000162</td>\n",
              "      <td>100.0</td>\n",
              "      <td>518.67</td>\n",
              "      <td>642.153105</td>\n",
              "      <td>1587.320764</td>\n",
              "      <td>1402.849168</td>\n",
              "      <td>14.62</td>\n",
              "      <td>21.61</td>\n",
              "      <td>554.194961</td>\n",
              "      <td>2388.068749</td>\n",
              "      <td>9049.164870</td>\n",
              "      <td>1.3</td>\n",
              "      <td>47.346638</td>\n",
              "      <td>522.190674</td>\n",
              "      <td>2388.043765</td>\n",
              "      <td>8134.865724</td>\n",
              "      <td>8.414123</td>\n",
              "      <td>0.03</td>\n",
              "      <td>391.848042</td>\n",
              "      <td>2388.0</td>\n",
              "      <td>100.0</td>\n",
              "      <td>38.971815</td>\n",
              "      <td>23.396831</td>\n",
              "      <td>187</td>\n",
              "      <td>0</td>\n",
              "      <td>0</td>\n",
              "    </tr>\n",
              "  </tbody>\n",
              "</table>\n",
              "</div>"
            ],
            "text/plain": [
              "   id  cycle  setting1  setting2  ...        s21  RUL  label1  label2\n",
              "0   1      1 -0.000700 -0.000400  ...  23.419000  191       0       0\n",
              "1   1      2  0.000178 -0.000366  ...  23.420554  190       0       0\n",
              "2   1      3 -0.000977 -0.000194  ...  23.400853  189       0       0\n",
              "3   1      4 -0.000623 -0.000153  ...  23.395156  188       0       0\n",
              "4   1      5 -0.000854 -0.000162  ...  23.396831  187       0       0\n",
              "\n",
              "[5 rows x 29 columns]"
            ]
          },
          "metadata": {
            "tags": []
          },
          "execution_count": 41
        }
      ]
    },
    {
      "cell_type": "markdown",
      "metadata": {
        "id": "odG1YBVcV2cs",
        "colab_type": "text"
      },
      "source": [
        "## Normalize Train and Test Data"
      ]
    },
    {
      "cell_type": "code",
      "metadata": {
        "id": "Lw1c_mNWV2cu",
        "colab_type": "code",
        "outputId": "8787e1f9-2f58-4cee-f535-8435a622fc17",
        "colab": {
          "base_uri": "https://localhost:8080/"
        }
      },
      "source": [
        "# MinMax normalization\n",
        "train_df['cycle_norm'] = train_df['cycle']\n",
        "cols_normalize = train_df.columns.difference(['id','cycle','RUL','label1','label2'])\n",
        "min_max_scaler = preprocessing.MinMaxScaler()\n",
        "norm_train_df = pd.DataFrame(min_max_scaler.fit_transform(train_df[cols_normalize]), \n",
        "                             columns=cols_normalize, \n",
        "                             index=train_df.index)\n",
        "join_df = train_df[train_df.columns.difference(cols_normalize)].join(norm_train_df)\n",
        "train_df = join_df.reindex(columns = train_df.columns)\n",
        "train_df.head()"
      ],
      "execution_count": 0,
      "outputs": [
        {
          "output_type": "execute_result",
          "data": {
            "text/html": [
              "<div>\n",
              "<style scoped>\n",
              "    .dataframe tbody tr th:only-of-type {\n",
              "        vertical-align: middle;\n",
              "    }\n",
              "\n",
              "    .dataframe tbody tr th {\n",
              "        vertical-align: top;\n",
              "    }\n",
              "\n",
              "    .dataframe thead th {\n",
              "        text-align: right;\n",
              "    }\n",
              "</style>\n",
              "<table border=\"1\" class=\"dataframe\">\n",
              "  <thead>\n",
              "    <tr style=\"text-align: right;\">\n",
              "      <th></th>\n",
              "      <th>id</th>\n",
              "      <th>cycle</th>\n",
              "      <th>setting1</th>\n",
              "      <th>setting2</th>\n",
              "      <th>setting3</th>\n",
              "      <th>s1</th>\n",
              "      <th>s2</th>\n",
              "      <th>s3</th>\n",
              "      <th>s4</th>\n",
              "      <th>s5</th>\n",
              "      <th>s6</th>\n",
              "      <th>s7</th>\n",
              "      <th>s8</th>\n",
              "      <th>s9</th>\n",
              "      <th>s10</th>\n",
              "      <th>s11</th>\n",
              "      <th>s12</th>\n",
              "      <th>s13</th>\n",
              "      <th>s14</th>\n",
              "      <th>s15</th>\n",
              "      <th>s16</th>\n",
              "      <th>s17</th>\n",
              "      <th>s18</th>\n",
              "      <th>s19</th>\n",
              "      <th>s20</th>\n",
              "      <th>s21</th>\n",
              "      <th>RUL</th>\n",
              "      <th>label1</th>\n",
              "      <th>label2</th>\n",
              "      <th>cycle_norm</th>\n",
              "    </tr>\n",
              "  </thead>\n",
              "  <tbody>\n",
              "    <tr>\n",
              "      <th>0</th>\n",
              "      <td>1</td>\n",
              "      <td>1</td>\n",
              "      <td>0.368542</td>\n",
              "      <td>0.000000</td>\n",
              "      <td>0.0</td>\n",
              "      <td>0.0</td>\n",
              "      <td>0.000000</td>\n",
              "      <td>0.349894</td>\n",
              "      <td>0.185846</td>\n",
              "      <td>0.0</td>\n",
              "      <td>1.0</td>\n",
              "      <td>0.878722</td>\n",
              "      <td>0.242639</td>\n",
              "      <td>0.091191</td>\n",
              "      <td>0.0</td>\n",
              "      <td>0.356551</td>\n",
              "      <td>0.685441</td>\n",
              "      <td>0.131931</td>\n",
              "      <td>0.207883</td>\n",
              "      <td>0.265399</td>\n",
              "      <td>0.0</td>\n",
              "      <td>0.184954</td>\n",
              "      <td>0.0</td>\n",
              "      <td>0.0</td>\n",
              "      <td>0.938255</td>\n",
              "      <td>0.901462</td>\n",
              "      <td>191</td>\n",
              "      <td>0</td>\n",
              "      <td>0</td>\n",
              "      <td>0.00000</td>\n",
              "    </tr>\n",
              "    <tr>\n",
              "      <th>1</th>\n",
              "      <td>1</td>\n",
              "      <td>2</td>\n",
              "      <td>0.606362</td>\n",
              "      <td>0.045503</td>\n",
              "      <td>0.0</td>\n",
              "      <td>0.0</td>\n",
              "      <td>0.058599</td>\n",
              "      <td>0.381941</td>\n",
              "      <td>0.211315</td>\n",
              "      <td>0.0</td>\n",
              "      <td>1.0</td>\n",
              "      <td>0.818707</td>\n",
              "      <td>0.220732</td>\n",
              "      <td>0.086909</td>\n",
              "      <td>0.0</td>\n",
              "      <td>0.363140</td>\n",
              "      <td>0.757866</td>\n",
              "      <td>0.184063</td>\n",
              "      <td>0.191990</td>\n",
              "      <td>0.295538</td>\n",
              "      <td>0.0</td>\n",
              "      <td>0.184954</td>\n",
              "      <td>0.0</td>\n",
              "      <td>0.0</td>\n",
              "      <td>0.907757</td>\n",
              "      <td>0.905421</td>\n",
              "      <td>190</td>\n",
              "      <td>0</td>\n",
              "      <td>0</td>\n",
              "      <td>0.00277</td>\n",
              "    </tr>\n",
              "    <tr>\n",
              "      <th>2</th>\n",
              "      <td>1</td>\n",
              "      <td>3</td>\n",
              "      <td>0.293440</td>\n",
              "      <td>0.277092</td>\n",
              "      <td>0.0</td>\n",
              "      <td>0.0</td>\n",
              "      <td>0.115377</td>\n",
              "      <td>0.353925</td>\n",
              "      <td>0.232320</td>\n",
              "      <td>0.0</td>\n",
              "      <td>1.0</td>\n",
              "      <td>0.826676</td>\n",
              "      <td>0.243121</td>\n",
              "      <td>0.098430</td>\n",
              "      <td>0.0</td>\n",
              "      <td>0.311104</td>\n",
              "      <td>0.807002</td>\n",
              "      <td>0.178577</td>\n",
              "      <td>0.186913</td>\n",
              "      <td>0.284579</td>\n",
              "      <td>0.0</td>\n",
              "      <td>0.092264</td>\n",
              "      <td>0.0</td>\n",
              "      <td>0.0</td>\n",
              "      <td>0.872911</td>\n",
              "      <td>0.855227</td>\n",
              "      <td>189</td>\n",
              "      <td>0</td>\n",
              "      <td>0</td>\n",
              "      <td>0.00554</td>\n",
              "    </tr>\n",
              "    <tr>\n",
              "      <th>3</th>\n",
              "      <td>1</td>\n",
              "      <td>4</td>\n",
              "      <td>0.389455</td>\n",
              "      <td>0.332429</td>\n",
              "      <td>0.0</td>\n",
              "      <td>0.0</td>\n",
              "      <td>0.149888</td>\n",
              "      <td>0.287703</td>\n",
              "      <td>0.230467</td>\n",
              "      <td>0.0</td>\n",
              "      <td>1.0</td>\n",
              "      <td>0.843218</td>\n",
              "      <td>0.277295</td>\n",
              "      <td>0.101059</td>\n",
              "      <td>0.0</td>\n",
              "      <td>0.250610</td>\n",
              "      <td>0.869034</td>\n",
              "      <td>0.207868</td>\n",
              "      <td>0.184663</td>\n",
              "      <td>0.201857</td>\n",
              "      <td>0.0</td>\n",
              "      <td>0.111856</td>\n",
              "      <td>0.0</td>\n",
              "      <td>0.0</td>\n",
              "      <td>0.829464</td>\n",
              "      <td>0.840712</td>\n",
              "      <td>188</td>\n",
              "      <td>0</td>\n",
              "      <td>0</td>\n",
              "      <td>0.00831</td>\n",
              "    </tr>\n",
              "    <tr>\n",
              "      <th>4</th>\n",
              "      <td>1</td>\n",
              "      <td>5</td>\n",
              "      <td>0.326762</td>\n",
              "      <td>0.321014</td>\n",
              "      <td>0.0</td>\n",
              "      <td>0.0</td>\n",
              "      <td>0.175131</td>\n",
              "      <td>0.243408</td>\n",
              "      <td>0.252620</td>\n",
              "      <td>0.0</td>\n",
              "      <td>1.0</td>\n",
              "      <td>0.830646</td>\n",
              "      <td>0.271014</td>\n",
              "      <td>0.108983</td>\n",
              "      <td>0.0</td>\n",
              "      <td>0.236221</td>\n",
              "      <td>0.868982</td>\n",
              "      <td>0.205295</td>\n",
              "      <td>0.183106</td>\n",
              "      <td>0.226392</td>\n",
              "      <td>0.0</td>\n",
              "      <td>0.157660</td>\n",
              "      <td>0.0</td>\n",
              "      <td>0.0</td>\n",
              "      <td>0.805538</td>\n",
              "      <td>0.844981</td>\n",
              "      <td>187</td>\n",
              "      <td>0</td>\n",
              "      <td>0</td>\n",
              "      <td>0.01108</td>\n",
              "    </tr>\n",
              "  </tbody>\n",
              "</table>\n",
              "</div>"
            ],
            "text/plain": [
              "   id  cycle  setting1  setting2  ...  RUL  label1  label2  cycle_norm\n",
              "0   1      1  0.368542  0.000000  ...  191       0       0     0.00000\n",
              "1   1      2  0.606362  0.045503  ...  190       0       0     0.00277\n",
              "2   1      3  0.293440  0.277092  ...  189       0       0     0.00554\n",
              "3   1      4  0.389455  0.332429  ...  188       0       0     0.00831\n",
              "4   1      5  0.326762  0.321014  ...  187       0       0     0.01108\n",
              "\n",
              "[5 rows x 30 columns]"
            ]
          },
          "metadata": {
            "tags": []
          },
          "execution_count": 42
        }
      ]
    },
    {
      "cell_type": "code",
      "metadata": {
        "id": "SFPte0CSV2cy",
        "colab_type": "code",
        "outputId": "45c1db51-29f7-41a3-c793-4acf1edebbad",
        "colab": {
          "base_uri": "https://localhost:8080/"
        }
      },
      "source": [
        "test_df['cycle_norm'] = test_df['cycle']\n",
        "norm_test_df = pd.DataFrame(min_max_scaler.transform(test_df[cols_normalize]), \n",
        "                            columns=cols_normalize, \n",
        "                            index=test_df.index)\n",
        "test_join_df = test_df[test_df.columns.difference(cols_normalize)].join(norm_test_df)\n",
        "test_df = test_join_df.reindex(columns = test_df.columns)\n",
        "test_df = test_df.reset_index(drop=True)\n",
        "test_df.head()"
      ],
      "execution_count": 0,
      "outputs": [
        {
          "output_type": "execute_result",
          "data": {
            "text/html": [
              "<div>\n",
              "<style scoped>\n",
              "    .dataframe tbody tr th:only-of-type {\n",
              "        vertical-align: middle;\n",
              "    }\n",
              "\n",
              "    .dataframe tbody tr th {\n",
              "        vertical-align: top;\n",
              "    }\n",
              "\n",
              "    .dataframe thead th {\n",
              "        text-align: right;\n",
              "    }\n",
              "</style>\n",
              "<table border=\"1\" class=\"dataframe\">\n",
              "  <thead>\n",
              "    <tr style=\"text-align: right;\">\n",
              "      <th></th>\n",
              "      <th>id</th>\n",
              "      <th>cycle</th>\n",
              "      <th>setting1</th>\n",
              "      <th>setting2</th>\n",
              "      <th>setting3</th>\n",
              "      <th>s1</th>\n",
              "      <th>s2</th>\n",
              "      <th>s3</th>\n",
              "      <th>s4</th>\n",
              "      <th>s5</th>\n",
              "      <th>s6</th>\n",
              "      <th>s7</th>\n",
              "      <th>s8</th>\n",
              "      <th>s9</th>\n",
              "      <th>s10</th>\n",
              "      <th>s11</th>\n",
              "      <th>s12</th>\n",
              "      <th>s13</th>\n",
              "      <th>s14</th>\n",
              "      <th>s15</th>\n",
              "      <th>s16</th>\n",
              "      <th>s17</th>\n",
              "      <th>s18</th>\n",
              "      <th>s19</th>\n",
              "      <th>s20</th>\n",
              "      <th>s21</th>\n",
              "      <th>cycle_norm</th>\n",
              "    </tr>\n",
              "  </thead>\n",
              "  <tbody>\n",
              "    <tr>\n",
              "      <th>0</th>\n",
              "      <td>1</td>\n",
              "      <td>1</td>\n",
              "      <td>1.181006</td>\n",
              "      <td>0.943062</td>\n",
              "      <td>0.0</td>\n",
              "      <td>0.0</td>\n",
              "      <td>0.630905</td>\n",
              "      <td>0.152518</td>\n",
              "      <td>0.114891</td>\n",
              "      <td>0.0</td>\n",
              "      <td>1.0</td>\n",
              "      <td>0.744724</td>\n",
              "      <td>0.177775</td>\n",
              "      <td>0.114995</td>\n",
              "      <td>0.0</td>\n",
              "      <td>0.093186</td>\n",
              "      <td>0.706193</td>\n",
              "      <td>0.162801</td>\n",
              "      <td>0.121627</td>\n",
              "      <td>0.161653</td>\n",
              "      <td>0.0</td>\n",
              "      <td>0.184954</td>\n",
              "      <td>0.0</td>\n",
              "      <td>0.0</td>\n",
              "      <td>0.637261</td>\n",
              "      <td>0.785538</td>\n",
              "      <td>0.00000</td>\n",
              "    </tr>\n",
              "    <tr>\n",
              "      <th>1</th>\n",
              "      <td>1</td>\n",
              "      <td>2</td>\n",
              "      <td>0.723659</td>\n",
              "      <td>0.670047</td>\n",
              "      <td>0.0</td>\n",
              "      <td>0.0</td>\n",
              "      <td>0.398285</td>\n",
              "      <td>0.200286</td>\n",
              "      <td>0.086915</td>\n",
              "      <td>0.0</td>\n",
              "      <td>1.0</td>\n",
              "      <td>0.838191</td>\n",
              "      <td>0.144913</td>\n",
              "      <td>0.123580</td>\n",
              "      <td>0.0</td>\n",
              "      <td>0.192020</td>\n",
              "      <td>0.757592</td>\n",
              "      <td>0.194081</td>\n",
              "      <td>0.152988</td>\n",
              "      <td>0.100639</td>\n",
              "      <td>0.0</td>\n",
              "      <td>0.245620</td>\n",
              "      <td>0.0</td>\n",
              "      <td>0.0</td>\n",
              "      <td>0.718589</td>\n",
              "      <td>0.801113</td>\n",
              "      <td>0.00277</td>\n",
              "    </tr>\n",
              "    <tr>\n",
              "      <th>2</th>\n",
              "      <td>1</td>\n",
              "      <td>3</td>\n",
              "      <td>0.701909</td>\n",
              "      <td>0.670968</td>\n",
              "      <td>0.0</td>\n",
              "      <td>0.0</td>\n",
              "      <td>0.382339</td>\n",
              "      <td>0.207015</td>\n",
              "      <td>0.118110</td>\n",
              "      <td>0.0</td>\n",
              "      <td>1.0</td>\n",
              "      <td>0.829858</td>\n",
              "      <td>0.161760</td>\n",
              "      <td>0.131843</td>\n",
              "      <td>0.0</td>\n",
              "      <td>0.242023</td>\n",
              "      <td>0.766640</td>\n",
              "      <td>0.186010</td>\n",
              "      <td>0.152644</td>\n",
              "      <td>0.189200</td>\n",
              "      <td>0.0</td>\n",
              "      <td>0.276312</td>\n",
              "      <td>0.0</td>\n",
              "      <td>0.0</td>\n",
              "      <td>0.783034</td>\n",
              "      <td>0.825428</td>\n",
              "      <td>0.00554</td>\n",
              "    </tr>\n",
              "    <tr>\n",
              "      <th>3</th>\n",
              "      <td>1</td>\n",
              "      <td>4</td>\n",
              "      <td>0.911938</td>\n",
              "      <td>0.643051</td>\n",
              "      <td>0.0</td>\n",
              "      <td>0.0</td>\n",
              "      <td>0.370424</td>\n",
              "      <td>0.184428</td>\n",
              "      <td>0.168949</td>\n",
              "      <td>0.0</td>\n",
              "      <td>1.0</td>\n",
              "      <td>0.822331</td>\n",
              "      <td>0.158290</td>\n",
              "      <td>0.122113</td>\n",
              "      <td>0.0</td>\n",
              "      <td>0.227058</td>\n",
              "      <td>0.729007</td>\n",
              "      <td>0.194155</td>\n",
              "      <td>0.156341</td>\n",
              "      <td>0.162675</td>\n",
              "      <td>0.0</td>\n",
              "      <td>0.219036</td>\n",
              "      <td>0.0</td>\n",
              "      <td>0.0</td>\n",
              "      <td>0.796756</td>\n",
              "      <td>0.817104</td>\n",
              "      <td>0.00831</td>\n",
              "    </tr>\n",
              "    <tr>\n",
              "      <th>4</th>\n",
              "      <td>1</td>\n",
              "      <td>5</td>\n",
              "      <td>0.916529</td>\n",
              "      <td>0.624173</td>\n",
              "      <td>0.0</td>\n",
              "      <td>0.0</td>\n",
              "      <td>0.369036</td>\n",
              "      <td>0.194057</td>\n",
              "      <td>0.179114</td>\n",
              "      <td>0.0</td>\n",
              "      <td>1.0</td>\n",
              "      <td>0.821992</td>\n",
              "      <td>0.144187</td>\n",
              "      <td>0.114730</td>\n",
              "      <td>0.0</td>\n",
              "      <td>0.222241</td>\n",
              "      <td>0.751828</td>\n",
              "      <td>0.188472</td>\n",
              "      <td>0.154822</td>\n",
              "      <td>0.159729</td>\n",
              "      <td>0.0</td>\n",
              "      <td>0.147749</td>\n",
              "      <td>0.0</td>\n",
              "      <td>0.0</td>\n",
              "      <td>0.803308</td>\n",
              "      <td>0.829623</td>\n",
              "      <td>0.01108</td>\n",
              "    </tr>\n",
              "  </tbody>\n",
              "</table>\n",
              "</div>"
            ],
            "text/plain": [
              "   id  cycle  setting1  setting2  ...  s19       s20       s21  cycle_norm\n",
              "0   1      1  1.181006  0.943062  ...  0.0  0.637261  0.785538     0.00000\n",
              "1   1      2  0.723659  0.670047  ...  0.0  0.718589  0.801113     0.00277\n",
              "2   1      3  0.701909  0.670968  ...  0.0  0.783034  0.825428     0.00554\n",
              "3   1      4  0.911938  0.643051  ...  0.0  0.796756  0.817104     0.00831\n",
              "4   1      5  0.916529  0.624173  ...  0.0  0.803308  0.829623     0.01108\n",
              "\n",
              "[5 rows x 27 columns]"
            ]
          },
          "metadata": {
            "tags": []
          },
          "execution_count": 43
        }
      ]
    },
    {
      "cell_type": "markdown",
      "metadata": {
        "id": "SbkvYNvhV2c4",
        "colab_type": "text"
      },
      "source": [
        "## Generate True Labels (RUL) for Test Data"
      ]
    },
    {
      "cell_type": "code",
      "metadata": {
        "id": "A1QAjldiV2c5",
        "colab_type": "code",
        "colab": {}
      },
      "source": [
        "# generate column max for test data\n",
        "rul = pd.DataFrame(test_df.groupby('id')['cycle'].max()).reset_index()\n",
        "rul.columns = ['id', 'max']\n",
        "truth_df.columns = ['more']\n",
        "truth_df['id'] = truth_df.index + 1\n",
        "truth_df['max'] = rul['max'] + truth_df['more']\n",
        "truth_df.drop('more', axis=1, inplace=True)"
      ],
      "execution_count": 0,
      "outputs": []
    },
    {
      "cell_type": "code",
      "metadata": {
        "id": "h_34qXVWV2c-",
        "colab_type": "code",
        "outputId": "352dffee-0a4b-4a27-83e8-7d601e8a8d4b",
        "colab": {
          "base_uri": "https://localhost:8080/"
        }
      },
      "source": [
        "# generate RUL for test data\n",
        "test_df = test_df.merge(truth_df, on=['id'], how='left')\n",
        "test_df['RUL'] = test_df['max'] - test_df['cycle']\n",
        "test_df.drop('max', axis=1, inplace=True)\n",
        "test_df.head()"
      ],
      "execution_count": 0,
      "outputs": [
        {
          "output_type": "execute_result",
          "data": {
            "text/html": [
              "<div>\n",
              "<style scoped>\n",
              "    .dataframe tbody tr th:only-of-type {\n",
              "        vertical-align: middle;\n",
              "    }\n",
              "\n",
              "    .dataframe tbody tr th {\n",
              "        vertical-align: top;\n",
              "    }\n",
              "\n",
              "    .dataframe thead th {\n",
              "        text-align: right;\n",
              "    }\n",
              "</style>\n",
              "<table border=\"1\" class=\"dataframe\">\n",
              "  <thead>\n",
              "    <tr style=\"text-align: right;\">\n",
              "      <th></th>\n",
              "      <th>id</th>\n",
              "      <th>cycle</th>\n",
              "      <th>setting1</th>\n",
              "      <th>setting2</th>\n",
              "      <th>setting3</th>\n",
              "      <th>s1</th>\n",
              "      <th>s2</th>\n",
              "      <th>s3</th>\n",
              "      <th>s4</th>\n",
              "      <th>s5</th>\n",
              "      <th>s6</th>\n",
              "      <th>s7</th>\n",
              "      <th>s8</th>\n",
              "      <th>s9</th>\n",
              "      <th>s10</th>\n",
              "      <th>s11</th>\n",
              "      <th>s12</th>\n",
              "      <th>s13</th>\n",
              "      <th>s14</th>\n",
              "      <th>s15</th>\n",
              "      <th>s16</th>\n",
              "      <th>s17</th>\n",
              "      <th>s18</th>\n",
              "      <th>s19</th>\n",
              "      <th>s20</th>\n",
              "      <th>s21</th>\n",
              "      <th>cycle_norm</th>\n",
              "      <th>RUL</th>\n",
              "    </tr>\n",
              "  </thead>\n",
              "  <tbody>\n",
              "    <tr>\n",
              "      <th>0</th>\n",
              "      <td>1</td>\n",
              "      <td>1</td>\n",
              "      <td>1.181006</td>\n",
              "      <td>0.943062</td>\n",
              "      <td>0.0</td>\n",
              "      <td>0.0</td>\n",
              "      <td>0.630905</td>\n",
              "      <td>0.152518</td>\n",
              "      <td>0.114891</td>\n",
              "      <td>0.0</td>\n",
              "      <td>1.0</td>\n",
              "      <td>0.744724</td>\n",
              "      <td>0.177775</td>\n",
              "      <td>0.114995</td>\n",
              "      <td>0.0</td>\n",
              "      <td>0.093186</td>\n",
              "      <td>0.706193</td>\n",
              "      <td>0.162801</td>\n",
              "      <td>0.121627</td>\n",
              "      <td>0.161653</td>\n",
              "      <td>0.0</td>\n",
              "      <td>0.184954</td>\n",
              "      <td>0.0</td>\n",
              "      <td>0.0</td>\n",
              "      <td>0.637261</td>\n",
              "      <td>0.785538</td>\n",
              "      <td>0.00000</td>\n",
              "      <td>142</td>\n",
              "    </tr>\n",
              "    <tr>\n",
              "      <th>1</th>\n",
              "      <td>1</td>\n",
              "      <td>2</td>\n",
              "      <td>0.723659</td>\n",
              "      <td>0.670047</td>\n",
              "      <td>0.0</td>\n",
              "      <td>0.0</td>\n",
              "      <td>0.398285</td>\n",
              "      <td>0.200286</td>\n",
              "      <td>0.086915</td>\n",
              "      <td>0.0</td>\n",
              "      <td>1.0</td>\n",
              "      <td>0.838191</td>\n",
              "      <td>0.144913</td>\n",
              "      <td>0.123580</td>\n",
              "      <td>0.0</td>\n",
              "      <td>0.192020</td>\n",
              "      <td>0.757592</td>\n",
              "      <td>0.194081</td>\n",
              "      <td>0.152988</td>\n",
              "      <td>0.100639</td>\n",
              "      <td>0.0</td>\n",
              "      <td>0.245620</td>\n",
              "      <td>0.0</td>\n",
              "      <td>0.0</td>\n",
              "      <td>0.718589</td>\n",
              "      <td>0.801113</td>\n",
              "      <td>0.00277</td>\n",
              "      <td>141</td>\n",
              "    </tr>\n",
              "    <tr>\n",
              "      <th>2</th>\n",
              "      <td>1</td>\n",
              "      <td>3</td>\n",
              "      <td>0.701909</td>\n",
              "      <td>0.670968</td>\n",
              "      <td>0.0</td>\n",
              "      <td>0.0</td>\n",
              "      <td>0.382339</td>\n",
              "      <td>0.207015</td>\n",
              "      <td>0.118110</td>\n",
              "      <td>0.0</td>\n",
              "      <td>1.0</td>\n",
              "      <td>0.829858</td>\n",
              "      <td>0.161760</td>\n",
              "      <td>0.131843</td>\n",
              "      <td>0.0</td>\n",
              "      <td>0.242023</td>\n",
              "      <td>0.766640</td>\n",
              "      <td>0.186010</td>\n",
              "      <td>0.152644</td>\n",
              "      <td>0.189200</td>\n",
              "      <td>0.0</td>\n",
              "      <td>0.276312</td>\n",
              "      <td>0.0</td>\n",
              "      <td>0.0</td>\n",
              "      <td>0.783034</td>\n",
              "      <td>0.825428</td>\n",
              "      <td>0.00554</td>\n",
              "      <td>140</td>\n",
              "    </tr>\n",
              "    <tr>\n",
              "      <th>3</th>\n",
              "      <td>1</td>\n",
              "      <td>4</td>\n",
              "      <td>0.911938</td>\n",
              "      <td>0.643051</td>\n",
              "      <td>0.0</td>\n",
              "      <td>0.0</td>\n",
              "      <td>0.370424</td>\n",
              "      <td>0.184428</td>\n",
              "      <td>0.168949</td>\n",
              "      <td>0.0</td>\n",
              "      <td>1.0</td>\n",
              "      <td>0.822331</td>\n",
              "      <td>0.158290</td>\n",
              "      <td>0.122113</td>\n",
              "      <td>0.0</td>\n",
              "      <td>0.227058</td>\n",
              "      <td>0.729007</td>\n",
              "      <td>0.194155</td>\n",
              "      <td>0.156341</td>\n",
              "      <td>0.162675</td>\n",
              "      <td>0.0</td>\n",
              "      <td>0.219036</td>\n",
              "      <td>0.0</td>\n",
              "      <td>0.0</td>\n",
              "      <td>0.796756</td>\n",
              "      <td>0.817104</td>\n",
              "      <td>0.00831</td>\n",
              "      <td>139</td>\n",
              "    </tr>\n",
              "    <tr>\n",
              "      <th>4</th>\n",
              "      <td>1</td>\n",
              "      <td>5</td>\n",
              "      <td>0.916529</td>\n",
              "      <td>0.624173</td>\n",
              "      <td>0.0</td>\n",
              "      <td>0.0</td>\n",
              "      <td>0.369036</td>\n",
              "      <td>0.194057</td>\n",
              "      <td>0.179114</td>\n",
              "      <td>0.0</td>\n",
              "      <td>1.0</td>\n",
              "      <td>0.821992</td>\n",
              "      <td>0.144187</td>\n",
              "      <td>0.114730</td>\n",
              "      <td>0.0</td>\n",
              "      <td>0.222241</td>\n",
              "      <td>0.751828</td>\n",
              "      <td>0.188472</td>\n",
              "      <td>0.154822</td>\n",
              "      <td>0.159729</td>\n",
              "      <td>0.0</td>\n",
              "      <td>0.147749</td>\n",
              "      <td>0.0</td>\n",
              "      <td>0.0</td>\n",
              "      <td>0.803308</td>\n",
              "      <td>0.829623</td>\n",
              "      <td>0.01108</td>\n",
              "      <td>138</td>\n",
              "    </tr>\n",
              "  </tbody>\n",
              "</table>\n",
              "</div>"
            ],
            "text/plain": [
              "   id  cycle  setting1  setting2  ...       s20       s21  cycle_norm  RUL\n",
              "0   1      1  1.181006  0.943062  ...  0.637261  0.785538     0.00000  142\n",
              "1   1      2  0.723659  0.670047  ...  0.718589  0.801113     0.00277  141\n",
              "2   1      3  0.701909  0.670968  ...  0.783034  0.825428     0.00554  140\n",
              "3   1      4  0.911938  0.643051  ...  0.796756  0.817104     0.00831  139\n",
              "4   1      5  0.916529  0.624173  ...  0.803308  0.829623     0.01108  138\n",
              "\n",
              "[5 rows x 28 columns]"
            ]
          },
          "metadata": {
            "tags": []
          },
          "execution_count": 45
        }
      ]
    },
    {
      "cell_type": "code",
      "metadata": {
        "id": "zpm6fBnMV2dD",
        "colab_type": "code",
        "outputId": "e2dfe8eb-9fc2-4e06-8f49-110ffc717218",
        "colab": {
          "base_uri": "https://localhost:8080/"
        }
      },
      "source": [
        "# generate label columns w0 and w1 for test data\n",
        "test_df['label1'] = np.where(test_df['RUL'] <= w1, 1, 0 )\n",
        "test_df['label2'] = test_df['label1']\n",
        "test_df.loc[test_df['RUL'] <= w0, 'label2'] = 2\n",
        "test_df.head()"
      ],
      "execution_count": 0,
      "outputs": [
        {
          "output_type": "execute_result",
          "data": {
            "text/html": [
              "<div>\n",
              "<style scoped>\n",
              "    .dataframe tbody tr th:only-of-type {\n",
              "        vertical-align: middle;\n",
              "    }\n",
              "\n",
              "    .dataframe tbody tr th {\n",
              "        vertical-align: top;\n",
              "    }\n",
              "\n",
              "    .dataframe thead th {\n",
              "        text-align: right;\n",
              "    }\n",
              "</style>\n",
              "<table border=\"1\" class=\"dataframe\">\n",
              "  <thead>\n",
              "    <tr style=\"text-align: right;\">\n",
              "      <th></th>\n",
              "      <th>id</th>\n",
              "      <th>cycle</th>\n",
              "      <th>setting1</th>\n",
              "      <th>setting2</th>\n",
              "      <th>setting3</th>\n",
              "      <th>s1</th>\n",
              "      <th>s2</th>\n",
              "      <th>s3</th>\n",
              "      <th>s4</th>\n",
              "      <th>s5</th>\n",
              "      <th>s6</th>\n",
              "      <th>s7</th>\n",
              "      <th>s8</th>\n",
              "      <th>s9</th>\n",
              "      <th>s10</th>\n",
              "      <th>s11</th>\n",
              "      <th>s12</th>\n",
              "      <th>s13</th>\n",
              "      <th>s14</th>\n",
              "      <th>s15</th>\n",
              "      <th>s16</th>\n",
              "      <th>s17</th>\n",
              "      <th>s18</th>\n",
              "      <th>s19</th>\n",
              "      <th>s20</th>\n",
              "      <th>s21</th>\n",
              "      <th>cycle_norm</th>\n",
              "      <th>RUL</th>\n",
              "      <th>label1</th>\n",
              "      <th>label2</th>\n",
              "    </tr>\n",
              "  </thead>\n",
              "  <tbody>\n",
              "    <tr>\n",
              "      <th>0</th>\n",
              "      <td>1</td>\n",
              "      <td>1</td>\n",
              "      <td>1.181006</td>\n",
              "      <td>0.943062</td>\n",
              "      <td>0.0</td>\n",
              "      <td>0.0</td>\n",
              "      <td>0.630905</td>\n",
              "      <td>0.152518</td>\n",
              "      <td>0.114891</td>\n",
              "      <td>0.0</td>\n",
              "      <td>1.0</td>\n",
              "      <td>0.744724</td>\n",
              "      <td>0.177775</td>\n",
              "      <td>0.114995</td>\n",
              "      <td>0.0</td>\n",
              "      <td>0.093186</td>\n",
              "      <td>0.706193</td>\n",
              "      <td>0.162801</td>\n",
              "      <td>0.121627</td>\n",
              "      <td>0.161653</td>\n",
              "      <td>0.0</td>\n",
              "      <td>0.184954</td>\n",
              "      <td>0.0</td>\n",
              "      <td>0.0</td>\n",
              "      <td>0.637261</td>\n",
              "      <td>0.785538</td>\n",
              "      <td>0.00000</td>\n",
              "      <td>142</td>\n",
              "      <td>0</td>\n",
              "      <td>0</td>\n",
              "    </tr>\n",
              "    <tr>\n",
              "      <th>1</th>\n",
              "      <td>1</td>\n",
              "      <td>2</td>\n",
              "      <td>0.723659</td>\n",
              "      <td>0.670047</td>\n",
              "      <td>0.0</td>\n",
              "      <td>0.0</td>\n",
              "      <td>0.398285</td>\n",
              "      <td>0.200286</td>\n",
              "      <td>0.086915</td>\n",
              "      <td>0.0</td>\n",
              "      <td>1.0</td>\n",
              "      <td>0.838191</td>\n",
              "      <td>0.144913</td>\n",
              "      <td>0.123580</td>\n",
              "      <td>0.0</td>\n",
              "      <td>0.192020</td>\n",
              "      <td>0.757592</td>\n",
              "      <td>0.194081</td>\n",
              "      <td>0.152988</td>\n",
              "      <td>0.100639</td>\n",
              "      <td>0.0</td>\n",
              "      <td>0.245620</td>\n",
              "      <td>0.0</td>\n",
              "      <td>0.0</td>\n",
              "      <td>0.718589</td>\n",
              "      <td>0.801113</td>\n",
              "      <td>0.00277</td>\n",
              "      <td>141</td>\n",
              "      <td>0</td>\n",
              "      <td>0</td>\n",
              "    </tr>\n",
              "    <tr>\n",
              "      <th>2</th>\n",
              "      <td>1</td>\n",
              "      <td>3</td>\n",
              "      <td>0.701909</td>\n",
              "      <td>0.670968</td>\n",
              "      <td>0.0</td>\n",
              "      <td>0.0</td>\n",
              "      <td>0.382339</td>\n",
              "      <td>0.207015</td>\n",
              "      <td>0.118110</td>\n",
              "      <td>0.0</td>\n",
              "      <td>1.0</td>\n",
              "      <td>0.829858</td>\n",
              "      <td>0.161760</td>\n",
              "      <td>0.131843</td>\n",
              "      <td>0.0</td>\n",
              "      <td>0.242023</td>\n",
              "      <td>0.766640</td>\n",
              "      <td>0.186010</td>\n",
              "      <td>0.152644</td>\n",
              "      <td>0.189200</td>\n",
              "      <td>0.0</td>\n",
              "      <td>0.276312</td>\n",
              "      <td>0.0</td>\n",
              "      <td>0.0</td>\n",
              "      <td>0.783034</td>\n",
              "      <td>0.825428</td>\n",
              "      <td>0.00554</td>\n",
              "      <td>140</td>\n",
              "      <td>0</td>\n",
              "      <td>0</td>\n",
              "    </tr>\n",
              "    <tr>\n",
              "      <th>3</th>\n",
              "      <td>1</td>\n",
              "      <td>4</td>\n",
              "      <td>0.911938</td>\n",
              "      <td>0.643051</td>\n",
              "      <td>0.0</td>\n",
              "      <td>0.0</td>\n",
              "      <td>0.370424</td>\n",
              "      <td>0.184428</td>\n",
              "      <td>0.168949</td>\n",
              "      <td>0.0</td>\n",
              "      <td>1.0</td>\n",
              "      <td>0.822331</td>\n",
              "      <td>0.158290</td>\n",
              "      <td>0.122113</td>\n",
              "      <td>0.0</td>\n",
              "      <td>0.227058</td>\n",
              "      <td>0.729007</td>\n",
              "      <td>0.194155</td>\n",
              "      <td>0.156341</td>\n",
              "      <td>0.162675</td>\n",
              "      <td>0.0</td>\n",
              "      <td>0.219036</td>\n",
              "      <td>0.0</td>\n",
              "      <td>0.0</td>\n",
              "      <td>0.796756</td>\n",
              "      <td>0.817104</td>\n",
              "      <td>0.00831</td>\n",
              "      <td>139</td>\n",
              "      <td>0</td>\n",
              "      <td>0</td>\n",
              "    </tr>\n",
              "    <tr>\n",
              "      <th>4</th>\n",
              "      <td>1</td>\n",
              "      <td>5</td>\n",
              "      <td>0.916529</td>\n",
              "      <td>0.624173</td>\n",
              "      <td>0.0</td>\n",
              "      <td>0.0</td>\n",
              "      <td>0.369036</td>\n",
              "      <td>0.194057</td>\n",
              "      <td>0.179114</td>\n",
              "      <td>0.0</td>\n",
              "      <td>1.0</td>\n",
              "      <td>0.821992</td>\n",
              "      <td>0.144187</td>\n",
              "      <td>0.114730</td>\n",
              "      <td>0.0</td>\n",
              "      <td>0.222241</td>\n",
              "      <td>0.751828</td>\n",
              "      <td>0.188472</td>\n",
              "      <td>0.154822</td>\n",
              "      <td>0.159729</td>\n",
              "      <td>0.0</td>\n",
              "      <td>0.147749</td>\n",
              "      <td>0.0</td>\n",
              "      <td>0.0</td>\n",
              "      <td>0.803308</td>\n",
              "      <td>0.829623</td>\n",
              "      <td>0.01108</td>\n",
              "      <td>138</td>\n",
              "      <td>0</td>\n",
              "      <td>0</td>\n",
              "    </tr>\n",
              "  </tbody>\n",
              "</table>\n",
              "</div>"
            ],
            "text/plain": [
              "   id  cycle  setting1  setting2  ...  cycle_norm  RUL  label1  label2\n",
              "0   1      1  1.181006  0.943062  ...     0.00000  142       0       0\n",
              "1   1      2  0.723659  0.670047  ...     0.00277  141       0       0\n",
              "2   1      3  0.701909  0.670968  ...     0.00554  140       0       0\n",
              "3   1      4  0.911938  0.643051  ...     0.00831  139       0       0\n",
              "4   1      5  0.916529  0.624173  ...     0.01108  138       0       0\n",
              "\n",
              "[5 rows x 30 columns]"
            ]
          },
          "metadata": {
            "tags": []
          },
          "execution_count": 46
        }
      ]
    },
    {
      "cell_type": "code",
      "metadata": {
        "id": "HLT-yQglV2dH",
        "colab_type": "code",
        "colab": {}
      },
      "source": [
        "train_df.drop(['label1','label2'],axis=1,inplace=True)\n",
        "test_df.drop(['label1','label2'],axis=1,inplace=True)"
      ],
      "execution_count": 0,
      "outputs": []
    },
    {
      "cell_type": "code",
      "metadata": {
        "id": "zYVAxTAlV2dN",
        "colab_type": "code",
        "outputId": "20cfa495-5731-48bd-b5cc-7b5dc8d15577",
        "colab": {
          "base_uri": "https://localhost:8080/"
        }
      },
      "source": [
        "cols = ['setting1', 'setting2', 'setting3', 's1', 's2', 's3', 's4', 's5', 's6', 's7', 's8', 's9', 's10', \n",
        "        's11', 's12', 's13', 's14', 's15', 's16', 's17', 's18', 's19', 's20', 's21', 'cycle_norm']\n",
        "len(cols)"
      ],
      "execution_count": 0,
      "outputs": [
        {
          "output_type": "execute_result",
          "data": {
            "text/plain": [
              "25"
            ]
          },
          "metadata": {
            "tags": []
          },
          "execution_count": 48
        }
      ]
    },
    {
      "cell_type": "markdown",
      "metadata": {
        "id": "k5PwOohtV2dS",
        "colab_type": "text"
      },
      "source": [
        "# Autoencoder"
      ]
    },
    {
      "cell_type": "code",
      "metadata": {
        "id": "ru1qtRszV2dU",
        "colab_type": "code",
        "colab": {}
      },
      "source": [
        "from keras.layers import Input, Dense\n",
        "from keras import Model\n",
        "from keras import regularizers, optimizers, activations"
      ],
      "execution_count": 0,
      "outputs": []
    },
    {
      "cell_type": "code",
      "metadata": {
        "id": "mhPcZErWV2dX",
        "colab_type": "code",
        "colab": {}
      },
      "source": [
        "input_dim = len(cols)\n",
        "encoding_dim = 14\n",
        "\n",
        "input_layer = Input(shape=(input_dim, ))\n",
        "\n",
        "encoder = Dense(encoding_dim, activation=\"tanh\", activity_regularizer=regularizers.l1(10e-5))(input_layer)\n",
        "encoder = Dense(int(encoding_dim / 2), activation=\"relu\")(encoder)\n",
        "\n",
        "decoder = Dense(int(encoding_dim / 2), activation='tanh')(encoder)\n",
        "decoder = Dense(input_dim, activation='relu')(decoder)\n",
        "\n",
        "autoencoder = Model(inputs=input_layer, outputs=decoder)"
      ],
      "execution_count": 0,
      "outputs": []
    },
    {
      "cell_type": "code",
      "metadata": {
        "id": "587_yWE3V2db",
        "colab_type": "code",
        "outputId": "717ba286-9c7c-40d2-fa34-cdd2f746f3fa",
        "colab": {
          "base_uri": "https://localhost:8080/",
          "height": 34
        }
      },
      "source": [
        "data = pd.concat([train_df[cols], test_df[cols]])\n",
        "data.shape"
      ],
      "execution_count": 0,
      "outputs": [
        {
          "output_type": "execute_result",
          "data": {
            "text/plain": [
              "(33727, 25)"
            ]
          },
          "metadata": {
            "tags": []
          },
          "execution_count": 51
        }
      ]
    },
    {
      "cell_type": "markdown",
      "metadata": {
        "id": "Vz_zKHYUV2df",
        "colab_type": "text"
      },
      "source": [
        "## Train the Autoencoder"
      ]
    },
    {
      "cell_type": "code",
      "metadata": {
        "id": "-o4XAggRV2dg",
        "colab_type": "code",
        "outputId": "08431a6d-b877-466c-dfa7-28c25ec9b286",
        "colab": {
          "base_uri": "https://localhost:8080/",
          "height": 1000
        }
      },
      "source": [
        "from keras.callbacks import ModelCheckpoint\n",
        "\n",
        "nb_epoch = 100\n",
        "batch_size = 32\n",
        "\n",
        "autoencoder.compile(optimizer='adam', loss='mean_squared_error', metrics=['accuracy', 'mse'])\n",
        "\n",
        "checkpointer = ModelCheckpoint(filepath=\"autoenc_rul_model.h5\", verbose=0, save_best_only=True)\n",
        "\n",
        "history = autoencoder.fit(data, data, epochs=nb_epoch, batch_size=batch_size, shuffle=True,\n",
        "                    validation_split=0.15, verbose=1, callbacks=[checkpointer]).history"
      ],
      "execution_count": 0,
      "outputs": [
        {
          "output_type": "stream",
          "text": [
            "Train on 28667 samples, validate on 5060 samples\n",
            "Epoch 1/100\n",
            "28667/28667 [==============================] - 4s 125us/step - loss: 0.0486 - acc: 0.8335 - mean_squared_error: 0.0430 - val_loss: 0.0352 - val_acc: 0.8656 - val_mean_squared_error: 0.0335\n",
            "Epoch 2/100\n",
            "28667/28667 [==============================] - 3s 107us/step - loss: 0.0389 - acc: 0.8545 - mean_squared_error: 0.0374 - val_loss: 0.0342 - val_acc: 0.8791 - val_mean_squared_error: 0.0331\n",
            "Epoch 3/100\n",
            "28667/28667 [==============================] - 3s 107us/step - loss: 0.0379 - acc: 0.8654 - mean_squared_error: 0.0368 - val_loss: 0.0336 - val_acc: 0.8893 - val_mean_squared_error: 0.0326\n",
            "Epoch 4/100\n",
            "28667/28667 [==============================] - 3s 107us/step - loss: 0.0371 - acc: 0.8724 - mean_squared_error: 0.0361 - val_loss: 0.0329 - val_acc: 0.8927 - val_mean_squared_error: 0.0320\n",
            "Epoch 5/100\n",
            "28667/28667 [==============================] - 3s 111us/step - loss: 0.0364 - acc: 0.8872 - mean_squared_error: 0.0356 - val_loss: 0.0326 - val_acc: 0.9099 - val_mean_squared_error: 0.0319\n",
            "Epoch 6/100\n",
            "28667/28667 [==============================] - 3s 113us/step - loss: 0.0361 - acc: 0.8989 - mean_squared_error: 0.0354 - val_loss: 0.0324 - val_acc: 0.9138 - val_mean_squared_error: 0.0318\n",
            "Epoch 7/100\n",
            "28667/28667 [==============================] - 3s 109us/step - loss: 0.0360 - acc: 0.8989 - mean_squared_error: 0.0353 - val_loss: 0.0322 - val_acc: 0.9103 - val_mean_squared_error: 0.0317\n",
            "Epoch 8/100\n",
            "28667/28667 [==============================] - 3s 109us/step - loss: 0.0358 - acc: 0.8991 - mean_squared_error: 0.0352 - val_loss: 0.0320 - val_acc: 0.9138 - val_mean_squared_error: 0.0315\n",
            "Epoch 9/100\n",
            "28667/28667 [==============================] - 3s 106us/step - loss: 0.0341 - acc: 0.9061 - mean_squared_error: 0.0336 - val_loss: 0.0268 - val_acc: 0.9184 - val_mean_squared_error: 0.0263\n",
            "Epoch 10/100\n",
            "28667/28667 [==============================] - 3s 107us/step - loss: 0.0276 - acc: 0.9128 - mean_squared_error: 0.0271 - val_loss: 0.0266 - val_acc: 0.9257 - val_mean_squared_error: 0.0262\n",
            "Epoch 11/100\n",
            "28667/28667 [==============================] - 3s 105us/step - loss: 0.0275 - acc: 0.9160 - mean_squared_error: 0.0270 - val_loss: 0.0266 - val_acc: 0.9269 - val_mean_squared_error: 0.0261\n",
            "Epoch 12/100\n",
            "28667/28667 [==============================] - 3s 111us/step - loss: 0.0274 - acc: 0.9169 - mean_squared_error: 0.0270 - val_loss: 0.0265 - val_acc: 0.9277 - val_mean_squared_error: 0.0261\n",
            "Epoch 13/100\n",
            "28667/28667 [==============================] - 3s 107us/step - loss: 0.0274 - acc: 0.9173 - mean_squared_error: 0.0270 - val_loss: 0.0265 - val_acc: 0.9289 - val_mean_squared_error: 0.0261\n",
            "Epoch 14/100\n",
            "28667/28667 [==============================] - 3s 112us/step - loss: 0.0274 - acc: 0.9174 - mean_squared_error: 0.0270 - val_loss: 0.0265 - val_acc: 0.9294 - val_mean_squared_error: 0.0261\n",
            "Epoch 15/100\n",
            "28667/28667 [==============================] - 3s 106us/step - loss: 0.0274 - acc: 0.9182 - mean_squared_error: 0.0270 - val_loss: 0.0265 - val_acc: 0.9292 - val_mean_squared_error: 0.0261\n",
            "Epoch 16/100\n",
            "28667/28667 [==============================] - 3s 110us/step - loss: 0.0274 - acc: 0.9179 - mean_squared_error: 0.0270 - val_loss: 0.0265 - val_acc: 0.9296 - val_mean_squared_error: 0.0261\n",
            "Epoch 17/100\n",
            "28667/28667 [==============================] - 3s 108us/step - loss: 0.0273 - acc: 0.9175 - mean_squared_error: 0.0270 - val_loss: 0.0265 - val_acc: 0.9285 - val_mean_squared_error: 0.0262\n",
            "Epoch 18/100\n",
            "28667/28667 [==============================] - 3s 106us/step - loss: 0.0273 - acc: 0.9179 - mean_squared_error: 0.0270 - val_loss: 0.0264 - val_acc: 0.9287 - val_mean_squared_error: 0.0261\n",
            "Epoch 19/100\n",
            "28667/28667 [==============================] - 3s 108us/step - loss: 0.0273 - acc: 0.9177 - mean_squared_error: 0.0270 - val_loss: 0.0264 - val_acc: 0.9296 - val_mean_squared_error: 0.0262\n",
            "Epoch 20/100\n",
            "28667/28667 [==============================] - 3s 107us/step - loss: 0.0273 - acc: 0.9172 - mean_squared_error: 0.0270 - val_loss: 0.0264 - val_acc: 0.9281 - val_mean_squared_error: 0.0262\n",
            "Epoch 21/100\n",
            "28667/28667 [==============================] - 3s 105us/step - loss: 0.0273 - acc: 0.9185 - mean_squared_error: 0.0270 - val_loss: 0.0264 - val_acc: 0.9304 - val_mean_squared_error: 0.0261\n",
            "Epoch 22/100\n",
            "28667/28667 [==============================] - 3s 107us/step - loss: 0.0273 - acc: 0.9182 - mean_squared_error: 0.0270 - val_loss: 0.0264 - val_acc: 0.9294 - val_mean_squared_error: 0.0261\n",
            "Epoch 23/100\n",
            "28667/28667 [==============================] - 3s 104us/step - loss: 0.0273 - acc: 0.9175 - mean_squared_error: 0.0270 - val_loss: 0.0264 - val_acc: 0.9300 - val_mean_squared_error: 0.0261\n",
            "Epoch 24/100\n",
            "28667/28667 [==============================] - 3s 109us/step - loss: 0.0273 - acc: 0.9184 - mean_squared_error: 0.0270 - val_loss: 0.0264 - val_acc: 0.9275 - val_mean_squared_error: 0.0261\n",
            "Epoch 25/100\n",
            "28667/28667 [==============================] - 3s 110us/step - loss: 0.0273 - acc: 0.9179 - mean_squared_error: 0.0270 - val_loss: 0.0264 - val_acc: 0.9294 - val_mean_squared_error: 0.0261\n",
            "Epoch 26/100\n",
            "28667/28667 [==============================] - 3s 111us/step - loss: 0.0273 - acc: 0.9180 - mean_squared_error: 0.0270 - val_loss: 0.0264 - val_acc: 0.9306 - val_mean_squared_error: 0.0261\n",
            "Epoch 27/100\n",
            "28667/28667 [==============================] - 3s 105us/step - loss: 0.0273 - acc: 0.9184 - mean_squared_error: 0.0270 - val_loss: 0.0264 - val_acc: 0.9292 - val_mean_squared_error: 0.0261\n",
            "Epoch 28/100\n",
            "28667/28667 [==============================] - 3s 104us/step - loss: 0.0273 - acc: 0.9178 - mean_squared_error: 0.0270 - val_loss: 0.0263 - val_acc: 0.9304 - val_mean_squared_error: 0.0261\n",
            "Epoch 29/100\n",
            "28667/28667 [==============================] - 3s 105us/step - loss: 0.0273 - acc: 0.9177 - mean_squared_error: 0.0270 - val_loss: 0.0264 - val_acc: 0.9300 - val_mean_squared_error: 0.0261\n",
            "Epoch 30/100\n",
            "28667/28667 [==============================] - 3s 107us/step - loss: 0.0273 - acc: 0.9182 - mean_squared_error: 0.0270 - val_loss: 0.0265 - val_acc: 0.9231 - val_mean_squared_error: 0.0263\n",
            "Epoch 31/100\n",
            "28667/28667 [==============================] - 3s 107us/step - loss: 0.0273 - acc: 0.9179 - mean_squared_error: 0.0270 - val_loss: 0.0263 - val_acc: 0.9287 - val_mean_squared_error: 0.0261\n",
            "Epoch 32/100\n",
            "28667/28667 [==============================] - 3s 113us/step - loss: 0.0272 - acc: 0.9182 - mean_squared_error: 0.0270 - val_loss: 0.0263 - val_acc: 0.9283 - val_mean_squared_error: 0.0261\n",
            "Epoch 33/100\n",
            "28667/28667 [==============================] - 3s 110us/step - loss: 0.0272 - acc: 0.9173 - mean_squared_error: 0.0270 - val_loss: 0.0263 - val_acc: 0.9289 - val_mean_squared_error: 0.0261\n",
            "Epoch 34/100\n",
            "28667/28667 [==============================] - 3s 108us/step - loss: 0.0272 - acc: 0.9176 - mean_squared_error: 0.0270 - val_loss: 0.0263 - val_acc: 0.9302 - val_mean_squared_error: 0.0261\n",
            "Epoch 35/100\n",
            "28667/28667 [==============================] - 3s 111us/step - loss: 0.0272 - acc: 0.9180 - mean_squared_error: 0.0270 - val_loss: 0.0263 - val_acc: 0.9281 - val_mean_squared_error: 0.0261\n",
            "Epoch 36/100\n",
            "28667/28667 [==============================] - 3s 105us/step - loss: 0.0272 - acc: 0.9174 - mean_squared_error: 0.0270 - val_loss: 0.0263 - val_acc: 0.9300 - val_mean_squared_error: 0.0261\n",
            "Epoch 37/100\n",
            "28667/28667 [==============================] - 3s 107us/step - loss: 0.0272 - acc: 0.9170 - mean_squared_error: 0.0270 - val_loss: 0.0264 - val_acc: 0.9243 - val_mean_squared_error: 0.0262\n",
            "Epoch 38/100\n",
            "28667/28667 [==============================] - 3s 104us/step - loss: 0.0272 - acc: 0.9178 - mean_squared_error: 0.0270 - val_loss: 0.0263 - val_acc: 0.9296 - val_mean_squared_error: 0.0261\n",
            "Epoch 39/100\n",
            "28667/28667 [==============================] - 3s 108us/step - loss: 0.0272 - acc: 0.9180 - mean_squared_error: 0.0270 - val_loss: 0.0264 - val_acc: 0.9277 - val_mean_squared_error: 0.0262\n",
            "Epoch 40/100\n",
            "28667/28667 [==============================] - 3s 105us/step - loss: 0.0272 - acc: 0.9178 - mean_squared_error: 0.0270 - val_loss: 0.0264 - val_acc: 0.9291 - val_mean_squared_error: 0.0262\n",
            "Epoch 41/100\n",
            "28667/28667 [==============================] - 3s 104us/step - loss: 0.0272 - acc: 0.9174 - mean_squared_error: 0.0270 - val_loss: 0.0264 - val_acc: 0.9285 - val_mean_squared_error: 0.0262\n",
            "Epoch 42/100\n",
            "28667/28667 [==============================] - 3s 105us/step - loss: 0.0272 - acc: 0.9174 - mean_squared_error: 0.0270 - val_loss: 0.0264 - val_acc: 0.9275 - val_mean_squared_error: 0.0262\n",
            "Epoch 43/100\n",
            "28667/28667 [==============================] - 3s 109us/step - loss: 0.0272 - acc: 0.9178 - mean_squared_error: 0.0270 - val_loss: 0.0263 - val_acc: 0.9259 - val_mean_squared_error: 0.0262\n",
            "Epoch 44/100\n",
            "28667/28667 [==============================] - 3s 105us/step - loss: 0.0272 - acc: 0.9172 - mean_squared_error: 0.0270 - val_loss: 0.0264 - val_acc: 0.9269 - val_mean_squared_error: 0.0262\n",
            "Epoch 45/100\n",
            "28667/28667 [==============================] - 3s 111us/step - loss: 0.0272 - acc: 0.9181 - mean_squared_error: 0.0270 - val_loss: 0.0263 - val_acc: 0.9281 - val_mean_squared_error: 0.0261\n",
            "Epoch 46/100\n",
            "28667/28667 [==============================] - 3s 110us/step - loss: 0.0272 - acc: 0.9170 - mean_squared_error: 0.0270 - val_loss: 0.0264 - val_acc: 0.9271 - val_mean_squared_error: 0.0262\n",
            "Epoch 47/100\n",
            "28667/28667 [==============================] - 3s 104us/step - loss: 0.0272 - acc: 0.9174 - mean_squared_error: 0.0270 - val_loss: 0.0264 - val_acc: 0.9281 - val_mean_squared_error: 0.0262\n",
            "Epoch 48/100\n",
            "28667/28667 [==============================] - 3s 105us/step - loss: 0.0272 - acc: 0.9174 - mean_squared_error: 0.0270 - val_loss: 0.0263 - val_acc: 0.9292 - val_mean_squared_error: 0.0261\n",
            "Epoch 49/100\n",
            "28667/28667 [==============================] - 3s 106us/step - loss: 0.0272 - acc: 0.9177 - mean_squared_error: 0.0270 - val_loss: 0.0263 - val_acc: 0.9271 - val_mean_squared_error: 0.0262\n",
            "Epoch 50/100\n",
            "28667/28667 [==============================] - 3s 105us/step - loss: 0.0272 - acc: 0.9169 - mean_squared_error: 0.0270 - val_loss: 0.0264 - val_acc: 0.9306 - val_mean_squared_error: 0.0262\n",
            "Epoch 51/100\n",
            "28667/28667 [==============================] - 3s 110us/step - loss: 0.0272 - acc: 0.9172 - mean_squared_error: 0.0270 - val_loss: 0.0264 - val_acc: 0.9247 - val_mean_squared_error: 0.0262\n",
            "Epoch 52/100\n",
            "28667/28667 [==============================] - 3s 106us/step - loss: 0.0272 - acc: 0.9174 - mean_squared_error: 0.0270 - val_loss: 0.0263 - val_acc: 0.9273 - val_mean_squared_error: 0.0261\n",
            "Epoch 53/100\n",
            "28667/28667 [==============================] - 3s 111us/step - loss: 0.0272 - acc: 0.9170 - mean_squared_error: 0.0270 - val_loss: 0.0263 - val_acc: 0.9291 - val_mean_squared_error: 0.0261\n",
            "Epoch 54/100\n",
            "28667/28667 [==============================] - 3s 105us/step - loss: 0.0272 - acc: 0.9171 - mean_squared_error: 0.0270 - val_loss: 0.0263 - val_acc: 0.9291 - val_mean_squared_error: 0.0262\n",
            "Epoch 55/100\n",
            "28667/28667 [==============================] - 3s 111us/step - loss: 0.0272 - acc: 0.9172 - mean_squared_error: 0.0270 - val_loss: 0.0263 - val_acc: 0.9287 - val_mean_squared_error: 0.0261\n",
            "Epoch 56/100\n",
            "28667/28667 [==============================] - 3s 109us/step - loss: 0.0272 - acc: 0.9175 - mean_squared_error: 0.0270 - val_loss: 0.0270 - val_acc: 0.9255 - val_mean_squared_error: 0.0268\n",
            "Epoch 57/100\n",
            "28667/28667 [==============================] - 3s 108us/step - loss: 0.0272 - acc: 0.9176 - mean_squared_error: 0.0270 - val_loss: 0.0263 - val_acc: 0.9279 - val_mean_squared_error: 0.0261\n",
            "Epoch 58/100\n",
            "28667/28667 [==============================] - 3s 108us/step - loss: 0.0272 - acc: 0.9170 - mean_squared_error: 0.0270 - val_loss: 0.0263 - val_acc: 0.9281 - val_mean_squared_error: 0.0261\n",
            "Epoch 59/100\n",
            "28667/28667 [==============================] - 3s 106us/step - loss: 0.0272 - acc: 0.9173 - mean_squared_error: 0.0270 - val_loss: 0.0263 - val_acc: 0.9291 - val_mean_squared_error: 0.0261\n",
            "Epoch 60/100\n",
            "28667/28667 [==============================] - 3s 106us/step - loss: 0.0272 - acc: 0.9173 - mean_squared_error: 0.0270 - val_loss: 0.0263 - val_acc: 0.9291 - val_mean_squared_error: 0.0261\n",
            "Epoch 61/100\n",
            "28667/28667 [==============================] - 3s 105us/step - loss: 0.0272 - acc: 0.9178 - mean_squared_error: 0.0270 - val_loss: 0.0263 - val_acc: 0.9291 - val_mean_squared_error: 0.0262\n",
            "Epoch 62/100\n",
            "28667/28667 [==============================] - 3s 103us/step - loss: 0.0272 - acc: 0.9178 - mean_squared_error: 0.0270 - val_loss: 0.0263 - val_acc: 0.9269 - val_mean_squared_error: 0.0262\n",
            "Epoch 63/100\n",
            "28667/28667 [==============================] - 3s 106us/step - loss: 0.0272 - acc: 0.9174 - mean_squared_error: 0.0270 - val_loss: 0.0263 - val_acc: 0.9291 - val_mean_squared_error: 0.0261\n",
            "Epoch 64/100\n",
            "28667/28667 [==============================] - 3s 106us/step - loss: 0.0272 - acc: 0.9178 - mean_squared_error: 0.0270 - val_loss: 0.0263 - val_acc: 0.9287 - val_mean_squared_error: 0.0261\n",
            "Epoch 65/100\n",
            "28667/28667 [==============================] - 3s 108us/step - loss: 0.0272 - acc: 0.9181 - mean_squared_error: 0.0270 - val_loss: 0.0263 - val_acc: 0.9255 - val_mean_squared_error: 0.0262\n",
            "Epoch 66/100\n",
            "28667/28667 [==============================] - 3s 106us/step - loss: 0.0272 - acc: 0.9174 - mean_squared_error: 0.0270 - val_loss: 0.0264 - val_acc: 0.9273 - val_mean_squared_error: 0.0262\n",
            "Epoch 67/100\n",
            "28667/28667 [==============================] - 3s 107us/step - loss: 0.0272 - acc: 0.9165 - mean_squared_error: 0.0270 - val_loss: 0.0263 - val_acc: 0.9271 - val_mean_squared_error: 0.0262\n",
            "Epoch 68/100\n",
            "28667/28667 [==============================] - 3s 105us/step - loss: 0.0272 - acc: 0.9181 - mean_squared_error: 0.0270 - val_loss: 0.0263 - val_acc: 0.9289 - val_mean_squared_error: 0.0261\n",
            "Epoch 69/100\n",
            "28667/28667 [==============================] - 3s 106us/step - loss: 0.0272 - acc: 0.9168 - mean_squared_error: 0.0270 - val_loss: 0.0263 - val_acc: 0.9289 - val_mean_squared_error: 0.0261\n",
            "Epoch 70/100\n",
            "28667/28667 [==============================] - 3s 104us/step - loss: 0.0272 - acc: 0.9168 - mean_squared_error: 0.0270 - val_loss: 0.0263 - val_acc: 0.9281 - val_mean_squared_error: 0.0261\n",
            "Epoch 71/100\n",
            "28667/28667 [==============================] - 3s 110us/step - loss: 0.0272 - acc: 0.9176 - mean_squared_error: 0.0270 - val_loss: 0.0263 - val_acc: 0.9275 - val_mean_squared_error: 0.0261\n",
            "Epoch 72/100\n",
            "28667/28667 [==============================] - 3s 104us/step - loss: 0.0272 - acc: 0.9174 - mean_squared_error: 0.0270 - val_loss: 0.0263 - val_acc: 0.9291 - val_mean_squared_error: 0.0262\n",
            "Epoch 73/100\n",
            "28667/28667 [==============================] - 3s 108us/step - loss: 0.0272 - acc: 0.9176 - mean_squared_error: 0.0270 - val_loss: 0.0263 - val_acc: 0.9298 - val_mean_squared_error: 0.0262\n",
            "Epoch 74/100\n",
            "28667/28667 [==============================] - 3s 111us/step - loss: 0.0272 - acc: 0.9168 - mean_squared_error: 0.0270 - val_loss: 0.0263 - val_acc: 0.9271 - val_mean_squared_error: 0.0261\n",
            "Epoch 75/100\n",
            "28667/28667 [==============================] - 3s 104us/step - loss: 0.0272 - acc: 0.9175 - mean_squared_error: 0.0270 - val_loss: 0.0263 - val_acc: 0.9296 - val_mean_squared_error: 0.0261\n",
            "Epoch 76/100\n",
            "28667/28667 [==============================] - 3s 107us/step - loss: 0.0272 - acc: 0.9176 - mean_squared_error: 0.0270 - val_loss: 0.0263 - val_acc: 0.9294 - val_mean_squared_error: 0.0261\n",
            "Epoch 77/100\n",
            "28667/28667 [==============================] - 3s 106us/step - loss: 0.0272 - acc: 0.9162 - mean_squared_error: 0.0270 - val_loss: 0.0263 - val_acc: 0.9287 - val_mean_squared_error: 0.0261\n",
            "Epoch 78/100\n",
            "28667/28667 [==============================] - 3s 104us/step - loss: 0.0272 - acc: 0.9176 - mean_squared_error: 0.0270 - val_loss: 0.0263 - val_acc: 0.9296 - val_mean_squared_error: 0.0261\n",
            "Epoch 79/100\n",
            "28667/28667 [==============================] - 3s 105us/step - loss: 0.0272 - acc: 0.9175 - mean_squared_error: 0.0270 - val_loss: 0.0263 - val_acc: 0.9291 - val_mean_squared_error: 0.0261\n",
            "Epoch 80/100\n",
            "28667/28667 [==============================] - 3s 103us/step - loss: 0.0272 - acc: 0.9164 - mean_squared_error: 0.0270 - val_loss: 0.0262 - val_acc: 0.9294 - val_mean_squared_error: 0.0261\n",
            "Epoch 81/100\n",
            "28667/28667 [==============================] - 3s 106us/step - loss: 0.0272 - acc: 0.9179 - mean_squared_error: 0.0270 - val_loss: 0.0263 - val_acc: 0.9294 - val_mean_squared_error: 0.0261\n",
            "Epoch 82/100\n",
            "28667/28667 [==============================] - 3s 107us/step - loss: 0.0272 - acc: 0.9176 - mean_squared_error: 0.0270 - val_loss: 0.0263 - val_acc: 0.9273 - val_mean_squared_error: 0.0261\n",
            "Epoch 83/100\n",
            "28667/28667 [==============================] - 3s 109us/step - loss: 0.0272 - acc: 0.9173 - mean_squared_error: 0.0270 - val_loss: 0.0263 - val_acc: 0.9302 - val_mean_squared_error: 0.0261\n",
            "Epoch 84/100\n",
            "28667/28667 [==============================] - 3s 113us/step - loss: 0.0272 - acc: 0.9168 - mean_squared_error: 0.0270 - val_loss: 0.0263 - val_acc: 0.9304 - val_mean_squared_error: 0.0261\n",
            "Epoch 85/100\n",
            "28667/28667 [==============================] - 3s 106us/step - loss: 0.0272 - acc: 0.9175 - mean_squared_error: 0.0270 - val_loss: 0.0263 - val_acc: 0.9292 - val_mean_squared_error: 0.0261\n",
            "Epoch 86/100\n",
            "28667/28667 [==============================] - 3s 106us/step - loss: 0.0272 - acc: 0.9172 - mean_squared_error: 0.0270 - val_loss: 0.0263 - val_acc: 0.9292 - val_mean_squared_error: 0.0261\n",
            "Epoch 87/100\n",
            "28667/28667 [==============================] - 3s 107us/step - loss: 0.0272 - acc: 0.9176 - mean_squared_error: 0.0270 - val_loss: 0.0263 - val_acc: 0.9296 - val_mean_squared_error: 0.0261\n",
            "Epoch 88/100\n",
            "28667/28667 [==============================] - 3s 106us/step - loss: 0.0272 - acc: 0.9171 - mean_squared_error: 0.0270 - val_loss: 0.0264 - val_acc: 0.9142 - val_mean_squared_error: 0.0263\n",
            "Epoch 89/100\n",
            "28667/28667 [==============================] - 3s 105us/step - loss: 0.0272 - acc: 0.9177 - mean_squared_error: 0.0270 - val_loss: 0.0264 - val_acc: 0.9277 - val_mean_squared_error: 0.0263\n",
            "Epoch 90/100\n",
            "28667/28667 [==============================] - 3s 110us/step - loss: 0.0272 - acc: 0.9181 - mean_squared_error: 0.0270 - val_loss: 0.0263 - val_acc: 0.9291 - val_mean_squared_error: 0.0262\n",
            "Epoch 91/100\n",
            "28667/28667 [==============================] - 3s 105us/step - loss: 0.0272 - acc: 0.9171 - mean_squared_error: 0.0270 - val_loss: 0.0262 - val_acc: 0.9281 - val_mean_squared_error: 0.0261\n",
            "Epoch 92/100\n",
            "28667/28667 [==============================] - 3s 106us/step - loss: 0.0272 - acc: 0.9166 - mean_squared_error: 0.0270 - val_loss: 0.0262 - val_acc: 0.9291 - val_mean_squared_error: 0.0261\n",
            "Epoch 93/100\n",
            "28667/28667 [==============================] - 3s 109us/step - loss: 0.0271 - acc: 0.9181 - mean_squared_error: 0.0270 - val_loss: 0.0262 - val_acc: 0.9296 - val_mean_squared_error: 0.0261\n",
            "Epoch 94/100\n",
            "28667/28667 [==============================] - 3s 111us/step - loss: 0.0272 - acc: 0.9175 - mean_squared_error: 0.0270 - val_loss: 0.0262 - val_acc: 0.9277 - val_mean_squared_error: 0.0261\n",
            "Epoch 95/100\n",
            "28667/28667 [==============================] - 3s 107us/step - loss: 0.0271 - acc: 0.9170 - mean_squared_error: 0.0270 - val_loss: 0.0264 - val_acc: 0.9215 - val_mean_squared_error: 0.0262\n",
            "Epoch 96/100\n",
            "28667/28667 [==============================] - 3s 109us/step - loss: 0.0272 - acc: 0.9170 - mean_squared_error: 0.0271 - val_loss: 0.0263 - val_acc: 0.9292 - val_mean_squared_error: 0.0262\n",
            "Epoch 97/100\n",
            "28667/28667 [==============================] - 3s 107us/step - loss: 0.0272 - acc: 0.9174 - mean_squared_error: 0.0270 - val_loss: 0.0262 - val_acc: 0.9304 - val_mean_squared_error: 0.0261\n",
            "Epoch 98/100\n",
            "28667/28667 [==============================] - 3s 105us/step - loss: 0.0271 - acc: 0.9178 - mean_squared_error: 0.0270 - val_loss: 0.0262 - val_acc: 0.9300 - val_mean_squared_error: 0.0261\n",
            "Epoch 99/100\n",
            "28667/28667 [==============================] - 3s 109us/step - loss: 0.0272 - acc: 0.9170 - mean_squared_error: 0.0270 - val_loss: 0.0263 - val_acc: 0.9263 - val_mean_squared_error: 0.0262\n",
            "Epoch 100/100\n",
            "28667/28667 [==============================] - 3s 112us/step - loss: 0.0272 - acc: 0.9170 - mean_squared_error: 0.0270 - val_loss: 0.0262 - val_acc: 0.9294 - val_mean_squared_error: 0.0261\n"
          ],
          "name": "stdout"
        }
      ]
    },
    {
      "cell_type": "code",
      "metadata": {
        "id": "HN-tUhi7V2dj",
        "colab_type": "code",
        "colab": {}
      },
      "source": [
        "from keras.models import Model, load_model\n",
        "autoencoder = load_model('autoenc_rul_model.h5')"
      ],
      "execution_count": 0,
      "outputs": []
    },
    {
      "cell_type": "code",
      "metadata": {
        "id": "JF2jQrtoV2do",
        "colab_type": "code",
        "outputId": "783aa0c3-49a5-4d5f-a0b8-c406aae2df9e",
        "colab": {
          "base_uri": "https://localhost:8080/",
          "height": 226
        }
      },
      "source": [
        "predictions = autoencoder.predict(data)\n",
        "feat = pd.DataFrame(predictions)\n",
        "feat.head()"
      ],
      "execution_count": 0,
      "outputs": [
        {
          "output_type": "execute_result",
          "data": {
            "text/html": [
              "<div>\n",
              "<style scoped>\n",
              "    .dataframe tbody tr th:only-of-type {\n",
              "        vertical-align: middle;\n",
              "    }\n",
              "\n",
              "    .dataframe tbody tr th {\n",
              "        vertical-align: top;\n",
              "    }\n",
              "\n",
              "    .dataframe thead th {\n",
              "        text-align: right;\n",
              "    }\n",
              "</style>\n",
              "<table border=\"1\" class=\"dataframe\">\n",
              "  <thead>\n",
              "    <tr style=\"text-align: right;\">\n",
              "      <th></th>\n",
              "      <th>0</th>\n",
              "      <th>1</th>\n",
              "      <th>2</th>\n",
              "      <th>3</th>\n",
              "      <th>4</th>\n",
              "      <th>5</th>\n",
              "      <th>6</th>\n",
              "      <th>7</th>\n",
              "      <th>8</th>\n",
              "      <th>9</th>\n",
              "      <th>10</th>\n",
              "      <th>11</th>\n",
              "      <th>12</th>\n",
              "      <th>13</th>\n",
              "      <th>14</th>\n",
              "      <th>15</th>\n",
              "      <th>16</th>\n",
              "      <th>17</th>\n",
              "      <th>18</th>\n",
              "      <th>19</th>\n",
              "      <th>20</th>\n",
              "      <th>21</th>\n",
              "      <th>22</th>\n",
              "      <th>23</th>\n",
              "      <th>24</th>\n",
              "    </tr>\n",
              "  </thead>\n",
              "  <tbody>\n",
              "    <tr>\n",
              "      <th>0</th>\n",
              "      <td>0.367734</td>\n",
              "      <td>0.111243</td>\n",
              "      <td>0.0</td>\n",
              "      <td>0.0</td>\n",
              "      <td>0.231750</td>\n",
              "      <td>0.161641</td>\n",
              "      <td>0.177416</td>\n",
              "      <td>0.0</td>\n",
              "      <td>0.988763</td>\n",
              "      <td>0.823335</td>\n",
              "      <td>0.192579</td>\n",
              "      <td>0.120866</td>\n",
              "      <td>0.0</td>\n",
              "      <td>0.0</td>\n",
              "      <td>0.838129</td>\n",
              "      <td>0.208803</td>\n",
              "      <td>0.0</td>\n",
              "      <td>0.183575</td>\n",
              "      <td>0.0</td>\n",
              "      <td>0.172723</td>\n",
              "      <td>0.0</td>\n",
              "      <td>0.0</td>\n",
              "      <td>0.815427</td>\n",
              "      <td>0.0</td>\n",
              "      <td>0.015382</td>\n",
              "    </tr>\n",
              "    <tr>\n",
              "      <th>1</th>\n",
              "      <td>0.597986</td>\n",
              "      <td>0.094591</td>\n",
              "      <td>0.0</td>\n",
              "      <td>0.0</td>\n",
              "      <td>0.253239</td>\n",
              "      <td>0.180008</td>\n",
              "      <td>0.201949</td>\n",
              "      <td>0.0</td>\n",
              "      <td>0.988076</td>\n",
              "      <td>0.800809</td>\n",
              "      <td>0.207755</td>\n",
              "      <td>0.131713</td>\n",
              "      <td>0.0</td>\n",
              "      <td>0.0</td>\n",
              "      <td>0.816612</td>\n",
              "      <td>0.223240</td>\n",
              "      <td>0.0</td>\n",
              "      <td>0.206183</td>\n",
              "      <td>0.0</td>\n",
              "      <td>0.194371</td>\n",
              "      <td>0.0</td>\n",
              "      <td>0.0</td>\n",
              "      <td>0.794389</td>\n",
              "      <td>0.0</td>\n",
              "      <td>0.007314</td>\n",
              "    </tr>\n",
              "    <tr>\n",
              "      <th>2</th>\n",
              "      <td>0.283073</td>\n",
              "      <td>0.283757</td>\n",
              "      <td>0.0</td>\n",
              "      <td>0.0</td>\n",
              "      <td>0.245948</td>\n",
              "      <td>0.176026</td>\n",
              "      <td>0.193508</td>\n",
              "      <td>0.0</td>\n",
              "      <td>0.987813</td>\n",
              "      <td>0.808863</td>\n",
              "      <td>0.207236</td>\n",
              "      <td>0.121385</td>\n",
              "      <td>0.0</td>\n",
              "      <td>0.0</td>\n",
              "      <td>0.822638</td>\n",
              "      <td>0.222524</td>\n",
              "      <td>0.0</td>\n",
              "      <td>0.199970</td>\n",
              "      <td>0.0</td>\n",
              "      <td>0.184071</td>\n",
              "      <td>0.0</td>\n",
              "      <td>0.0</td>\n",
              "      <td>0.799482</td>\n",
              "      <td>0.0</td>\n",
              "      <td>0.001823</td>\n",
              "    </tr>\n",
              "    <tr>\n",
              "      <th>3</th>\n",
              "      <td>0.380589</td>\n",
              "      <td>0.339491</td>\n",
              "      <td>0.0</td>\n",
              "      <td>0.0</td>\n",
              "      <td>0.235709</td>\n",
              "      <td>0.160580</td>\n",
              "      <td>0.182724</td>\n",
              "      <td>0.0</td>\n",
              "      <td>0.989290</td>\n",
              "      <td>0.815900</td>\n",
              "      <td>0.212145</td>\n",
              "      <td>0.099778</td>\n",
              "      <td>0.0</td>\n",
              "      <td>0.0</td>\n",
              "      <td>0.829400</td>\n",
              "      <td>0.227189</td>\n",
              "      <td>0.0</td>\n",
              "      <td>0.187921</td>\n",
              "      <td>0.0</td>\n",
              "      <td>0.168029</td>\n",
              "      <td>0.0</td>\n",
              "      <td>0.0</td>\n",
              "      <td>0.810915</td>\n",
              "      <td>0.0</td>\n",
              "      <td>0.003340</td>\n",
              "    </tr>\n",
              "    <tr>\n",
              "      <th>4</th>\n",
              "      <td>0.318169</td>\n",
              "      <td>0.327582</td>\n",
              "      <td>0.0</td>\n",
              "      <td>0.0</td>\n",
              "      <td>0.247332</td>\n",
              "      <td>0.175219</td>\n",
              "      <td>0.195529</td>\n",
              "      <td>0.0</td>\n",
              "      <td>0.990162</td>\n",
              "      <td>0.805729</td>\n",
              "      <td>0.214409</td>\n",
              "      <td>0.113440</td>\n",
              "      <td>0.0</td>\n",
              "      <td>0.0</td>\n",
              "      <td>0.819215</td>\n",
              "      <td>0.229381</td>\n",
              "      <td>0.0</td>\n",
              "      <td>0.201294</td>\n",
              "      <td>0.0</td>\n",
              "      <td>0.182914</td>\n",
              "      <td>0.0</td>\n",
              "      <td>0.0</td>\n",
              "      <td>0.798042</td>\n",
              "      <td>0.0</td>\n",
              "      <td>0.006215</td>\n",
              "    </tr>\n",
              "  </tbody>\n",
              "</table>\n",
              "</div>"
            ],
            "text/plain": [
              "         0         1    2    3         4   ...   20   21        22   23        24\n",
              "0  0.367734  0.111243  0.0  0.0  0.231750  ...  0.0  0.0  0.815427  0.0  0.015382\n",
              "1  0.597986  0.094591  0.0  0.0  0.253239  ...  0.0  0.0  0.794389  0.0  0.007314\n",
              "2  0.283073  0.283757  0.0  0.0  0.245948  ...  0.0  0.0  0.799482  0.0  0.001823\n",
              "3  0.380589  0.339491  0.0  0.0  0.235709  ...  0.0  0.0  0.810915  0.0  0.003340\n",
              "4  0.318169  0.327582  0.0  0.0  0.247332  ...  0.0  0.0  0.798042  0.0  0.006215\n",
              "\n",
              "[5 rows x 25 columns]"
            ]
          },
          "metadata": {
            "tags": []
          },
          "execution_count": 54
        }
      ]
    },
    {
      "cell_type": "markdown",
      "metadata": {
        "id": "zvOFk8NMV2dt",
        "colab_type": "text"
      },
      "source": [
        "## Get the Activations at the Output of Encoder"
      ]
    },
    {
      "cell_type": "code",
      "metadata": {
        "id": "OWvtfSU3V2du",
        "colab_type": "code",
        "colab": {}
      },
      "source": [
        "input_dim = len(cols)\n",
        "encoding_dim = 14\n",
        "\n",
        "input_l = Input(shape=(input_dim, ))\n",
        "\n",
        "enc = Dense(encoding_dim, activation=\"tanh\", activity_regularizer=regularizers.l1(10e-5))(input_l)\n",
        "enc = Dense(int(encoding_dim / 2), activation=\"relu\")(enc)\n",
        "\n",
        "encod = Model(inputs=input_l, outputs=enc)"
      ],
      "execution_count": 0,
      "outputs": []
    },
    {
      "cell_type": "code",
      "metadata": {
        "id": "lzvEkeb-V2dx",
        "colab_type": "code",
        "colab": {}
      },
      "source": [
        "encod.set_weights(autoencoder.layers[0].get_weights())\n",
        "\n",
        "encod.compile(optimizer='adam', loss='mean_squared_error', metrics=['accuracy', 'mse'])"
      ],
      "execution_count": 0,
      "outputs": []
    },
    {
      "cell_type": "code",
      "metadata": {
        "id": "yGoxyko1V2d1",
        "colab_type": "code",
        "outputId": "b2d82fce-7f64-4f28-ed2d-d922efaa053b",
        "colab": {
          "base_uri": "https://localhost:8080/",
          "height": 260
        }
      },
      "source": [
        "encod.summary()"
      ],
      "execution_count": 0,
      "outputs": [
        {
          "output_type": "stream",
          "text": [
            "Model: \"model_3\"\n",
            "_________________________________________________________________\n",
            "Layer (type)                 Output Shape              Param #   \n",
            "=================================================================\n",
            "input_3 (InputLayer)         (None, 25)                0         \n",
            "_________________________________________________________________\n",
            "dense_9 (Dense)              (None, 14)                364       \n",
            "_________________________________________________________________\n",
            "dense_10 (Dense)             (None, 7)                 105       \n",
            "=================================================================\n",
            "Total params: 469\n",
            "Trainable params: 469\n",
            "Non-trainable params: 0\n",
            "_________________________________________________________________\n"
          ],
          "name": "stdout"
        }
      ]
    },
    {
      "cell_type": "code",
      "metadata": {
        "id": "qmKqV273V2d5",
        "colab_type": "code",
        "outputId": "42c11950-1e60-44f8-9bdb-594dc6d96ac7",
        "colab": {
          "base_uri": "https://localhost:8080/",
          "height": 52
        }
      },
      "source": [
        "train_act = encod.predict(train_df[cols], verbose=1)\n",
        "test_act = encod.predict(test_df[cols], verbose=1)"
      ],
      "execution_count": 0,
      "outputs": [
        {
          "output_type": "stream",
          "text": [
            "20631/20631 [==============================] - 1s 32us/step\n",
            "13096/13096 [==============================] - 0s 22us/step\n"
          ],
          "name": "stdout"
        }
      ]
    },
    {
      "cell_type": "code",
      "metadata": {
        "id": "PTisJRpPV2d8",
        "colab_type": "code",
        "outputId": "0b57bb5c-4817-4a05-ff2b-3493e29011a8",
        "colab": {
          "base_uri": "https://localhost:8080/",
          "height": 206
        }
      },
      "source": [
        "train_act_df = pd.DataFrame(train_act)\n",
        "test_act_df = pd.DataFrame(test_act)\n",
        "train_act_df.head()"
      ],
      "execution_count": 0,
      "outputs": [
        {
          "output_type": "execute_result",
          "data": {
            "text/html": [
              "<div>\n",
              "<style scoped>\n",
              "    .dataframe tbody tr th:only-of-type {\n",
              "        vertical-align: middle;\n",
              "    }\n",
              "\n",
              "    .dataframe tbody tr th {\n",
              "        vertical-align: top;\n",
              "    }\n",
              "\n",
              "    .dataframe thead th {\n",
              "        text-align: right;\n",
              "    }\n",
              "</style>\n",
              "<table border=\"1\" class=\"dataframe\">\n",
              "  <thead>\n",
              "    <tr style=\"text-align: right;\">\n",
              "      <th></th>\n",
              "      <th>0</th>\n",
              "      <th>1</th>\n",
              "      <th>2</th>\n",
              "      <th>3</th>\n",
              "      <th>4</th>\n",
              "      <th>5</th>\n",
              "      <th>6</th>\n",
              "    </tr>\n",
              "  </thead>\n",
              "  <tbody>\n",
              "    <tr>\n",
              "      <th>0</th>\n",
              "      <td>0.0</td>\n",
              "      <td>0.0</td>\n",
              "      <td>0.577386</td>\n",
              "      <td>0.0</td>\n",
              "      <td>0.137588</td>\n",
              "      <td>0.695363</td>\n",
              "      <td>0.993560</td>\n",
              "    </tr>\n",
              "    <tr>\n",
              "      <th>1</th>\n",
              "      <td>0.0</td>\n",
              "      <td>0.0</td>\n",
              "      <td>0.556812</td>\n",
              "      <td>0.0</td>\n",
              "      <td>0.060657</td>\n",
              "      <td>0.652261</td>\n",
              "      <td>1.010713</td>\n",
              "    </tr>\n",
              "    <tr>\n",
              "      <th>2</th>\n",
              "      <td>0.0</td>\n",
              "      <td>0.0</td>\n",
              "      <td>0.562286</td>\n",
              "      <td>0.0</td>\n",
              "      <td>0.197591</td>\n",
              "      <td>0.712470</td>\n",
              "      <td>0.965784</td>\n",
              "    </tr>\n",
              "    <tr>\n",
              "      <th>3</th>\n",
              "      <td>0.0</td>\n",
              "      <td>0.0</td>\n",
              "      <td>0.570767</td>\n",
              "      <td>0.0</td>\n",
              "      <td>0.199277</td>\n",
              "      <td>0.744735</td>\n",
              "      <td>1.005440</td>\n",
              "    </tr>\n",
              "    <tr>\n",
              "      <th>4</th>\n",
              "      <td>0.0</td>\n",
              "      <td>0.0</td>\n",
              "      <td>0.561180</td>\n",
              "      <td>0.0</td>\n",
              "      <td>0.218605</td>\n",
              "      <td>0.738037</td>\n",
              "      <td>1.049752</td>\n",
              "    </tr>\n",
              "  </tbody>\n",
              "</table>\n",
              "</div>"
            ],
            "text/plain": [
              "     0    1         2    3         4         5         6\n",
              "0  0.0  0.0  0.577386  0.0  0.137588  0.695363  0.993560\n",
              "1  0.0  0.0  0.556812  0.0  0.060657  0.652261  1.010713\n",
              "2  0.0  0.0  0.562286  0.0  0.197591  0.712470  0.965784\n",
              "3  0.0  0.0  0.570767  0.0  0.199277  0.744735  1.005440\n",
              "4  0.0  0.0  0.561180  0.0  0.218605  0.738037  1.049752"
            ]
          },
          "metadata": {
            "tags": []
          },
          "execution_count": 59
        }
      ]
    },
    {
      "cell_type": "code",
      "metadata": {
        "id": "KpssUDggV2d_",
        "colab_type": "code",
        "colab": {}
      },
      "source": [
        "train_act_df['RUL'] = train_df['RUL']\n",
        "test_act_df['RUL'] = test_df['RUL']\n",
        "train_act_df['id'] = train_df['id']\n",
        "test_act_df['id'] = test_df['id']"
      ],
      "execution_count": 0,
      "outputs": []
    },
    {
      "cell_type": "code",
      "metadata": {
        "id": "17QEkW2eV2eC",
        "colab_type": "code",
        "outputId": "58e3d7f0-5dcd-4803-97ac-1cc2ef450446",
        "colab": {
          "base_uri": "https://localhost:8080/",
          "height": 185
        }
      },
      "source": [
        "train.columns = cols\n",
        "test.columns = cols"
      ],
      "execution_count": 0,
      "outputs": [
        {
          "output_type": "error",
          "ename": "NameError",
          "evalue": "ignored",
          "traceback": [
            "\u001b[0;31m---------------------------------------------------------------------------\u001b[0m",
            "\u001b[0;31mNameError\u001b[0m                                 Traceback (most recent call last)",
            "\u001b[0;32m<ipython-input-63-70669143ee44>\u001b[0m in \u001b[0;36m<module>\u001b[0;34m()\u001b[0m\n\u001b[0;32m----> 1\u001b[0;31m \u001b[0mtrain\u001b[0m\u001b[0;34m.\u001b[0m\u001b[0mcolumns\u001b[0m \u001b[0;34m=\u001b[0m \u001b[0mcols\u001b[0m\u001b[0;34m\u001b[0m\u001b[0;34m\u001b[0m\u001b[0m\n\u001b[0m\u001b[1;32m      2\u001b[0m \u001b[0mtest\u001b[0m\u001b[0;34m.\u001b[0m\u001b[0mcolumns\u001b[0m \u001b[0;34m=\u001b[0m \u001b[0mcols\u001b[0m\u001b[0;34m\u001b[0m\u001b[0;34m\u001b[0m\u001b[0m\n",
            "\u001b[0;31mNameError\u001b[0m: name 'train' is not defined"
          ]
        }
      ]
    },
    {
      "cell_type": "code",
      "metadata": {
        "id": "SZGTcvO2V2eF",
        "colab_type": "code",
        "outputId": "ad2be08d-592e-44fb-806d-9228ba381cfd",
        "colab": {
          "base_uri": "https://localhost:8080/",
          "height": 219
        }
      },
      "source": [
        "train['RUL'] = train_df['RUL']\n",
        "test['RUL'] = test_df['RUL']\n",
        "train['id'] = train_df['id']\n",
        "test['id'] = test_df['id']"
      ],
      "execution_count": 0,
      "outputs": [
        {
          "output_type": "error",
          "ename": "NameError",
          "evalue": "ignored",
          "traceback": [
            "\u001b[0;31m---------------------------------------------------------------------------\u001b[0m",
            "\u001b[0;31mNameError\u001b[0m                                 Traceback (most recent call last)",
            "\u001b[0;32m<ipython-input-64-d986baebbafa>\u001b[0m in \u001b[0;36m<module>\u001b[0;34m()\u001b[0m\n\u001b[0;32m----> 1\u001b[0;31m \u001b[0mtrain\u001b[0m\u001b[0;34m[\u001b[0m\u001b[0;34m'RUL'\u001b[0m\u001b[0;34m]\u001b[0m \u001b[0;34m=\u001b[0m \u001b[0mtrain_df\u001b[0m\u001b[0;34m[\u001b[0m\u001b[0;34m'RUL'\u001b[0m\u001b[0;34m]\u001b[0m\u001b[0;34m\u001b[0m\u001b[0;34m\u001b[0m\u001b[0m\n\u001b[0m\u001b[1;32m      2\u001b[0m \u001b[0mtest\u001b[0m\u001b[0;34m[\u001b[0m\u001b[0;34m'RUL'\u001b[0m\u001b[0;34m]\u001b[0m \u001b[0;34m=\u001b[0m \u001b[0mtest_df\u001b[0m\u001b[0;34m[\u001b[0m\u001b[0;34m'RUL'\u001b[0m\u001b[0;34m]\u001b[0m\u001b[0;34m\u001b[0m\u001b[0;34m\u001b[0m\u001b[0m\n\u001b[1;32m      3\u001b[0m \u001b[0mtrain\u001b[0m\u001b[0;34m[\u001b[0m\u001b[0;34m'id'\u001b[0m\u001b[0;34m]\u001b[0m \u001b[0;34m=\u001b[0m \u001b[0mtrain_df\u001b[0m\u001b[0;34m[\u001b[0m\u001b[0;34m'id'\u001b[0m\u001b[0;34m]\u001b[0m\u001b[0;34m\u001b[0m\u001b[0;34m\u001b[0m\u001b[0m\n\u001b[1;32m      4\u001b[0m \u001b[0mtest\u001b[0m\u001b[0;34m[\u001b[0m\u001b[0;34m'id'\u001b[0m\u001b[0;34m]\u001b[0m \u001b[0;34m=\u001b[0m \u001b[0mtest_df\u001b[0m\u001b[0;34m[\u001b[0m\u001b[0;34m'id'\u001b[0m\u001b[0;34m]\u001b[0m\u001b[0;34m\u001b[0m\u001b[0;34m\u001b[0m\u001b[0m\n",
            "\u001b[0;31mNameError\u001b[0m: name 'train' is not defined"
          ]
        }
      ]
    },
    {
      "cell_type": "markdown",
      "metadata": {
        "id": "nb3RF3cAV2eJ",
        "colab_type": "text"
      },
      "source": [
        "## Train and Test Sequences"
      ]
    },
    {
      "cell_type": "code",
      "metadata": {
        "id": "HC6gvieHV2eK",
        "colab_type": "code",
        "colab": {}
      },
      "source": [
        "# pick a large window size of 50 cycles\n",
        "sequence_length = 50"
      ],
      "execution_count": 0,
      "outputs": []
    },
    {
      "cell_type": "code",
      "metadata": {
        "id": "dsXQV098V2eO",
        "colab_type": "code",
        "colab": {}
      },
      "source": [
        "# function to reshape features into (samples, time steps, features) \n",
        "def gen_sequence(id_df, seq_length, seq_cols):\n",
        "    \"\"\" Only sequences that meet the window-length are considered, no padding is used. This means for testing\n",
        "    we need to drop those which are below the window-length. An alternative would be to pad sequences so that\n",
        "    we can use shorter ones \"\"\"\n",
        "    data_array = id_df[seq_cols].values\n",
        "    num_elements = data_array.shape[0]\n",
        "    for start, stop in zip(range(0, num_elements-seq_length), range(seq_length, num_elements)):\n",
        "        yield data_array[start:stop, :]"
      ],
      "execution_count": 0,
      "outputs": []
    },
    {
      "cell_type": "code",
      "metadata": {
        "id": "wWvCAKU3V2eQ",
        "colab_type": "code",
        "colab": {}
      },
      "source": [
        "# pick the feature columns \n",
        "sensor_cols = [i for i in range(0,20)]"
      ],
      "execution_count": 0,
      "outputs": []
    },
    {
      "cell_type": "code",
      "metadata": {
        "id": "y0VsA0hwV2eV",
        "colab_type": "code",
        "colab": {}
      },
      "source": [
        "# pick the feature columns \n",
        "sensor_cols = ['s' + str(i) for i in range(1,22)]\n",
        "sequence_cols = ['setting1', 'setting2', 'setting3', 'cycle_norm']\n",
        "sequence_cols.extend(sensor_cols)"
      ],
      "execution_count": 0,
      "outputs": []
    },
    {
      "cell_type": "code",
      "metadata": {
        "id": "XdKQ-R5dV2eZ",
        "colab_type": "code",
        "colab": {}
      },
      "source": [
        "sensor_cols = [0, 1, 2, 3, 4, 5, 6]"
      ],
      "execution_count": 0,
      "outputs": []
    },
    {
      "cell_type": "code",
      "metadata": {
        "id": "1CfGFlsFV2ec",
        "colab_type": "code",
        "colab": {}
      },
      "source": [
        "# generator for the sequences\n",
        "seq_gen = (list(gen_sequence(train_act_df[train_act_df['id']==id], sequence_length, sensor_cols)) \n",
        "           for id in train_act_df['id'].unique())"
      ],
      "execution_count": 0,
      "outputs": []
    },
    {
      "cell_type": "code",
      "metadata": {
        "id": "viW1eu03V2ei",
        "colab_type": "code",
        "outputId": "2e553af6-6607-4370-b466-0f4faae36cdc",
        "colab": {
          "base_uri": "https://localhost:8080/",
          "height": 34
        }
      },
      "source": [
        "# generate sequences and convert to numpy array\n",
        "seq_array = np.concatenate(list(seq_gen)).astype(np.float32)\n",
        "seq_array.shape"
      ],
      "execution_count": 0,
      "outputs": [
        {
          "output_type": "execute_result",
          "data": {
            "text/plain": [
              "(15631, 50, 7)"
            ]
          },
          "metadata": {
            "tags": []
          },
          "execution_count": 71
        }
      ]
    },
    {
      "cell_type": "code",
      "metadata": {
        "id": "HexLarvuV2em",
        "colab_type": "code",
        "colab": {}
      },
      "source": [
        "# function to generate labels\n",
        "def gen_labels(id_df, seq_length, label):\n",
        "    data_array = id_df[label].values\n",
        "    num_elements = data_array.shape[0]\n",
        "    return data_array[seq_length:num_elements, :]"
      ],
      "execution_count": 0,
      "outputs": []
    },
    {
      "cell_type": "code",
      "metadata": {
        "id": "H9qt3xSrV2eq",
        "colab_type": "code",
        "outputId": "a225a935-01d5-4c18-8e12-fed3deb942e1",
        "colab": {
          "base_uri": "https://localhost:8080/",
          "height": 34
        }
      },
      "source": [
        "# generate labels\n",
        "label_gen = [gen_labels(train_act_df[train_act_df['id']==id], sequence_length, ['RUL']) \n",
        "             for id in train_act_df['id'].unique()]\n",
        "label_array = np.concatenate(label_gen).astype(np.float32)\n",
        "label_array.shape"
      ],
      "execution_count": 0,
      "outputs": [
        {
          "output_type": "execute_result",
          "data": {
            "text/plain": [
              "(15631, 1)"
            ]
          },
          "metadata": {
            "tags": []
          },
          "execution_count": 73
        }
      ]
    },
    {
      "cell_type": "markdown",
      "metadata": {
        "id": "DBSEWrdEV2et",
        "colab_type": "text"
      },
      "source": [
        "## Model"
      ]
    },
    {
      "cell_type": "code",
      "metadata": {
        "id": "wFcHWA9cV2ev",
        "colab_type": "code",
        "outputId": "9528eae0-1134-4651-a3df-cbbbeadaab96",
        "colab": {
          "base_uri": "https://localhost:8080/",
          "height": 124
        }
      },
      "source": [
        "# build the network\n",
        "nb_features = seq_array.shape[2]\n",
        "nb_out = label_array.shape[1]\n",
        "\n",
        "model = Sequential()\n",
        "model.add(LSTM(\n",
        "         units=100,\n",
        "         return_sequences=True,\n",
        "         input_shape=(sequence_length, nb_features)))\n",
        "model.add(Dropout(0.4))\n",
        "\n",
        "model.add(LSTM(\n",
        "          units=50,\n",
        "          return_sequences=False))\n",
        "model.add(Dropout(0.4))\n",
        "\n",
        "model.add(Dense(units=1, activation='relu'))\n",
        "model.add(Activation(\"relu\"))\n",
        "model.compile(loss=\"mse\", optimizer=\"rmsprop\", metrics=['mse'])"
      ],
      "execution_count": 0,
      "outputs": [
        {
          "output_type": "stream",
          "text": [
            "WARNING:tensorflow:From /usr/local/lib/python3.6/dist-packages/keras/backend/tensorflow_backend.py:148: The name tf.placeholder_with_default is deprecated. Please use tf.compat.v1.placeholder_with_default instead.\n",
            "\n",
            "WARNING:tensorflow:From /usr/local/lib/python3.6/dist-packages/keras/backend/tensorflow_backend.py:3733: calling dropout (from tensorflow.python.ops.nn_ops) with keep_prob is deprecated and will be removed in a future version.\n",
            "Instructions for updating:\n",
            "Please use `rate` instead of `keep_prob`. Rate should be set to `rate = 1 - keep_prob`.\n"
          ],
          "name": "stdout"
        }
      ]
    },
    {
      "cell_type": "code",
      "metadata": {
        "id": "uafgdIDdV2fA",
        "colab_type": "code",
        "outputId": "c086eb0a-fa60-46bc-e1ed-c17f9869fe37",
        "colab": {
          "base_uri": "https://localhost:8080/",
          "height": 382
        }
      },
      "source": [
        "print(model.summary())"
      ],
      "execution_count": 0,
      "outputs": [
        {
          "output_type": "stream",
          "text": [
            "Model: \"sequential_1\"\n",
            "_________________________________________________________________\n",
            "Layer (type)                 Output Shape              Param #   \n",
            "=================================================================\n",
            "lstm_1 (LSTM)                (None, 50, 100)           43200     \n",
            "_________________________________________________________________\n",
            "dropout_1 (Dropout)          (None, 50, 100)           0         \n",
            "_________________________________________________________________\n",
            "lstm_2 (LSTM)                (None, 50)                30200     \n",
            "_________________________________________________________________\n",
            "dropout_2 (Dropout)          (None, 50)                0         \n",
            "_________________________________________________________________\n",
            "dense_11 (Dense)             (None, 1)                 51        \n",
            "_________________________________________________________________\n",
            "activation_1 (Activation)    (None, 1)                 0         \n",
            "=================================================================\n",
            "Total params: 73,451\n",
            "Trainable params: 73,451\n",
            "Non-trainable params: 0\n",
            "_________________________________________________________________\n",
            "None\n"
          ],
          "name": "stdout"
        }
      ]
    },
    {
      "cell_type": "markdown",
      "metadata": {
        "id": "c4tn4fg4V2fD",
        "colab_type": "text"
      },
      "source": [
        "## Training the Model"
      ]
    },
    {
      "cell_type": "code",
      "metadata": {
        "id": "1y3hzSv0V2fE",
        "colab_type": "code",
        "outputId": "466c2408-e3af-4ce1-8d17-e13634e23515",
        "colab": {
          "base_uri": "https://localhost:8080/",
          "height": 34
        }
      },
      "source": [
        "from keras.callbacks import EarlyStopping, ModelCheckpoint\n",
        "\n",
        "STAMP = 'predictive_regression_kalhman'\n",
        "print(STAMP)\n",
        "\n",
        "early_stopping =EarlyStopping(monitor='val_loss', patience=10)\n",
        "bst_model_path = STAMP + '.h5'\n",
        "model_checkpoint = ModelCheckpoint(bst_model_path, save_best_only=True, save_weights_only=True)"
      ],
      "execution_count": 0,
      "outputs": [
        {
          "output_type": "stream",
          "text": [
            "predictive_regression_kalhman\n"
          ],
          "name": "stdout"
        }
      ]
    },
    {
      "cell_type": "code",
      "metadata": {
        "id": "wZEktDK1V2fI",
        "colab_type": "code",
        "colab": {}
      },
      "source": [
        "from keras.optimizers import RMSprop\n",
        "\n",
        "model.compile(loss=\"mse\", optimizer=RMSprop(lr=1e-2), metrics=['mse'])"
      ],
      "execution_count": 0,
      "outputs": []
    },
    {
      "cell_type": "code",
      "metadata": {
        "id": "IIQ0zS9JV2fK",
        "colab_type": "code",
        "outputId": "7d3992ec-5491-4a97-9e4c-d3aff5253a85",
        "colab": {
          "base_uri": "https://localhost:8080/",
          "height": 489
        }
      },
      "source": [
        "%%time\n",
        "# fit the network\n",
        "hist = model.fit(seq_array, label_array, epochs=10, batch_size=200, validation_split=0.05, verbose=1,callbacks=[early_stopping, model_checkpoint])"
      ],
      "execution_count": 0,
      "outputs": [
        {
          "output_type": "stream",
          "text": [
            "WARNING:tensorflow:From /usr/local/lib/python3.6/dist-packages/tensorflow_core/python/ops/math_grad.py:1424: where (from tensorflow.python.ops.array_ops) is deprecated and will be removed in a future version.\n",
            "Instructions for updating:\n",
            "Use tf.where in 2.0, which has the same broadcast rule as np.where\n",
            "Train on 14849 samples, validate on 782 samples\n",
            "Epoch 1/10\n",
            "14849/14849 [==============================] - 12s 815us/step - loss: 6993.6019 - mean_squared_error: 6993.6019 - val_loss: 5121.3855 - val_mean_squared_error: 5121.3855\n",
            "Epoch 2/10\n",
            "14849/14849 [==============================] - 11s 713us/step - loss: 4325.9255 - mean_squared_error: 4325.9255 - val_loss: 3452.9651 - val_mean_squared_error: 3452.9651\n",
            "Epoch 3/10\n",
            "14849/14849 [==============================] - 11s 731us/step - loss: 3440.9262 - mean_squared_error: 3440.9262 - val_loss: 3168.7608 - val_mean_squared_error: 3168.7608\n",
            "Epoch 4/10\n",
            "14849/14849 [==============================] - 11s 717us/step - loss: 3399.5373 - mean_squared_error: 3399.5373 - val_loss: 3169.8808 - val_mean_squared_error: 3169.8808\n",
            "Epoch 5/10\n",
            "14849/14849 [==============================] - 11s 711us/step - loss: 3391.5144 - mean_squared_error: 3391.5144 - val_loss: 3169.8265 - val_mean_squared_error: 3169.8265\n",
            "Epoch 6/10\n",
            "14849/14849 [==============================] - 11s 725us/step - loss: 3390.1820 - mean_squared_error: 3390.1820 - val_loss: 3169.2126 - val_mean_squared_error: 3169.2126\n",
            "Epoch 7/10\n",
            "14849/14849 [==============================] - 11s 716us/step - loss: 3379.3549 - mean_squared_error: 3379.3549 - val_loss: 3197.1026 - val_mean_squared_error: 3197.1026\n",
            "Epoch 8/10\n",
            "14849/14849 [==============================] - 11s 712us/step - loss: 2642.1011 - mean_squared_error: 2642.1011 - val_loss: 1573.0018 - val_mean_squared_error: 1573.0018\n",
            "Epoch 9/10\n",
            "14849/14849 [==============================] - 11s 724us/step - loss: 1821.6567 - mean_squared_error: 1821.6567 - val_loss: 1602.2866 - val_mean_squared_error: 1602.2866\n",
            "Epoch 10/10\n",
            "14849/14849 [==============================] - 11s 713us/step - loss: 1426.3579 - mean_squared_error: 1426.3579 - val_loss: 3984.9529 - val_mean_squared_error: 3984.9529\n",
            "CPU times: user 2min 29s, sys: 7.96 s, total: 2min 37s\n",
            "Wall time: 1min 49s\n"
          ],
          "name": "stdout"
        }
      ]
    },
    {
      "cell_type": "code",
      "metadata": {
        "id": "LeYCF7S4V2fO",
        "colab_type": "code",
        "colab": {}
      },
      "source": [
        "model.load_weights(bst_model_path)"
      ],
      "execution_count": 0,
      "outputs": []
    },
    {
      "cell_type": "code",
      "metadata": {
        "scrolled": false,
        "id": "XtN0OPhDV2fR",
        "colab_type": "code",
        "outputId": "3b96993b-6252-4c77-adb4-268b4b0c1976",
        "colab": {
          "base_uri": "https://localhost:8080/",
          "height": 52
        }
      },
      "source": [
        "# training metrics\n",
        "scores = model.evaluate(seq_array, label_array, verbose=1, batch_size=200)\n",
        "print('Score: {}'.format(scores[1]))"
      ],
      "execution_count": 0,
      "outputs": [
        {
          "output_type": "stream",
          "text": [
            "15631/15631 [==============================] - 4s 279us/step\n",
            "Score: 1780.9274901338276\n"
          ],
          "name": "stdout"
        }
      ]
    },
    {
      "cell_type": "code",
      "metadata": {
        "id": "dE73Az6uV2fV",
        "colab_type": "code",
        "outputId": "6e05df84-a7f7-4392-dc7e-fe72581528de",
        "colab": {
          "base_uri": "https://localhost:8080/",
          "height": 185
        }
      },
      "source": [
        "p = pd.DataFrame(np.zeros((1, 25)), columns=cols)\n",
        "test = pd.concat([test, p])"
      ],
      "execution_count": 0,
      "outputs": [
        {
          "output_type": "error",
          "ename": "NameError",
          "evalue": "ignored",
          "traceback": [
            "\u001b[0;31m---------------------------------------------------------------------------\u001b[0m",
            "\u001b[0;31mNameError\u001b[0m                                 Traceback (most recent call last)",
            "\u001b[0;32m<ipython-input-82-1d5eff675bda>\u001b[0m in \u001b[0;36m<module>\u001b[0;34m()\u001b[0m\n\u001b[1;32m      1\u001b[0m \u001b[0mp\u001b[0m \u001b[0;34m=\u001b[0m \u001b[0mpd\u001b[0m\u001b[0;34m.\u001b[0m\u001b[0mDataFrame\u001b[0m\u001b[0;34m(\u001b[0m\u001b[0mnp\u001b[0m\u001b[0;34m.\u001b[0m\u001b[0mzeros\u001b[0m\u001b[0;34m(\u001b[0m\u001b[0;34m(\u001b[0m\u001b[0;36m1\u001b[0m\u001b[0;34m,\u001b[0m \u001b[0;36m25\u001b[0m\u001b[0;34m)\u001b[0m\u001b[0;34m)\u001b[0m\u001b[0;34m,\u001b[0m \u001b[0mcolumns\u001b[0m\u001b[0;34m=\u001b[0m\u001b[0mcols\u001b[0m\u001b[0;34m)\u001b[0m\u001b[0;34m\u001b[0m\u001b[0;34m\u001b[0m\u001b[0m\n\u001b[0;32m----> 2\u001b[0;31m \u001b[0mtest\u001b[0m \u001b[0;34m=\u001b[0m \u001b[0mpd\u001b[0m\u001b[0;34m.\u001b[0m\u001b[0mconcat\u001b[0m\u001b[0;34m(\u001b[0m\u001b[0;34m[\u001b[0m\u001b[0mtest\u001b[0m\u001b[0;34m,\u001b[0m \u001b[0mp\u001b[0m\u001b[0;34m]\u001b[0m\u001b[0;34m)\u001b[0m\u001b[0;34m\u001b[0m\u001b[0;34m\u001b[0m\u001b[0m\n\u001b[0m",
            "\u001b[0;31mNameError\u001b[0m: name 'test' is not defined"
          ]
        }
      ]
    },
    {
      "cell_type": "code",
      "metadata": {
        "id": "dcZLGdkmV2fY",
        "colab_type": "code",
        "outputId": "1eeda20f-7a72-4543-c717-e33061f21526",
        "colab": {
          "base_uri": "https://localhost:8080/",
          "height": 34
        }
      },
      "source": [
        "seq_array_test_last = [test_act_df[test_act_df['id']==id][sensor_cols].values[-sequence_length:] \n",
        "                       for id in test_act_df['id'].unique() if len(test_act_df[test_act_df['id']==id]) >= sequence_length]\n",
        "\n",
        "seq_array_test_last = np.asarray(seq_array_test_last).astype(np.float32)\n",
        "seq_array_test_last.shape"
      ],
      "execution_count": 0,
      "outputs": [
        {
          "output_type": "execute_result",
          "data": {
            "text/plain": [
              "(93, 50, 7)"
            ]
          },
          "metadata": {
            "tags": []
          },
          "execution_count": 83
        }
      ]
    },
    {
      "cell_type": "code",
      "metadata": {
        "id": "qT78N-PCV2fa",
        "colab_type": "code",
        "colab": {}
      },
      "source": [
        "y_mask = [len(test_act_df[test_act_df['id']==id]) >= sequence_length for id in test_act_df['id'].unique()]"
      ],
      "execution_count": 0,
      "outputs": []
    },
    {
      "cell_type": "code",
      "metadata": {
        "id": "IHb82UWnV2fh",
        "colab_type": "code",
        "outputId": "b2dc488e-9974-431a-952a-f6b35c5d2e47",
        "colab": {
          "base_uri": "https://localhost:8080/",
          "height": 34
        }
      },
      "source": [
        "label_array_test_last = test_act_df.groupby('id')['RUL'].nth(-1)[y_mask].values\n",
        "label_array_test_last = label_array_test_last.reshape(label_array_test_last.shape[0],1).astype(np.float32)\n",
        "label_array_test_last.shape"
      ],
      "execution_count": 0,
      "outputs": [
        {
          "output_type": "execute_result",
          "data": {
            "text/plain": [
              "(93, 1)"
            ]
          },
          "metadata": {
            "tags": []
          },
          "execution_count": 85
        }
      ]
    },
    {
      "cell_type": "code",
      "metadata": {
        "id": "t87NSCuKV2fk",
        "colab_type": "code",
        "outputId": "323d9b74-aa93-4583-c451-0601d7fe2abd",
        "colab": {
          "base_uri": "https://localhost:8080/",
          "height": 52
        }
      },
      "source": [
        "print(seq_array_test_last.shape)\n",
        "print(label_array_test_last.shape)"
      ],
      "execution_count": 0,
      "outputs": [
        {
          "output_type": "stream",
          "text": [
            "(93, 50, 7)\n",
            "(93, 1)\n"
          ],
          "name": "stdout"
        }
      ]
    },
    {
      "cell_type": "markdown",
      "metadata": {
        "id": "Bep-wONQV2fo",
        "colab_type": "text"
      },
      "source": [
        "## Results on Test Data"
      ]
    },
    {
      "cell_type": "code",
      "metadata": {
        "id": "S65X1pRwV2fo",
        "colab_type": "code",
        "outputId": "e141cd04-27c3-48e5-8ac8-f2d01b326d0b",
        "colab": {
          "base_uri": "https://localhost:8080/",
          "height": 34
        }
      },
      "source": [
        "# test metrics\n",
        "import math\n",
        "scores_test = model.evaluate(seq_array_test_last, label_array_test_last, verbose=2)\n",
        "print('Test Score: %.2f MSE (%.2f RMSE)' % (scores_test[0], math.sqrt(scores_test[0])))"
      ],
      "execution_count": 0,
      "outputs": [
        {
          "output_type": "stream",
          "text": [
            "Test Score: 572.78 MSE (23.93 RMSE)\n"
          ],
          "name": "stdout"
        }
      ]
    },
    {
      "cell_type": "code",
      "metadata": {
        "id": "wt9j0HUtV2fr",
        "colab_type": "code",
        "colab": {}
      },
      "source": [
        "pred = model.predict(seq_array_test_last)"
      ],
      "execution_count": 0,
      "outputs": []
    },
    {
      "cell_type": "code",
      "metadata": {
        "id": "h0Lb1_BJV2ft",
        "colab_type": "code",
        "colab": {}
      },
      "source": [
        "diff = []\n",
        "ratio = []\n",
        "pred = model.predict(seq_array_test_last)\n",
        "for u in range(len(label_array_test_last)):\n",
        "    pr = pred[u][0]\n",
        "    ratio.append((label_array_test_last[u] / pr) - 1)\n",
        "    diff.append(abs(label_array_test_last[u] - pr))"
      ],
      "execution_count": 0,
      "outputs": []
    },
    {
      "cell_type": "markdown",
      "metadata": {
        "id": "Nrcvxa8EV2fw",
        "colab_type": "text"
      },
      "source": [
        "## Plot of Predicted and True RUL Values"
      ]
    },
    {
      "cell_type": "code",
      "metadata": {
        "id": "md4gFxaKV2fx",
        "colab_type": "code",
        "outputId": "4419655c-43be-4971-8e16-c0820af08699",
        "colab": {
          "base_uri": "https://localhost:8080/",
          "height": 265
        }
      },
      "source": [
        "import matplotlib.pyplot as plt2\n",
        "\n",
        "plt2.plot(pred, color='red', label='Prediction')\n",
        "plt2.plot(label_array_test_last, color='blue', label='Ground Truth')\n",
        "plt2.legend(loc='upper left')\n",
        "plt2.show()"
      ],
      "execution_count": 0,
      "outputs": [
        {
          "output_type": "display_data",
          "data": {
            "image/png": "[encoded data removed]",
            "text/plain": [
              "<Figure size 432x288 with 1 Axes>"
            ]
          },
          "metadata": {
            "tags": []
          }
        }
      ]
    },
    {
      "cell_type": "code",
      "metadata": {
        "id": "i-rxd3b1V2fz",
        "colab_type": "code",
        "outputId": "a5baba4b-a21b-4d4d-aaa7-5fd928e1979c",
        "colab": {
          "base_uri": "https://localhost:8080/",
          "height": 300
        }
      },
      "source": [
        "error = pd.DataFrame(( label_array_test_last - pred),columns=['error'])\n",
        "error.describe()"
      ],
      "execution_count": 0,
      "outputs": [
        {
          "output_type": "execute_result",
          "data": {
            "text/html": [
              "<div>\n",
              "<style scoped>\n",
              "    .dataframe tbody tr th:only-of-type {\n",
              "        vertical-align: middle;\n",
              "    }\n",
              "\n",
              "    .dataframe tbody tr th {\n",
              "        vertical-align: top;\n",
              "    }\n",
              "\n",
              "    .dataframe thead th {\n",
              "        text-align: right;\n",
              "    }\n",
              "</style>\n",
              "<table border=\"1\" class=\"dataframe\">\n",
              "  <thead>\n",
              "    <tr style=\"text-align: right;\">\n",
              "      <th></th>\n",
              "      <th>error</th>\n",
              "    </tr>\n",
              "  </thead>\n",
              "  <tbody>\n",
              "    <tr>\n",
              "      <th>count</th>\n",
              "      <td>93.000000</td>\n",
              "    </tr>\n",
              "    <tr>\n",
              "      <th>mean</th>\n",
              "      <td>1.720670</td>\n",
              "    </tr>\n",
              "    <tr>\n",
              "      <th>std</th>\n",
              "      <td>24.000359</td>\n",
              "    </tr>\n",
              "    <tr>\n",
              "      <th>min</th>\n",
              "      <td>-47.447212</td>\n",
              "    </tr>\n",
              "    <tr>\n",
              "      <th>25%</th>\n",
              "      <td>-12.306889</td>\n",
              "    </tr>\n",
              "    <tr>\n",
              "      <th>50%</th>\n",
              "      <td>-1.070902</td>\n",
              "    </tr>\n",
              "    <tr>\n",
              "      <th>75%</th>\n",
              "      <td>15.288216</td>\n",
              "    </tr>\n",
              "    <tr>\n",
              "      <th>max</th>\n",
              "      <td>60.169930</td>\n",
              "    </tr>\n",
              "  </tbody>\n",
              "</table>\n",
              "</div>"
            ],
            "text/plain": [
              "           error\n",
              "count  93.000000\n",
              "mean    1.720670\n",
              "std    24.000359\n",
              "min   -47.447212\n",
              "25%   -12.306889\n",
              "50%    -1.070902\n",
              "75%    15.288216\n",
              "max    60.169930"
            ]
          },
          "metadata": {
            "tags": []
          },
          "execution_count": 95
        }
      ]
    },
    {
      "cell_type": "code",
      "metadata": {
        "id": "EwhJ5IN8V2f2",
        "colab_type": "code",
        "colab": {}
      },
      "source": [
        ""
      ],
      "execution_count": 0,
      "outputs": []
    }
  ]
}