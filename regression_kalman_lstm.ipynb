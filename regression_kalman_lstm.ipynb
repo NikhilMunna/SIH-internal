{
  "nbformat": 4,
  "nbformat_minor": 0,
  "metadata": {
    "kernelspec": {
      "name": "python3",
      "display_name": "Python 3"
    },
    "language_info": {
      "codemirror_mode": {
        "name": "ipython",
        "version": 3
      },
      "file_extension": ".py",
      "mimetype": "text/x-python",
      "name": "python",
      "nbconvert_exporter": "python",
      "pygments_lexer": "ipython3",
      "version": "3.6.8"
    },
    "colab": {
      "name": "regression_kalman_lstm.ipynb",
      "provenance": [],
      "collapsed_sections": [
        "YAzhsZGznYmp",
        "oD4i7iALnYm8",
        "zj_-OdkgnYnT",
        "52ylCNHDnYn1",
        "PJGKHFJInYoB",
        "eJYNrCuUnYoN",
        "YT2gKes3nYoT",
        "nsJJm_KDnYot"
      ]
    },
    "accelerator": "GPU"
  },
  "cells": [
    {
      "cell_type": "markdown",
      "metadata": {
        "id": "GboCjh1DnYk3",
        "colab_type": "text"
      },
      "source": [
        "# Predictive Maintenance"
      ]
    },
    {
      "cell_type": "markdown",
      "metadata": {
        "id": "PW9mLX4TnYk-",
        "colab_type": "text"
      },
      "source": [
        "## Dataset 1 - Regression (RUL) using Kalman Filter + LSTM"
      ]
    },
    {
      "cell_type": "code",
      "metadata": {
        "id": "qGDs2-vNnYlD",
        "colab_type": "code",
        "outputId": "4dd54736-41b7-4368-b5ad-0704b73ccc03",
        "colab": {
          "base_uri": "https://localhost:8080/",
          "height": 34
        }
      },
      "source": [
        "!pip install pykalman\n",
        "import pandas as pd\n",
        "import numpy as np\n",
        "import matplotlib.pyplot as plt\n",
        "from pykalman import KalmanFilter\n",
        "\n",
        "import keras\n",
        "from sklearn import preprocessing\n",
        "from sklearn.metrics import confusion_matrix, recall_score, precision_score\n",
        "from keras.models import Sequential\n",
        "from keras.layers import Dense, Dropout, LSTM, Activation, Embedding\n",
        "\n",
        "# Setting seed for reproducability\n",
        "np.random.seed(1234)  \n",
        "PYTHONHASHSEED = 0\n",
        "%matplotlib inline"
      ],
      "execution_count": 0,
      "outputs": [
        {
          "output_type": "stream",
          "text": [
            "Requirement already satisfied: pykalman in /usr/local/lib/python3.6/dist-packages (0.9.5)\n"
          ],
          "name": "stdout"
        }
      ]
    },
    {
      "cell_type": "markdown",
      "metadata": {
        "id": "kGJhDuBBnYlT",
        "colab_type": "text"
      },
      "source": [
        "## Preprocess Train and Test Data using Kalman Filtering"
      ]
    },
    {
      "cell_type": "code",
      "metadata": {
        "id": "PM7I7NK-nYlV",
        "colab_type": "code",
        "colab": {}
      },
      "source": [
        "# read training data \n",
        "train_df = pd.read_csv('train_01.txt', sep=\" \", header=None)\n",
        "train_df.drop(train_df.columns[[26, 27]], axis=1, inplace=True)\n",
        "train_df.columns = ['id', 'cycle', 'setting1', 'setting2', 'setting3', 's1', 's2', 's3',\n",
        "                     's4', 's5', 's6', 's7', 's8', 's9', 's10', 's11', 's12', 's13', 's14',\n",
        "                     's15', 's16', 's17', 's18', 's19', 's20', 's21']"
      ],
      "execution_count": 0,
      "outputs": []
    },
    {
      "cell_type": "code",
      "metadata": {
        "id": "nMTd4peOnYlg",
        "colab_type": "code",
        "colab": {}
      },
      "source": [
        "for cols in train_df.columns:\n",
        "    if cols == 'id':\n",
        "        continue;\n",
        "    if cols == 'cycle':\n",
        "        continue;\n",
        "    else:\n",
        "        kf = KalmanFilter(transition_matrices = [1],\n",
        "                      observation_matrices = [1],\n",
        "                      initial_state_mean = train_df[cols].values[0],\n",
        "                      initial_state_covariance = 1,\n",
        "                      observation_covariance=1,\n",
        "                      transition_covariance=.01)\n",
        "        state_means,_ = kf.filter(train_df[cols].values)\n",
        "        train_df[cols] = state_means.flatten()"
      ],
      "execution_count": 0,
      "outputs": []
    },
    {
      "cell_type": "code",
      "metadata": {
        "id": "24fhxKLonYlp",
        "colab_type": "code",
        "colab": {}
      },
      "source": [
        "# read test data\n",
        "test_df = pd.read_csv('test_01.txt', sep=\" \", header=None)\n",
        "test_df.drop(test_df.columns[[26, 27]], axis=1, inplace=True)\n",
        "test_df.columns = ['id', 'cycle', 'setting1', 'setting2', 'setting3', 's1', 's2', 's3',\n",
        "                     's4', 's5', 's6', 's7', 's8', 's9', 's10', 's11', 's12', 's13', 's14',\n",
        "                     's15', 's16', 's17', 's18', 's19', 's20', 's21']"
      ],
      "execution_count": 0,
      "outputs": []
    },
    {
      "cell_type": "code",
      "metadata": {
        "id": "6qfUp11YnYlw",
        "colab_type": "code",
        "colab": {}
      },
      "source": [
        "for cols in test_df.columns:\n",
        "    if cols == 'id':\n",
        "        continue;\n",
        "    if cols == 'cycle':\n",
        "        continue;\n",
        "    else:\n",
        "        kf = KalmanFilter(transition_matrices = [1],\n",
        "                      observation_matrices = [1],\n",
        "                      initial_state_mean = test_df[cols].values[0],\n",
        "                      initial_state_covariance = 1,\n",
        "                      observation_covariance=1,\n",
        "                      transition_covariance=.01)\n",
        "        state_means,_ = kf.filter(test_df[cols].values)\n",
        "        test_df[cols] = state_means.flatten()"
      ],
      "execution_count": 0,
      "outputs": []
    },
    {
      "cell_type": "code",
      "metadata": {
        "id": "cmBTFePZnYl3",
        "colab_type": "code",
        "colab": {}
      },
      "source": [
        "# read ground truth data\n",
        "truth_df = pd.read_csv('truth_01.txt', sep=\" \", header=None)\n",
        "truth_df.drop(truth_df.columns[[1]], axis=1, inplace=True)"
      ],
      "execution_count": 0,
      "outputs": []
    },
    {
      "cell_type": "code",
      "metadata": {
        "id": "HFpjBXMPnYl-",
        "colab_type": "code",
        "outputId": "50f9a8fb-77eb-42bd-fdea-7c8c07b37c2b",
        "colab": {
          "base_uri": "https://localhost:8080/",
          "height": 226
        }
      },
      "source": [
        "train_df = train_df.sort_values(['id','cycle'])\n",
        "train_df.head()"
      ],
      "execution_count": 0,
      "outputs": [
        {
          "output_type": "execute_result",
          "data": {
            "text/html": [
              "<div>\n",
              "<style scoped>\n",
              "    .dataframe tbody tr th:only-of-type {\n",
              "        vertical-align: middle;\n",
              "    }\n",
              "\n",
              "    .dataframe tbody tr th {\n",
              "        vertical-align: top;\n",
              "    }\n",
              "\n",
              "    .dataframe thead th {\n",
              "        text-align: right;\n",
              "    }\n",
              "</style>\n",
              "<table border=\"1\" class=\"dataframe\">\n",
              "  <thead>\n",
              "    <tr style=\"text-align: right;\">\n",
              "      <th></th>\n",
              "      <th>id</th>\n",
              "      <th>cycle</th>\n",
              "      <th>setting1</th>\n",
              "      <th>setting2</th>\n",
              "      <th>setting3</th>\n",
              "      <th>s1</th>\n",
              "      <th>s2</th>\n",
              "      <th>s3</th>\n",
              "      <th>s4</th>\n",
              "      <th>s5</th>\n",
              "      <th>s6</th>\n",
              "      <th>s7</th>\n",
              "      <th>s8</th>\n",
              "      <th>s9</th>\n",
              "      <th>s10</th>\n",
              "      <th>s11</th>\n",
              "      <th>s12</th>\n",
              "      <th>s13</th>\n",
              "      <th>s14</th>\n",
              "      <th>s15</th>\n",
              "      <th>s16</th>\n",
              "      <th>s17</th>\n",
              "      <th>s18</th>\n",
              "      <th>s19</th>\n",
              "      <th>s20</th>\n",
              "      <th>s21</th>\n",
              "    </tr>\n",
              "  </thead>\n",
              "  <tbody>\n",
              "    <tr>\n",
              "      <th>0</th>\n",
              "      <td>1</td>\n",
              "      <td>1</td>\n",
              "      <td>-0.000700</td>\n",
              "      <td>-0.000400</td>\n",
              "      <td>100.0</td>\n",
              "      <td>518.67</td>\n",
              "      <td>641.820000</td>\n",
              "      <td>1589.700000</td>\n",
              "      <td>1400.600000</td>\n",
              "      <td>14.62</td>\n",
              "      <td>21.61</td>\n",
              "      <td>554.360000</td>\n",
              "      <td>2388.060000</td>\n",
              "      <td>9046.190000</td>\n",
              "      <td>1.3</td>\n",
              "      <td>47.470000</td>\n",
              "      <td>521.660000</td>\n",
              "      <td>2388.020000</td>\n",
              "      <td>8138.620000</td>\n",
              "      <td>8.419500</td>\n",
              "      <td>0.03</td>\n",
              "      <td>392.000000</td>\n",
              "      <td>2388.0</td>\n",
              "      <td>100.0</td>\n",
              "      <td>39.060000</td>\n",
              "      <td>23.419000</td>\n",
              "    </tr>\n",
              "    <tr>\n",
              "      <th>1</th>\n",
              "      <td>1</td>\n",
              "      <td>2</td>\n",
              "      <td>0.000178</td>\n",
              "      <td>-0.000366</td>\n",
              "      <td>100.0</td>\n",
              "      <td>518.67</td>\n",
              "      <td>641.931457</td>\n",
              "      <td>1590.416026</td>\n",
              "      <td>1401.457881</td>\n",
              "      <td>14.62</td>\n",
              "      <td>21.61</td>\n",
              "      <td>554.153974</td>\n",
              "      <td>2388.053245</td>\n",
              "      <td>9045.473974</td>\n",
              "      <td>1.3</td>\n",
              "      <td>47.476755</td>\n",
              "      <td>521.869404</td>\n",
              "      <td>2388.036887</td>\n",
              "      <td>8136.211854</td>\n",
              "      <td>8.423654</td>\n",
              "      <td>0.03</td>\n",
              "      <td>392.000000</td>\n",
              "      <td>2388.0</td>\n",
              "      <td>100.0</td>\n",
              "      <td>39.039735</td>\n",
              "      <td>23.420554</td>\n",
              "    </tr>\n",
              "    <tr>\n",
              "      <th>2</th>\n",
              "      <td>1</td>\n",
              "      <td>3</td>\n",
              "      <td>-0.000977</td>\n",
              "      <td>-0.000194</td>\n",
              "      <td>100.0</td>\n",
              "      <td>518.67</td>\n",
              "      <td>642.039450</td>\n",
              "      <td>1589.790059</td>\n",
              "      <td>1402.165407</td>\n",
              "      <td>14.62</td>\n",
              "      <td>21.61</td>\n",
              "      <td>554.181331</td>\n",
              "      <td>2388.060148</td>\n",
              "      <td>9047.400370</td>\n",
              "      <td>1.3</td>\n",
              "      <td>47.423408</td>\n",
              "      <td>522.011470</td>\n",
              "      <td>2388.035110</td>\n",
              "      <td>8135.442471</td>\n",
              "      <td>8.422144</td>\n",
              "      <td>0.03</td>\n",
              "      <td>391.483957</td>\n",
              "      <td>2388.0</td>\n",
              "      <td>100.0</td>\n",
              "      <td>39.016581</td>\n",
              "      <td>23.400853</td>\n",
              "    </tr>\n",
              "    <tr>\n",
              "      <th>3</th>\n",
              "      <td>1</td>\n",
              "      <td>4</td>\n",
              "      <td>-0.000623</td>\n",
              "      <td>-0.000153</td>\n",
              "      <td>100.0</td>\n",
              "      <td>518.67</td>\n",
              "      <td>642.105091</td>\n",
              "      <td>1588.310457</td>\n",
              "      <td>1402.102967</td>\n",
              "      <td>14.62</td>\n",
              "      <td>21.61</td>\n",
              "      <td>554.238119</td>\n",
              "      <td>2388.070686</td>\n",
              "      <td>9047.839942</td>\n",
              "      <td>1.3</td>\n",
              "      <td>47.361390</td>\n",
              "      <td>522.190824</td>\n",
              "      <td>2388.044599</td>\n",
              "      <td>8135.101643</td>\n",
              "      <td>8.410742</td>\n",
              "      <td>0.03</td>\n",
              "      <td>391.593033</td>\n",
              "      <td>2388.0</td>\n",
              "      <td>100.0</td>\n",
              "      <td>38.987712</td>\n",
              "      <td>23.395156</td>\n",
              "    </tr>\n",
              "    <tr>\n",
              "      <th>4</th>\n",
              "      <td>1</td>\n",
              "      <td>5</td>\n",
              "      <td>-0.000854</td>\n",
              "      <td>-0.000162</td>\n",
              "      <td>100.0</td>\n",
              "      <td>518.67</td>\n",
              "      <td>642.153105</td>\n",
              "      <td>1587.320764</td>\n",
              "      <td>1402.849168</td>\n",
              "      <td>14.62</td>\n",
              "      <td>21.61</td>\n",
              "      <td>554.194961</td>\n",
              "      <td>2388.068749</td>\n",
              "      <td>9049.164870</td>\n",
              "      <td>1.3</td>\n",
              "      <td>47.346638</td>\n",
              "      <td>522.190674</td>\n",
              "      <td>2388.043765</td>\n",
              "      <td>8134.865724</td>\n",
              "      <td>8.414123</td>\n",
              "      <td>0.03</td>\n",
              "      <td>391.848042</td>\n",
              "      <td>2388.0</td>\n",
              "      <td>100.0</td>\n",
              "      <td>38.971815</td>\n",
              "      <td>23.396831</td>\n",
              "    </tr>\n",
              "  </tbody>\n",
              "</table>\n",
              "</div>"
            ],
            "text/plain": [
              "   id  cycle  setting1  setting2  ...     s18    s19        s20        s21\n",
              "0   1      1 -0.000700 -0.000400  ...  2388.0  100.0  39.060000  23.419000\n",
              "1   1      2  0.000178 -0.000366  ...  2388.0  100.0  39.039735  23.420554\n",
              "2   1      3 -0.000977 -0.000194  ...  2388.0  100.0  39.016581  23.400853\n",
              "3   1      4 -0.000623 -0.000153  ...  2388.0  100.0  38.987712  23.395156\n",
              "4   1      5 -0.000854 -0.000162  ...  2388.0  100.0  38.971815  23.396831\n",
              "\n",
              "[5 rows x 26 columns]"
            ]
          },
          "metadata": {
            "tags": []
          },
          "execution_count": 9
        }
      ]
    },
    {
      "cell_type": "markdown",
      "metadata": {
        "id": "3BDkCcndnYmG",
        "colab_type": "text"
      },
      "source": [
        "## Generate True Values for Train Data"
      ]
    },
    {
      "cell_type": "code",
      "metadata": {
        "id": "AZ1gW-dnnYmJ",
        "colab_type": "code",
        "outputId": "29dd4100-cf05-40d1-8379-cda3c56c55e9",
        "colab": {
          "base_uri": "https://localhost:8080/",
          "height": 226
        }
      },
      "source": [
        "# Data Labeling - generate column RUL\n",
        "rul = pd.DataFrame(train_df.groupby('id')['cycle'].max()).reset_index()\n",
        "rul.columns = ['id', 'max']\n",
        "train_df = train_df.merge(rul, on=['id'], how='left')\n",
        "train_df['RUL'] = train_df['max'] - train_df['cycle']\n",
        "train_df.drop('max', axis=1, inplace=True)\n",
        "train_df.head()"
      ],
      "execution_count": 0,
      "outputs": [
        {
          "output_type": "execute_result",
          "data": {
            "text/html": [
              "<div>\n",
              "<style scoped>\n",
              "    .dataframe tbody tr th:only-of-type {\n",
              "        vertical-align: middle;\n",
              "    }\n",
              "\n",
              "    .dataframe tbody tr th {\n",
              "        vertical-align: top;\n",
              "    }\n",
              "\n",
              "    .dataframe thead th {\n",
              "        text-align: right;\n",
              "    }\n",
              "</style>\n",
              "<table border=\"1\" class=\"dataframe\">\n",
              "  <thead>\n",
              "    <tr style=\"text-align: right;\">\n",
              "      <th></th>\n",
              "      <th>id</th>\n",
              "      <th>cycle</th>\n",
              "      <th>setting1</th>\n",
              "      <th>setting2</th>\n",
              "      <th>setting3</th>\n",
              "      <th>s1</th>\n",
              "      <th>s2</th>\n",
              "      <th>s3</th>\n",
              "      <th>s4</th>\n",
              "      <th>s5</th>\n",
              "      <th>s6</th>\n",
              "      <th>s7</th>\n",
              "      <th>s8</th>\n",
              "      <th>s9</th>\n",
              "      <th>s10</th>\n",
              "      <th>s11</th>\n",
              "      <th>s12</th>\n",
              "      <th>s13</th>\n",
              "      <th>s14</th>\n",
              "      <th>s15</th>\n",
              "      <th>s16</th>\n",
              "      <th>s17</th>\n",
              "      <th>s18</th>\n",
              "      <th>s19</th>\n",
              "      <th>s20</th>\n",
              "      <th>s21</th>\n",
              "      <th>RUL</th>\n",
              "    </tr>\n",
              "  </thead>\n",
              "  <tbody>\n",
              "    <tr>\n",
              "      <th>0</th>\n",
              "      <td>1</td>\n",
              "      <td>1</td>\n",
              "      <td>-0.000700</td>\n",
              "      <td>-0.000400</td>\n",
              "      <td>100.0</td>\n",
              "      <td>518.67</td>\n",
              "      <td>641.820000</td>\n",
              "      <td>1589.700000</td>\n",
              "      <td>1400.600000</td>\n",
              "      <td>14.62</td>\n",
              "      <td>21.61</td>\n",
              "      <td>554.360000</td>\n",
              "      <td>2388.060000</td>\n",
              "      <td>9046.190000</td>\n",
              "      <td>1.3</td>\n",
              "      <td>47.470000</td>\n",
              "      <td>521.660000</td>\n",
              "      <td>2388.020000</td>\n",
              "      <td>8138.620000</td>\n",
              "      <td>8.419500</td>\n",
              "      <td>0.03</td>\n",
              "      <td>392.000000</td>\n",
              "      <td>2388.0</td>\n",
              "      <td>100.0</td>\n",
              "      <td>39.060000</td>\n",
              "      <td>23.419000</td>\n",
              "      <td>191</td>\n",
              "    </tr>\n",
              "    <tr>\n",
              "      <th>1</th>\n",
              "      <td>1</td>\n",
              "      <td>2</td>\n",
              "      <td>0.000178</td>\n",
              "      <td>-0.000366</td>\n",
              "      <td>100.0</td>\n",
              "      <td>518.67</td>\n",
              "      <td>641.931457</td>\n",
              "      <td>1590.416026</td>\n",
              "      <td>1401.457881</td>\n",
              "      <td>14.62</td>\n",
              "      <td>21.61</td>\n",
              "      <td>554.153974</td>\n",
              "      <td>2388.053245</td>\n",
              "      <td>9045.473974</td>\n",
              "      <td>1.3</td>\n",
              "      <td>47.476755</td>\n",
              "      <td>521.869404</td>\n",
              "      <td>2388.036887</td>\n",
              "      <td>8136.211854</td>\n",
              "      <td>8.423654</td>\n",
              "      <td>0.03</td>\n",
              "      <td>392.000000</td>\n",
              "      <td>2388.0</td>\n",
              "      <td>100.0</td>\n",
              "      <td>39.039735</td>\n",
              "      <td>23.420554</td>\n",
              "      <td>190</td>\n",
              "    </tr>\n",
              "    <tr>\n",
              "      <th>2</th>\n",
              "      <td>1</td>\n",
              "      <td>3</td>\n",
              "      <td>-0.000977</td>\n",
              "      <td>-0.000194</td>\n",
              "      <td>100.0</td>\n",
              "      <td>518.67</td>\n",
              "      <td>642.039450</td>\n",
              "      <td>1589.790059</td>\n",
              "      <td>1402.165407</td>\n",
              "      <td>14.62</td>\n",
              "      <td>21.61</td>\n",
              "      <td>554.181331</td>\n",
              "      <td>2388.060148</td>\n",
              "      <td>9047.400370</td>\n",
              "      <td>1.3</td>\n",
              "      <td>47.423408</td>\n",
              "      <td>522.011470</td>\n",
              "      <td>2388.035110</td>\n",
              "      <td>8135.442471</td>\n",
              "      <td>8.422144</td>\n",
              "      <td>0.03</td>\n",
              "      <td>391.483957</td>\n",
              "      <td>2388.0</td>\n",
              "      <td>100.0</td>\n",
              "      <td>39.016581</td>\n",
              "      <td>23.400853</td>\n",
              "      <td>189</td>\n",
              "    </tr>\n",
              "    <tr>\n",
              "      <th>3</th>\n",
              "      <td>1</td>\n",
              "      <td>4</td>\n",
              "      <td>-0.000623</td>\n",
              "      <td>-0.000153</td>\n",
              "      <td>100.0</td>\n",
              "      <td>518.67</td>\n",
              "      <td>642.105091</td>\n",
              "      <td>1588.310457</td>\n",
              "      <td>1402.102967</td>\n",
              "      <td>14.62</td>\n",
              "      <td>21.61</td>\n",
              "      <td>554.238119</td>\n",
              "      <td>2388.070686</td>\n",
              "      <td>9047.839942</td>\n",
              "      <td>1.3</td>\n",
              "      <td>47.361390</td>\n",
              "      <td>522.190824</td>\n",
              "      <td>2388.044599</td>\n",
              "      <td>8135.101643</td>\n",
              "      <td>8.410742</td>\n",
              "      <td>0.03</td>\n",
              "      <td>391.593033</td>\n",
              "      <td>2388.0</td>\n",
              "      <td>100.0</td>\n",
              "      <td>38.987712</td>\n",
              "      <td>23.395156</td>\n",
              "      <td>188</td>\n",
              "    </tr>\n",
              "    <tr>\n",
              "      <th>4</th>\n",
              "      <td>1</td>\n",
              "      <td>5</td>\n",
              "      <td>-0.000854</td>\n",
              "      <td>-0.000162</td>\n",
              "      <td>100.0</td>\n",
              "      <td>518.67</td>\n",
              "      <td>642.153105</td>\n",
              "      <td>1587.320764</td>\n",
              "      <td>1402.849168</td>\n",
              "      <td>14.62</td>\n",
              "      <td>21.61</td>\n",
              "      <td>554.194961</td>\n",
              "      <td>2388.068749</td>\n",
              "      <td>9049.164870</td>\n",
              "      <td>1.3</td>\n",
              "      <td>47.346638</td>\n",
              "      <td>522.190674</td>\n",
              "      <td>2388.043765</td>\n",
              "      <td>8134.865724</td>\n",
              "      <td>8.414123</td>\n",
              "      <td>0.03</td>\n",
              "      <td>391.848042</td>\n",
              "      <td>2388.0</td>\n",
              "      <td>100.0</td>\n",
              "      <td>38.971815</td>\n",
              "      <td>23.396831</td>\n",
              "      <td>187</td>\n",
              "    </tr>\n",
              "  </tbody>\n",
              "</table>\n",
              "</div>"
            ],
            "text/plain": [
              "   id  cycle  setting1  setting2  ...    s19        s20        s21  RUL\n",
              "0   1      1 -0.000700 -0.000400  ...  100.0  39.060000  23.419000  191\n",
              "1   1      2  0.000178 -0.000366  ...  100.0  39.039735  23.420554  190\n",
              "2   1      3 -0.000977 -0.000194  ...  100.0  39.016581  23.400853  189\n",
              "3   1      4 -0.000623 -0.000153  ...  100.0  38.987712  23.395156  188\n",
              "4   1      5 -0.000854 -0.000162  ...  100.0  38.971815  23.396831  187\n",
              "\n",
              "[5 rows x 27 columns]"
            ]
          },
          "metadata": {
            "tags": []
          },
          "execution_count": 10
        }
      ]
    },
    {
      "cell_type": "code",
      "metadata": {
        "id": "ZNzeOrsgnYmQ",
        "colab_type": "code",
        "outputId": "eb29face-f274-4752-b50b-abeda8712274",
        "colab": {
          "base_uri": "https://localhost:8080/",
          "height": 226
        }
      },
      "source": [
        "# generate label columns for training data\n",
        "w1 = 30\n",
        "w0 = 15\n",
        "train_df['label1'] = np.where(train_df['RUL'] <= w1, 1, 0 )\n",
        "train_df['label2'] = train_df['label1']\n",
        "train_df.loc[train_df['RUL'] <= w0, 'label2'] = 2\n",
        "train_df.head()"
      ],
      "execution_count": 0,
      "outputs": [
        {
          "output_type": "execute_result",
          "data": {
            "text/html": [
              "<div>\n",
              "<style scoped>\n",
              "    .dataframe tbody tr th:only-of-type {\n",
              "        vertical-align: middle;\n",
              "    }\n",
              "\n",
              "    .dataframe tbody tr th {\n",
              "        vertical-align: top;\n",
              "    }\n",
              "\n",
              "    .dataframe thead th {\n",
              "        text-align: right;\n",
              "    }\n",
              "</style>\n",
              "<table border=\"1\" class=\"dataframe\">\n",
              "  <thead>\n",
              "    <tr style=\"text-align: right;\">\n",
              "      <th></th>\n",
              "      <th>id</th>\n",
              "      <th>cycle</th>\n",
              "      <th>setting1</th>\n",
              "      <th>setting2</th>\n",
              "      <th>setting3</th>\n",
              "      <th>s1</th>\n",
              "      <th>s2</th>\n",
              "      <th>s3</th>\n",
              "      <th>s4</th>\n",
              "      <th>s5</th>\n",
              "      <th>s6</th>\n",
              "      <th>s7</th>\n",
              "      <th>s8</th>\n",
              "      <th>s9</th>\n",
              "      <th>s10</th>\n",
              "      <th>s11</th>\n",
              "      <th>s12</th>\n",
              "      <th>s13</th>\n",
              "      <th>s14</th>\n",
              "      <th>s15</th>\n",
              "      <th>s16</th>\n",
              "      <th>s17</th>\n",
              "      <th>s18</th>\n",
              "      <th>s19</th>\n",
              "      <th>s20</th>\n",
              "      <th>s21</th>\n",
              "      <th>RUL</th>\n",
              "      <th>label1</th>\n",
              "      <th>label2</th>\n",
              "    </tr>\n",
              "  </thead>\n",
              "  <tbody>\n",
              "    <tr>\n",
              "      <th>0</th>\n",
              "      <td>1</td>\n",
              "      <td>1</td>\n",
              "      <td>-0.000700</td>\n",
              "      <td>-0.000400</td>\n",
              "      <td>100.0</td>\n",
              "      <td>518.67</td>\n",
              "      <td>641.820000</td>\n",
              "      <td>1589.700000</td>\n",
              "      <td>1400.600000</td>\n",
              "      <td>14.62</td>\n",
              "      <td>21.61</td>\n",
              "      <td>554.360000</td>\n",
              "      <td>2388.060000</td>\n",
              "      <td>9046.190000</td>\n",
              "      <td>1.3</td>\n",
              "      <td>47.470000</td>\n",
              "      <td>521.660000</td>\n",
              "      <td>2388.020000</td>\n",
              "      <td>8138.620000</td>\n",
              "      <td>8.419500</td>\n",
              "      <td>0.03</td>\n",
              "      <td>392.000000</td>\n",
              "      <td>2388.0</td>\n",
              "      <td>100.0</td>\n",
              "      <td>39.060000</td>\n",
              "      <td>23.419000</td>\n",
              "      <td>191</td>\n",
              "      <td>0</td>\n",
              "      <td>0</td>\n",
              "    </tr>\n",
              "    <tr>\n",
              "      <th>1</th>\n",
              "      <td>1</td>\n",
              "      <td>2</td>\n",
              "      <td>0.000178</td>\n",
              "      <td>-0.000366</td>\n",
              "      <td>100.0</td>\n",
              "      <td>518.67</td>\n",
              "      <td>641.931457</td>\n",
              "      <td>1590.416026</td>\n",
              "      <td>1401.457881</td>\n",
              "      <td>14.62</td>\n",
              "      <td>21.61</td>\n",
              "      <td>554.153974</td>\n",
              "      <td>2388.053245</td>\n",
              "      <td>9045.473974</td>\n",
              "      <td>1.3</td>\n",
              "      <td>47.476755</td>\n",
              "      <td>521.869404</td>\n",
              "      <td>2388.036887</td>\n",
              "      <td>8136.211854</td>\n",
              "      <td>8.423654</td>\n",
              "      <td>0.03</td>\n",
              "      <td>392.000000</td>\n",
              "      <td>2388.0</td>\n",
              "      <td>100.0</td>\n",
              "      <td>39.039735</td>\n",
              "      <td>23.420554</td>\n",
              "      <td>190</td>\n",
              "      <td>0</td>\n",
              "      <td>0</td>\n",
              "    </tr>\n",
              "    <tr>\n",
              "      <th>2</th>\n",
              "      <td>1</td>\n",
              "      <td>3</td>\n",
              "      <td>-0.000977</td>\n",
              "      <td>-0.000194</td>\n",
              "      <td>100.0</td>\n",
              "      <td>518.67</td>\n",
              "      <td>642.039450</td>\n",
              "      <td>1589.790059</td>\n",
              "      <td>1402.165407</td>\n",
              "      <td>14.62</td>\n",
              "      <td>21.61</td>\n",
              "      <td>554.181331</td>\n",
              "      <td>2388.060148</td>\n",
              "      <td>9047.400370</td>\n",
              "      <td>1.3</td>\n",
              "      <td>47.423408</td>\n",
              "      <td>522.011470</td>\n",
              "      <td>2388.035110</td>\n",
              "      <td>8135.442471</td>\n",
              "      <td>8.422144</td>\n",
              "      <td>0.03</td>\n",
              "      <td>391.483957</td>\n",
              "      <td>2388.0</td>\n",
              "      <td>100.0</td>\n",
              "      <td>39.016581</td>\n",
              "      <td>23.400853</td>\n",
              "      <td>189</td>\n",
              "      <td>0</td>\n",
              "      <td>0</td>\n",
              "    </tr>\n",
              "    <tr>\n",
              "      <th>3</th>\n",
              "      <td>1</td>\n",
              "      <td>4</td>\n",
              "      <td>-0.000623</td>\n",
              "      <td>-0.000153</td>\n",
              "      <td>100.0</td>\n",
              "      <td>518.67</td>\n",
              "      <td>642.105091</td>\n",
              "      <td>1588.310457</td>\n",
              "      <td>1402.102967</td>\n",
              "      <td>14.62</td>\n",
              "      <td>21.61</td>\n",
              "      <td>554.238119</td>\n",
              "      <td>2388.070686</td>\n",
              "      <td>9047.839942</td>\n",
              "      <td>1.3</td>\n",
              "      <td>47.361390</td>\n",
              "      <td>522.190824</td>\n",
              "      <td>2388.044599</td>\n",
              "      <td>8135.101643</td>\n",
              "      <td>8.410742</td>\n",
              "      <td>0.03</td>\n",
              "      <td>391.593033</td>\n",
              "      <td>2388.0</td>\n",
              "      <td>100.0</td>\n",
              "      <td>38.987712</td>\n",
              "      <td>23.395156</td>\n",
              "      <td>188</td>\n",
              "      <td>0</td>\n",
              "      <td>0</td>\n",
              "    </tr>\n",
              "    <tr>\n",
              "      <th>4</th>\n",
              "      <td>1</td>\n",
              "      <td>5</td>\n",
              "      <td>-0.000854</td>\n",
              "      <td>-0.000162</td>\n",
              "      <td>100.0</td>\n",
              "      <td>518.67</td>\n",
              "      <td>642.153105</td>\n",
              "      <td>1587.320764</td>\n",
              "      <td>1402.849168</td>\n",
              "      <td>14.62</td>\n",
              "      <td>21.61</td>\n",
              "      <td>554.194961</td>\n",
              "      <td>2388.068749</td>\n",
              "      <td>9049.164870</td>\n",
              "      <td>1.3</td>\n",
              "      <td>47.346638</td>\n",
              "      <td>522.190674</td>\n",
              "      <td>2388.043765</td>\n",
              "      <td>8134.865724</td>\n",
              "      <td>8.414123</td>\n",
              "      <td>0.03</td>\n",
              "      <td>391.848042</td>\n",
              "      <td>2388.0</td>\n",
              "      <td>100.0</td>\n",
              "      <td>38.971815</td>\n",
              "      <td>23.396831</td>\n",
              "      <td>187</td>\n",
              "      <td>0</td>\n",
              "      <td>0</td>\n",
              "    </tr>\n",
              "  </tbody>\n",
              "</table>\n",
              "</div>"
            ],
            "text/plain": [
              "   id  cycle  setting1  setting2  ...        s21  RUL  label1  label2\n",
              "0   1      1 -0.000700 -0.000400  ...  23.419000  191       0       0\n",
              "1   1      2  0.000178 -0.000366  ...  23.420554  190       0       0\n",
              "2   1      3 -0.000977 -0.000194  ...  23.400853  189       0       0\n",
              "3   1      4 -0.000623 -0.000153  ...  23.395156  188       0       0\n",
              "4   1      5 -0.000854 -0.000162  ...  23.396831  187       0       0\n",
              "\n",
              "[5 rows x 29 columns]"
            ]
          },
          "metadata": {
            "tags": []
          },
          "execution_count": 11
        }
      ]
    },
    {
      "cell_type": "markdown",
      "metadata": {
        "id": "fru-OiHQnYmX",
        "colab_type": "text"
      },
      "source": [
        "## Normalize Train and Test Data"
      ]
    },
    {
      "cell_type": "code",
      "metadata": {
        "id": "JrZyMlMynYmb",
        "colab_type": "code",
        "outputId": "d41f3744-2da6-4c65-85d7-6ea62487e266",
        "colab": {
          "base_uri": "https://localhost:8080/",
          "height": 226
        }
      },
      "source": [
        "# MinMax normalization\n",
        "train_df['cycle_norm'] = train_df['cycle']\n",
        "cols_normalize = train_df.columns.difference(['id','cycle','RUL','label1','label2'])\n",
        "min_max_scaler = preprocessing.MinMaxScaler()\n",
        "norm_train_df = pd.DataFrame(min_max_scaler.fit_transform(train_df[cols_normalize]), \n",
        "                             columns=cols_normalize, \n",
        "                             index=train_df.index)\n",
        "join_df = train_df[train_df.columns.difference(cols_normalize)].join(norm_train_df)\n",
        "train_df = join_df.reindex(columns = train_df.columns)\n",
        "train_df.head()"
      ],
      "execution_count": 0,
      "outputs": [
        {
          "output_type": "execute_result",
          "data": {
            "text/html": [
              "<div>\n",
              "<style scoped>\n",
              "    .dataframe tbody tr th:only-of-type {\n",
              "        vertical-align: middle;\n",
              "    }\n",
              "\n",
              "    .dataframe tbody tr th {\n",
              "        vertical-align: top;\n",
              "    }\n",
              "\n",
              "    .dataframe thead th {\n",
              "        text-align: right;\n",
              "    }\n",
              "</style>\n",
              "<table border=\"1\" class=\"dataframe\">\n",
              "  <thead>\n",
              "    <tr style=\"text-align: right;\">\n",
              "      <th></th>\n",
              "      <th>id</th>\n",
              "      <th>cycle</th>\n",
              "      <th>setting1</th>\n",
              "      <th>setting2</th>\n",
              "      <th>setting3</th>\n",
              "      <th>s1</th>\n",
              "      <th>s2</th>\n",
              "      <th>s3</th>\n",
              "      <th>s4</th>\n",
              "      <th>s5</th>\n",
              "      <th>s6</th>\n",
              "      <th>s7</th>\n",
              "      <th>s8</th>\n",
              "      <th>s9</th>\n",
              "      <th>s10</th>\n",
              "      <th>s11</th>\n",
              "      <th>s12</th>\n",
              "      <th>s13</th>\n",
              "      <th>s14</th>\n",
              "      <th>s15</th>\n",
              "      <th>s16</th>\n",
              "      <th>s17</th>\n",
              "      <th>s18</th>\n",
              "      <th>s19</th>\n",
              "      <th>s20</th>\n",
              "      <th>s21</th>\n",
              "      <th>RUL</th>\n",
              "      <th>label1</th>\n",
              "      <th>label2</th>\n",
              "      <th>cycle_norm</th>\n",
              "    </tr>\n",
              "  </thead>\n",
              "  <tbody>\n",
              "    <tr>\n",
              "      <th>0</th>\n",
              "      <td>1</td>\n",
              "      <td>1</td>\n",
              "      <td>0.368542</td>\n",
              "      <td>0.000000</td>\n",
              "      <td>0.0</td>\n",
              "      <td>0.0</td>\n",
              "      <td>0.000000</td>\n",
              "      <td>0.349894</td>\n",
              "      <td>0.185846</td>\n",
              "      <td>0.0</td>\n",
              "      <td>1.0</td>\n",
              "      <td>0.878722</td>\n",
              "      <td>0.242639</td>\n",
              "      <td>0.091191</td>\n",
              "      <td>0.0</td>\n",
              "      <td>0.356551</td>\n",
              "      <td>0.685441</td>\n",
              "      <td>0.131931</td>\n",
              "      <td>0.207883</td>\n",
              "      <td>0.265399</td>\n",
              "      <td>0.0</td>\n",
              "      <td>0.184954</td>\n",
              "      <td>0.0</td>\n",
              "      <td>0.0</td>\n",
              "      <td>0.938255</td>\n",
              "      <td>0.901462</td>\n",
              "      <td>191</td>\n",
              "      <td>0</td>\n",
              "      <td>0</td>\n",
              "      <td>0.00000</td>\n",
              "    </tr>\n",
              "    <tr>\n",
              "      <th>1</th>\n",
              "      <td>1</td>\n",
              "      <td>2</td>\n",
              "      <td>0.606362</td>\n",
              "      <td>0.045503</td>\n",
              "      <td>0.0</td>\n",
              "      <td>0.0</td>\n",
              "      <td>0.058599</td>\n",
              "      <td>0.381941</td>\n",
              "      <td>0.211315</td>\n",
              "      <td>0.0</td>\n",
              "      <td>1.0</td>\n",
              "      <td>0.818707</td>\n",
              "      <td>0.220732</td>\n",
              "      <td>0.086909</td>\n",
              "      <td>0.0</td>\n",
              "      <td>0.363140</td>\n",
              "      <td>0.757866</td>\n",
              "      <td>0.184063</td>\n",
              "      <td>0.191990</td>\n",
              "      <td>0.295538</td>\n",
              "      <td>0.0</td>\n",
              "      <td>0.184954</td>\n",
              "      <td>0.0</td>\n",
              "      <td>0.0</td>\n",
              "      <td>0.907757</td>\n",
              "      <td>0.905421</td>\n",
              "      <td>190</td>\n",
              "      <td>0</td>\n",
              "      <td>0</td>\n",
              "      <td>0.00277</td>\n",
              "    </tr>\n",
              "    <tr>\n",
              "      <th>2</th>\n",
              "      <td>1</td>\n",
              "      <td>3</td>\n",
              "      <td>0.293440</td>\n",
              "      <td>0.277092</td>\n",
              "      <td>0.0</td>\n",
              "      <td>0.0</td>\n",
              "      <td>0.115377</td>\n",
              "      <td>0.353925</td>\n",
              "      <td>0.232320</td>\n",
              "      <td>0.0</td>\n",
              "      <td>1.0</td>\n",
              "      <td>0.826676</td>\n",
              "      <td>0.243121</td>\n",
              "      <td>0.098430</td>\n",
              "      <td>0.0</td>\n",
              "      <td>0.311104</td>\n",
              "      <td>0.807002</td>\n",
              "      <td>0.178577</td>\n",
              "      <td>0.186913</td>\n",
              "      <td>0.284579</td>\n",
              "      <td>0.0</td>\n",
              "      <td>0.092264</td>\n",
              "      <td>0.0</td>\n",
              "      <td>0.0</td>\n",
              "      <td>0.872911</td>\n",
              "      <td>0.855227</td>\n",
              "      <td>189</td>\n",
              "      <td>0</td>\n",
              "      <td>0</td>\n",
              "      <td>0.00554</td>\n",
              "    </tr>\n",
              "    <tr>\n",
              "      <th>3</th>\n",
              "      <td>1</td>\n",
              "      <td>4</td>\n",
              "      <td>0.389455</td>\n",
              "      <td>0.332429</td>\n",
              "      <td>0.0</td>\n",
              "      <td>0.0</td>\n",
              "      <td>0.149888</td>\n",
              "      <td>0.287703</td>\n",
              "      <td>0.230467</td>\n",
              "      <td>0.0</td>\n",
              "      <td>1.0</td>\n",
              "      <td>0.843218</td>\n",
              "      <td>0.277295</td>\n",
              "      <td>0.101059</td>\n",
              "      <td>0.0</td>\n",
              "      <td>0.250610</td>\n",
              "      <td>0.869034</td>\n",
              "      <td>0.207868</td>\n",
              "      <td>0.184663</td>\n",
              "      <td>0.201857</td>\n",
              "      <td>0.0</td>\n",
              "      <td>0.111856</td>\n",
              "      <td>0.0</td>\n",
              "      <td>0.0</td>\n",
              "      <td>0.829464</td>\n",
              "      <td>0.840712</td>\n",
              "      <td>188</td>\n",
              "      <td>0</td>\n",
              "      <td>0</td>\n",
              "      <td>0.00831</td>\n",
              "    </tr>\n",
              "    <tr>\n",
              "      <th>4</th>\n",
              "      <td>1</td>\n",
              "      <td>5</td>\n",
              "      <td>0.326762</td>\n",
              "      <td>0.321014</td>\n",
              "      <td>0.0</td>\n",
              "      <td>0.0</td>\n",
              "      <td>0.175131</td>\n",
              "      <td>0.243408</td>\n",
              "      <td>0.252620</td>\n",
              "      <td>0.0</td>\n",
              "      <td>1.0</td>\n",
              "      <td>0.830646</td>\n",
              "      <td>0.271014</td>\n",
              "      <td>0.108983</td>\n",
              "      <td>0.0</td>\n",
              "      <td>0.236221</td>\n",
              "      <td>0.868982</td>\n",
              "      <td>0.205295</td>\n",
              "      <td>0.183106</td>\n",
              "      <td>0.226392</td>\n",
              "      <td>0.0</td>\n",
              "      <td>0.157660</td>\n",
              "      <td>0.0</td>\n",
              "      <td>0.0</td>\n",
              "      <td>0.805538</td>\n",
              "      <td>0.844981</td>\n",
              "      <td>187</td>\n",
              "      <td>0</td>\n",
              "      <td>0</td>\n",
              "      <td>0.01108</td>\n",
              "    </tr>\n",
              "  </tbody>\n",
              "</table>\n",
              "</div>"
            ],
            "text/plain": [
              "   id  cycle  setting1  setting2  ...  RUL  label1  label2  cycle_norm\n",
              "0   1      1  0.368542  0.000000  ...  191       0       0     0.00000\n",
              "1   1      2  0.606362  0.045503  ...  190       0       0     0.00277\n",
              "2   1      3  0.293440  0.277092  ...  189       0       0     0.00554\n",
              "3   1      4  0.389455  0.332429  ...  188       0       0     0.00831\n",
              "4   1      5  0.326762  0.321014  ...  187       0       0     0.01108\n",
              "\n",
              "[5 rows x 30 columns]"
            ]
          },
          "metadata": {
            "tags": []
          },
          "execution_count": 12
        }
      ]
    },
    {
      "cell_type": "code",
      "metadata": {
        "id": "mLwmUxG2nYmh",
        "colab_type": "code",
        "outputId": "89443c98-351d-4ed3-c463-abc8140f2e97",
        "colab": {
          "base_uri": "https://localhost:8080/",
          "height": 226
        }
      },
      "source": [
        "test_df['cycle_norm'] = test_df['cycle']\n",
        "norm_test_df = pd.DataFrame(min_max_scaler.transform(test_df[cols_normalize]), \n",
        "                            columns=cols_normalize, \n",
        "                            index=test_df.index)\n",
        "test_join_df = test_df[test_df.columns.difference(cols_normalize)].join(norm_test_df)\n",
        "test_df = test_join_df.reindex(columns = test_df.columns)\n",
        "test_df = test_df.reset_index(drop=True)\n",
        "test_df.head()"
      ],
      "execution_count": 0,
      "outputs": [
        {
          "output_type": "execute_result",
          "data": {
            "text/html": [
              "<div>\n",
              "<style scoped>\n",
              "    .dataframe tbody tr th:only-of-type {\n",
              "        vertical-align: middle;\n",
              "    }\n",
              "\n",
              "    .dataframe tbody tr th {\n",
              "        vertical-align: top;\n",
              "    }\n",
              "\n",
              "    .dataframe thead th {\n",
              "        text-align: right;\n",
              "    }\n",
              "</style>\n",
              "<table border=\"1\" class=\"dataframe\">\n",
              "  <thead>\n",
              "    <tr style=\"text-align: right;\">\n",
              "      <th></th>\n",
              "      <th>id</th>\n",
              "      <th>cycle</th>\n",
              "      <th>setting1</th>\n",
              "      <th>setting2</th>\n",
              "      <th>setting3</th>\n",
              "      <th>s1</th>\n",
              "      <th>s2</th>\n",
              "      <th>s3</th>\n",
              "      <th>s4</th>\n",
              "      <th>s5</th>\n",
              "      <th>s6</th>\n",
              "      <th>s7</th>\n",
              "      <th>s8</th>\n",
              "      <th>s9</th>\n",
              "      <th>s10</th>\n",
              "      <th>s11</th>\n",
              "      <th>s12</th>\n",
              "      <th>s13</th>\n",
              "      <th>s14</th>\n",
              "      <th>s15</th>\n",
              "      <th>s16</th>\n",
              "      <th>s17</th>\n",
              "      <th>s18</th>\n",
              "      <th>s19</th>\n",
              "      <th>s20</th>\n",
              "      <th>s21</th>\n",
              "      <th>cycle_norm</th>\n",
              "    </tr>\n",
              "  </thead>\n",
              "  <tbody>\n",
              "    <tr>\n",
              "      <th>0</th>\n",
              "      <td>1</td>\n",
              "      <td>1</td>\n",
              "      <td>1.181006</td>\n",
              "      <td>0.943062</td>\n",
              "      <td>0.0</td>\n",
              "      <td>0.0</td>\n",
              "      <td>0.630905</td>\n",
              "      <td>0.152518</td>\n",
              "      <td>0.114891</td>\n",
              "      <td>0.0</td>\n",
              "      <td>1.0</td>\n",
              "      <td>0.744724</td>\n",
              "      <td>0.177775</td>\n",
              "      <td>0.114995</td>\n",
              "      <td>0.0</td>\n",
              "      <td>0.093186</td>\n",
              "      <td>0.706193</td>\n",
              "      <td>0.162801</td>\n",
              "      <td>0.121627</td>\n",
              "      <td>0.161653</td>\n",
              "      <td>0.0</td>\n",
              "      <td>0.184954</td>\n",
              "      <td>0.0</td>\n",
              "      <td>0.0</td>\n",
              "      <td>0.637261</td>\n",
              "      <td>0.785538</td>\n",
              "      <td>0.00000</td>\n",
              "    </tr>\n",
              "    <tr>\n",
              "      <th>1</th>\n",
              "      <td>1</td>\n",
              "      <td>2</td>\n",
              "      <td>0.723659</td>\n",
              "      <td>0.670047</td>\n",
              "      <td>0.0</td>\n",
              "      <td>0.0</td>\n",
              "      <td>0.398285</td>\n",
              "      <td>0.200286</td>\n",
              "      <td>0.086915</td>\n",
              "      <td>0.0</td>\n",
              "      <td>1.0</td>\n",
              "      <td>0.838191</td>\n",
              "      <td>0.144913</td>\n",
              "      <td>0.123580</td>\n",
              "      <td>0.0</td>\n",
              "      <td>0.192020</td>\n",
              "      <td>0.757592</td>\n",
              "      <td>0.194081</td>\n",
              "      <td>0.152988</td>\n",
              "      <td>0.100639</td>\n",
              "      <td>0.0</td>\n",
              "      <td>0.245620</td>\n",
              "      <td>0.0</td>\n",
              "      <td>0.0</td>\n",
              "      <td>0.718589</td>\n",
              "      <td>0.801113</td>\n",
              "      <td>0.00277</td>\n",
              "    </tr>\n",
              "    <tr>\n",
              "      <th>2</th>\n",
              "      <td>1</td>\n",
              "      <td>3</td>\n",
              "      <td>0.701909</td>\n",
              "      <td>0.670968</td>\n",
              "      <td>0.0</td>\n",
              "      <td>0.0</td>\n",
              "      <td>0.382339</td>\n",
              "      <td>0.207015</td>\n",
              "      <td>0.118110</td>\n",
              "      <td>0.0</td>\n",
              "      <td>1.0</td>\n",
              "      <td>0.829858</td>\n",
              "      <td>0.161760</td>\n",
              "      <td>0.131843</td>\n",
              "      <td>0.0</td>\n",
              "      <td>0.242023</td>\n",
              "      <td>0.766640</td>\n",
              "      <td>0.186010</td>\n",
              "      <td>0.152644</td>\n",
              "      <td>0.189200</td>\n",
              "      <td>0.0</td>\n",
              "      <td>0.276312</td>\n",
              "      <td>0.0</td>\n",
              "      <td>0.0</td>\n",
              "      <td>0.783034</td>\n",
              "      <td>0.825428</td>\n",
              "      <td>0.00554</td>\n",
              "    </tr>\n",
              "    <tr>\n",
              "      <th>3</th>\n",
              "      <td>1</td>\n",
              "      <td>4</td>\n",
              "      <td>0.911938</td>\n",
              "      <td>0.643051</td>\n",
              "      <td>0.0</td>\n",
              "      <td>0.0</td>\n",
              "      <td>0.370424</td>\n",
              "      <td>0.184428</td>\n",
              "      <td>0.168949</td>\n",
              "      <td>0.0</td>\n",
              "      <td>1.0</td>\n",
              "      <td>0.822331</td>\n",
              "      <td>0.158290</td>\n",
              "      <td>0.122113</td>\n",
              "      <td>0.0</td>\n",
              "      <td>0.227058</td>\n",
              "      <td>0.729007</td>\n",
              "      <td>0.194155</td>\n",
              "      <td>0.156341</td>\n",
              "      <td>0.162675</td>\n",
              "      <td>0.0</td>\n",
              "      <td>0.219036</td>\n",
              "      <td>0.0</td>\n",
              "      <td>0.0</td>\n",
              "      <td>0.796756</td>\n",
              "      <td>0.817104</td>\n",
              "      <td>0.00831</td>\n",
              "    </tr>\n",
              "    <tr>\n",
              "      <th>4</th>\n",
              "      <td>1</td>\n",
              "      <td>5</td>\n",
              "      <td>0.916529</td>\n",
              "      <td>0.624173</td>\n",
              "      <td>0.0</td>\n",
              "      <td>0.0</td>\n",
              "      <td>0.369036</td>\n",
              "      <td>0.194057</td>\n",
              "      <td>0.179114</td>\n",
              "      <td>0.0</td>\n",
              "      <td>1.0</td>\n",
              "      <td>0.821992</td>\n",
              "      <td>0.144187</td>\n",
              "      <td>0.114730</td>\n",
              "      <td>0.0</td>\n",
              "      <td>0.222241</td>\n",
              "      <td>0.751828</td>\n",
              "      <td>0.188472</td>\n",
              "      <td>0.154822</td>\n",
              "      <td>0.159729</td>\n",
              "      <td>0.0</td>\n",
              "      <td>0.147749</td>\n",
              "      <td>0.0</td>\n",
              "      <td>0.0</td>\n",
              "      <td>0.803308</td>\n",
              "      <td>0.829623</td>\n",
              "      <td>0.01108</td>\n",
              "    </tr>\n",
              "  </tbody>\n",
              "</table>\n",
              "</div>"
            ],
            "text/plain": [
              "   id  cycle  setting1  setting2  ...  s19       s20       s21  cycle_norm\n",
              "0   1      1  1.181006  0.943062  ...  0.0  0.637261  0.785538     0.00000\n",
              "1   1      2  0.723659  0.670047  ...  0.0  0.718589  0.801113     0.00277\n",
              "2   1      3  0.701909  0.670968  ...  0.0  0.783034  0.825428     0.00554\n",
              "3   1      4  0.911938  0.643051  ...  0.0  0.796756  0.817104     0.00831\n",
              "4   1      5  0.916529  0.624173  ...  0.0  0.803308  0.829623     0.01108\n",
              "\n",
              "[5 rows x 27 columns]"
            ]
          },
          "metadata": {
            "tags": []
          },
          "execution_count": 13
        }
      ]
    },
    {
      "cell_type": "markdown",
      "metadata": {
        "id": "YAzhsZGznYmp",
        "colab_type": "text"
      },
      "source": [
        "## Generate True Values for Test Data"
      ]
    },
    {
      "cell_type": "code",
      "metadata": {
        "id": "dJpmTP4GnYmq",
        "colab_type": "code",
        "colab": {}
      },
      "source": [
        "# generate column max for test data\n",
        "rul = pd.DataFrame(test_df.groupby('id')['cycle'].max()).reset_index()\n",
        "rul.columns = ['id', 'max']\n",
        "truth_df.columns = ['more']\n",
        "truth_df['id'] = truth_df.index + 1\n",
        "truth_df['max'] = rul['max'] + truth_df['more']\n",
        "truth_df.drop('more', axis=1, inplace=True)"
      ],
      "execution_count": 0,
      "outputs": []
    },
    {
      "cell_type": "code",
      "metadata": {
        "id": "Y-IWLI-ZnYmw",
        "colab_type": "code",
        "outputId": "36f65b81-7365-4943-b34e-87d4492eee8b",
        "colab": {
          "base_uri": "https://localhost:8080/",
          "height": 226
        }
      },
      "source": [
        "# generate RUL for test data\n",
        "test_df = test_df.merge(truth_df, on=['id'], how='left')\n",
        "test_df['RUL'] = test_df['max'] - test_df['cycle']\n",
        "test_df.drop('max', axis=1, inplace=True)\n",
        "test_df.head()"
      ],
      "execution_count": 0,
      "outputs": [
        {
          "output_type": "execute_result",
          "data": {
            "text/html": [
              "<div>\n",
              "<style scoped>\n",
              "    .dataframe tbody tr th:only-of-type {\n",
              "        vertical-align: middle;\n",
              "    }\n",
              "\n",
              "    .dataframe tbody tr th {\n",
              "        vertical-align: top;\n",
              "    }\n",
              "\n",
              "    .dataframe thead th {\n",
              "        text-align: right;\n",
              "    }\n",
              "</style>\n",
              "<table border=\"1\" class=\"dataframe\">\n",
              "  <thead>\n",
              "    <tr style=\"text-align: right;\">\n",
              "      <th></th>\n",
              "      <th>id</th>\n",
              "      <th>cycle</th>\n",
              "      <th>setting1</th>\n",
              "      <th>setting2</th>\n",
              "      <th>setting3</th>\n",
              "      <th>s1</th>\n",
              "      <th>s2</th>\n",
              "      <th>s3</th>\n",
              "      <th>s4</th>\n",
              "      <th>s5</th>\n",
              "      <th>s6</th>\n",
              "      <th>s7</th>\n",
              "      <th>s8</th>\n",
              "      <th>s9</th>\n",
              "      <th>s10</th>\n",
              "      <th>s11</th>\n",
              "      <th>s12</th>\n",
              "      <th>s13</th>\n",
              "      <th>s14</th>\n",
              "      <th>s15</th>\n",
              "      <th>s16</th>\n",
              "      <th>s17</th>\n",
              "      <th>s18</th>\n",
              "      <th>s19</th>\n",
              "      <th>s20</th>\n",
              "      <th>s21</th>\n",
              "      <th>cycle_norm</th>\n",
              "      <th>RUL</th>\n",
              "    </tr>\n",
              "  </thead>\n",
              "  <tbody>\n",
              "    <tr>\n",
              "      <th>0</th>\n",
              "      <td>1</td>\n",
              "      <td>1</td>\n",
              "      <td>1.181006</td>\n",
              "      <td>0.943062</td>\n",
              "      <td>0.0</td>\n",
              "      <td>0.0</td>\n",
              "      <td>0.630905</td>\n",
              "      <td>0.152518</td>\n",
              "      <td>0.114891</td>\n",
              "      <td>0.0</td>\n",
              "      <td>1.0</td>\n",
              "      <td>0.744724</td>\n",
              "      <td>0.177775</td>\n",
              "      <td>0.114995</td>\n",
              "      <td>0.0</td>\n",
              "      <td>0.093186</td>\n",
              "      <td>0.706193</td>\n",
              "      <td>0.162801</td>\n",
              "      <td>0.121627</td>\n",
              "      <td>0.161653</td>\n",
              "      <td>0.0</td>\n",
              "      <td>0.184954</td>\n",
              "      <td>0.0</td>\n",
              "      <td>0.0</td>\n",
              "      <td>0.637261</td>\n",
              "      <td>0.785538</td>\n",
              "      <td>0.00000</td>\n",
              "      <td>142</td>\n",
              "    </tr>\n",
              "    <tr>\n",
              "      <th>1</th>\n",
              "      <td>1</td>\n",
              "      <td>2</td>\n",
              "      <td>0.723659</td>\n",
              "      <td>0.670047</td>\n",
              "      <td>0.0</td>\n",
              "      <td>0.0</td>\n",
              "      <td>0.398285</td>\n",
              "      <td>0.200286</td>\n",
              "      <td>0.086915</td>\n",
              "      <td>0.0</td>\n",
              "      <td>1.0</td>\n",
              "      <td>0.838191</td>\n",
              "      <td>0.144913</td>\n",
              "      <td>0.123580</td>\n",
              "      <td>0.0</td>\n",
              "      <td>0.192020</td>\n",
              "      <td>0.757592</td>\n",
              "      <td>0.194081</td>\n",
              "      <td>0.152988</td>\n",
              "      <td>0.100639</td>\n",
              "      <td>0.0</td>\n",
              "      <td>0.245620</td>\n",
              "      <td>0.0</td>\n",
              "      <td>0.0</td>\n",
              "      <td>0.718589</td>\n",
              "      <td>0.801113</td>\n",
              "      <td>0.00277</td>\n",
              "      <td>141</td>\n",
              "    </tr>\n",
              "    <tr>\n",
              "      <th>2</th>\n",
              "      <td>1</td>\n",
              "      <td>3</td>\n",
              "      <td>0.701909</td>\n",
              "      <td>0.670968</td>\n",
              "      <td>0.0</td>\n",
              "      <td>0.0</td>\n",
              "      <td>0.382339</td>\n",
              "      <td>0.207015</td>\n",
              "      <td>0.118110</td>\n",
              "      <td>0.0</td>\n",
              "      <td>1.0</td>\n",
              "      <td>0.829858</td>\n",
              "      <td>0.161760</td>\n",
              "      <td>0.131843</td>\n",
              "      <td>0.0</td>\n",
              "      <td>0.242023</td>\n",
              "      <td>0.766640</td>\n",
              "      <td>0.186010</td>\n",
              "      <td>0.152644</td>\n",
              "      <td>0.189200</td>\n",
              "      <td>0.0</td>\n",
              "      <td>0.276312</td>\n",
              "      <td>0.0</td>\n",
              "      <td>0.0</td>\n",
              "      <td>0.783034</td>\n",
              "      <td>0.825428</td>\n",
              "      <td>0.00554</td>\n",
              "      <td>140</td>\n",
              "    </tr>\n",
              "    <tr>\n",
              "      <th>3</th>\n",
              "      <td>1</td>\n",
              "      <td>4</td>\n",
              "      <td>0.911938</td>\n",
              "      <td>0.643051</td>\n",
              "      <td>0.0</td>\n",
              "      <td>0.0</td>\n",
              "      <td>0.370424</td>\n",
              "      <td>0.184428</td>\n",
              "      <td>0.168949</td>\n",
              "      <td>0.0</td>\n",
              "      <td>1.0</td>\n",
              "      <td>0.822331</td>\n",
              "      <td>0.158290</td>\n",
              "      <td>0.122113</td>\n",
              "      <td>0.0</td>\n",
              "      <td>0.227058</td>\n",
              "      <td>0.729007</td>\n",
              "      <td>0.194155</td>\n",
              "      <td>0.156341</td>\n",
              "      <td>0.162675</td>\n",
              "      <td>0.0</td>\n",
              "      <td>0.219036</td>\n",
              "      <td>0.0</td>\n",
              "      <td>0.0</td>\n",
              "      <td>0.796756</td>\n",
              "      <td>0.817104</td>\n",
              "      <td>0.00831</td>\n",
              "      <td>139</td>\n",
              "    </tr>\n",
              "    <tr>\n",
              "      <th>4</th>\n",
              "      <td>1</td>\n",
              "      <td>5</td>\n",
              "      <td>0.916529</td>\n",
              "      <td>0.624173</td>\n",
              "      <td>0.0</td>\n",
              "      <td>0.0</td>\n",
              "      <td>0.369036</td>\n",
              "      <td>0.194057</td>\n",
              "      <td>0.179114</td>\n",
              "      <td>0.0</td>\n",
              "      <td>1.0</td>\n",
              "      <td>0.821992</td>\n",
              "      <td>0.144187</td>\n",
              "      <td>0.114730</td>\n",
              "      <td>0.0</td>\n",
              "      <td>0.222241</td>\n",
              "      <td>0.751828</td>\n",
              "      <td>0.188472</td>\n",
              "      <td>0.154822</td>\n",
              "      <td>0.159729</td>\n",
              "      <td>0.0</td>\n",
              "      <td>0.147749</td>\n",
              "      <td>0.0</td>\n",
              "      <td>0.0</td>\n",
              "      <td>0.803308</td>\n",
              "      <td>0.829623</td>\n",
              "      <td>0.01108</td>\n",
              "      <td>138</td>\n",
              "    </tr>\n",
              "  </tbody>\n",
              "</table>\n",
              "</div>"
            ],
            "text/plain": [
              "   id  cycle  setting1  setting2  ...       s20       s21  cycle_norm  RUL\n",
              "0   1      1  1.181006  0.943062  ...  0.637261  0.785538     0.00000  142\n",
              "1   1      2  0.723659  0.670047  ...  0.718589  0.801113     0.00277  141\n",
              "2   1      3  0.701909  0.670968  ...  0.783034  0.825428     0.00554  140\n",
              "3   1      4  0.911938  0.643051  ...  0.796756  0.817104     0.00831  139\n",
              "4   1      5  0.916529  0.624173  ...  0.803308  0.829623     0.01108  138\n",
              "\n",
              "[5 rows x 28 columns]"
            ]
          },
          "metadata": {
            "tags": []
          },
          "execution_count": 15
        }
      ]
    },
    {
      "cell_type": "code",
      "metadata": {
        "id": "beuq0dH_nYm2",
        "colab_type": "code",
        "outputId": "e3a7f2c9-0d99-49c1-ae7f-b46fcd51807f",
        "colab": {
          "base_uri": "https://localhost:8080/",
          "height": 226
        }
      },
      "source": [
        "# generate label columns w0 and w1 for test data\n",
        "test_df['label1'] = np.where(test_df['RUL'] <= w1, 1, 0 )\n",
        "test_df['label2'] = test_df['label1']\n",
        "test_df.loc[test_df['RUL'] <= w0, 'label2'] = 2\n",
        "test_df.head()"
      ],
      "execution_count": 0,
      "outputs": [
        {
          "output_type": "execute_result",
          "data": {
            "text/html": [
              "<div>\n",
              "<style scoped>\n",
              "    .dataframe tbody tr th:only-of-type {\n",
              "        vertical-align: middle;\n",
              "    }\n",
              "\n",
              "    .dataframe tbody tr th {\n",
              "        vertical-align: top;\n",
              "    }\n",
              "\n",
              "    .dataframe thead th {\n",
              "        text-align: right;\n",
              "    }\n",
              "</style>\n",
              "<table border=\"1\" class=\"dataframe\">\n",
              "  <thead>\n",
              "    <tr style=\"text-align: right;\">\n",
              "      <th></th>\n",
              "      <th>id</th>\n",
              "      <th>cycle</th>\n",
              "      <th>setting1</th>\n",
              "      <th>setting2</th>\n",
              "      <th>setting3</th>\n",
              "      <th>s1</th>\n",
              "      <th>s2</th>\n",
              "      <th>s3</th>\n",
              "      <th>s4</th>\n",
              "      <th>s5</th>\n",
              "      <th>s6</th>\n",
              "      <th>s7</th>\n",
              "      <th>s8</th>\n",
              "      <th>s9</th>\n",
              "      <th>s10</th>\n",
              "      <th>s11</th>\n",
              "      <th>s12</th>\n",
              "      <th>s13</th>\n",
              "      <th>s14</th>\n",
              "      <th>s15</th>\n",
              "      <th>s16</th>\n",
              "      <th>s17</th>\n",
              "      <th>s18</th>\n",
              "      <th>s19</th>\n",
              "      <th>s20</th>\n",
              "      <th>s21</th>\n",
              "      <th>cycle_norm</th>\n",
              "      <th>RUL</th>\n",
              "      <th>label1</th>\n",
              "      <th>label2</th>\n",
              "    </tr>\n",
              "  </thead>\n",
              "  <tbody>\n",
              "    <tr>\n",
              "      <th>0</th>\n",
              "      <td>1</td>\n",
              "      <td>1</td>\n",
              "      <td>1.181006</td>\n",
              "      <td>0.943062</td>\n",
              "      <td>0.0</td>\n",
              "      <td>0.0</td>\n",
              "      <td>0.630905</td>\n",
              "      <td>0.152518</td>\n",
              "      <td>0.114891</td>\n",
              "      <td>0.0</td>\n",
              "      <td>1.0</td>\n",
              "      <td>0.744724</td>\n",
              "      <td>0.177775</td>\n",
              "      <td>0.114995</td>\n",
              "      <td>0.0</td>\n",
              "      <td>0.093186</td>\n",
              "      <td>0.706193</td>\n",
              "      <td>0.162801</td>\n",
              "      <td>0.121627</td>\n",
              "      <td>0.161653</td>\n",
              "      <td>0.0</td>\n",
              "      <td>0.184954</td>\n",
              "      <td>0.0</td>\n",
              "      <td>0.0</td>\n",
              "      <td>0.637261</td>\n",
              "      <td>0.785538</td>\n",
              "      <td>0.00000</td>\n",
              "      <td>142</td>\n",
              "      <td>0</td>\n",
              "      <td>0</td>\n",
              "    </tr>\n",
              "    <tr>\n",
              "      <th>1</th>\n",
              "      <td>1</td>\n",
              "      <td>2</td>\n",
              "      <td>0.723659</td>\n",
              "      <td>0.670047</td>\n",
              "      <td>0.0</td>\n",
              "      <td>0.0</td>\n",
              "      <td>0.398285</td>\n",
              "      <td>0.200286</td>\n",
              "      <td>0.086915</td>\n",
              "      <td>0.0</td>\n",
              "      <td>1.0</td>\n",
              "      <td>0.838191</td>\n",
              "      <td>0.144913</td>\n",
              "      <td>0.123580</td>\n",
              "      <td>0.0</td>\n",
              "      <td>0.192020</td>\n",
              "      <td>0.757592</td>\n",
              "      <td>0.194081</td>\n",
              "      <td>0.152988</td>\n",
              "      <td>0.100639</td>\n",
              "      <td>0.0</td>\n",
              "      <td>0.245620</td>\n",
              "      <td>0.0</td>\n",
              "      <td>0.0</td>\n",
              "      <td>0.718589</td>\n",
              "      <td>0.801113</td>\n",
              "      <td>0.00277</td>\n",
              "      <td>141</td>\n",
              "      <td>0</td>\n",
              "      <td>0</td>\n",
              "    </tr>\n",
              "    <tr>\n",
              "      <th>2</th>\n",
              "      <td>1</td>\n",
              "      <td>3</td>\n",
              "      <td>0.701909</td>\n",
              "      <td>0.670968</td>\n",
              "      <td>0.0</td>\n",
              "      <td>0.0</td>\n",
              "      <td>0.382339</td>\n",
              "      <td>0.207015</td>\n",
              "      <td>0.118110</td>\n",
              "      <td>0.0</td>\n",
              "      <td>1.0</td>\n",
              "      <td>0.829858</td>\n",
              "      <td>0.161760</td>\n",
              "      <td>0.131843</td>\n",
              "      <td>0.0</td>\n",
              "      <td>0.242023</td>\n",
              "      <td>0.766640</td>\n",
              "      <td>0.186010</td>\n",
              "      <td>0.152644</td>\n",
              "      <td>0.189200</td>\n",
              "      <td>0.0</td>\n",
              "      <td>0.276312</td>\n",
              "      <td>0.0</td>\n",
              "      <td>0.0</td>\n",
              "      <td>0.783034</td>\n",
              "      <td>0.825428</td>\n",
              "      <td>0.00554</td>\n",
              "      <td>140</td>\n",
              "      <td>0</td>\n",
              "      <td>0</td>\n",
              "    </tr>\n",
              "    <tr>\n",
              "      <th>3</th>\n",
              "      <td>1</td>\n",
              "      <td>4</td>\n",
              "      <td>0.911938</td>\n",
              "      <td>0.643051</td>\n",
              "      <td>0.0</td>\n",
              "      <td>0.0</td>\n",
              "      <td>0.370424</td>\n",
              "      <td>0.184428</td>\n",
              "      <td>0.168949</td>\n",
              "      <td>0.0</td>\n",
              "      <td>1.0</td>\n",
              "      <td>0.822331</td>\n",
              "      <td>0.158290</td>\n",
              "      <td>0.122113</td>\n",
              "      <td>0.0</td>\n",
              "      <td>0.227058</td>\n",
              "      <td>0.729007</td>\n",
              "      <td>0.194155</td>\n",
              "      <td>0.156341</td>\n",
              "      <td>0.162675</td>\n",
              "      <td>0.0</td>\n",
              "      <td>0.219036</td>\n",
              "      <td>0.0</td>\n",
              "      <td>0.0</td>\n",
              "      <td>0.796756</td>\n",
              "      <td>0.817104</td>\n",
              "      <td>0.00831</td>\n",
              "      <td>139</td>\n",
              "      <td>0</td>\n",
              "      <td>0</td>\n",
              "    </tr>\n",
              "    <tr>\n",
              "      <th>4</th>\n",
              "      <td>1</td>\n",
              "      <td>5</td>\n",
              "      <td>0.916529</td>\n",
              "      <td>0.624173</td>\n",
              "      <td>0.0</td>\n",
              "      <td>0.0</td>\n",
              "      <td>0.369036</td>\n",
              "      <td>0.194057</td>\n",
              "      <td>0.179114</td>\n",
              "      <td>0.0</td>\n",
              "      <td>1.0</td>\n",
              "      <td>0.821992</td>\n",
              "      <td>0.144187</td>\n",
              "      <td>0.114730</td>\n",
              "      <td>0.0</td>\n",
              "      <td>0.222241</td>\n",
              "      <td>0.751828</td>\n",
              "      <td>0.188472</td>\n",
              "      <td>0.154822</td>\n",
              "      <td>0.159729</td>\n",
              "      <td>0.0</td>\n",
              "      <td>0.147749</td>\n",
              "      <td>0.0</td>\n",
              "      <td>0.0</td>\n",
              "      <td>0.803308</td>\n",
              "      <td>0.829623</td>\n",
              "      <td>0.01108</td>\n",
              "      <td>138</td>\n",
              "      <td>0</td>\n",
              "      <td>0</td>\n",
              "    </tr>\n",
              "  </tbody>\n",
              "</table>\n",
              "</div>"
            ],
            "text/plain": [
              "   id  cycle  setting1  setting2  ...  cycle_norm  RUL  label1  label2\n",
              "0   1      1  1.181006  0.943062  ...     0.00000  142       0       0\n",
              "1   1      2  0.723659  0.670047  ...     0.00277  141       0       0\n",
              "2   1      3  0.701909  0.670968  ...     0.00554  140       0       0\n",
              "3   1      4  0.911938  0.643051  ...     0.00831  139       0       0\n",
              "4   1      5  0.916529  0.624173  ...     0.01108  138       0       0\n",
              "\n",
              "[5 rows x 30 columns]"
            ]
          },
          "metadata": {
            "tags": []
          },
          "execution_count": 16
        }
      ]
    },
    {
      "cell_type": "markdown",
      "metadata": {
        "id": "oD4i7iALnYm8",
        "colab_type": "text"
      },
      "source": [
        "## Visualizing Test Data"
      ]
    },
    {
      "cell_type": "code",
      "metadata": {
        "id": "O24wvAvTnYm9",
        "colab_type": "code",
        "colab": {}
      },
      "source": [
        "# pick a large window size of 50 cycles\n",
        "sequence_length = 50"
      ],
      "execution_count": 0,
      "outputs": []
    },
    {
      "cell_type": "code",
      "metadata": {
        "id": "6484CBRtnYnE",
        "colab_type": "code",
        "colab": {}
      },
      "source": [
        "# preparing data for visualizations \n",
        "# window of 50 cycles prior to a failure point for engine id 8\n",
        "engine_id8 = test_df[test_df['id'] == 8]\n",
        "engine_id8_50cycleWindow = engine_id8[engine_id8['RUL'] <= engine_id8['RUL'].min() + 50]\n",
        "cols1 = ['s1', 's2', 's3', 's4', 's5', 's6', 's7', 's8', 's9', 's10']\n",
        "engine_id8_50cycleWindow1 = engine_id8_50cycleWindow[cols1]\n",
        "cols2 = ['s11', 's12', 's13', 's14', 's15', 's16', 's17', 's18', 's19', 's20', 's21']\n",
        "engine_id8_50cycleWindow2 = engine_id8_50cycleWindow[cols2]"
      ],
      "execution_count": 0,
      "outputs": []
    },
    {
      "cell_type": "code",
      "metadata": {
        "id": "rV3SopTBnYnI",
        "colab_type": "code",
        "outputId": "e6ee0cb2-3d78-4ac4-dc59-00e396db8075",
        "colab": {
          "base_uri": "https://localhost:8080/",
          "height": 1000
        }
      },
      "source": [
        "# plotting sensor data for engine ID 8 prior to a failure point - sensors 1-10 \n",
        "ax1 = engine_id8_50cycleWindow1.plot(subplots=True, sharex=True, figsize=(20,20))"
      ],
      "execution_count": 0,
      "outputs": [
        {
          "output_type": "display_data",
          "data": {
            "image/png": "[encoded data removed]",
            "text/plain": [
              "<Figure size 1440x1440 with 10 Axes>"
            ]
          },
          "metadata": {
            "tags": []
          }
        }
      ]
    },
    {
      "cell_type": "code",
      "metadata": {
        "id": "wxSiUs8DnYnN",
        "colab_type": "code",
        "outputId": "c5e5d70a-4654-4139-cb77-d2b45187e165",
        "colab": {
          "base_uri": "https://localhost:8080/",
          "height": 1000
        }
      },
      "source": [
        "# plotting sensor data for engine ID 8 prior to a failure point - sensors 11-21 \n",
        "ax2 = engine_id8_50cycleWindow2.plot(subplots=True, sharex=True, figsize=(20,20))"
      ],
      "execution_count": 0,
      "outputs": [
        {
          "output_type": "display_data",
          "data": {
            "image/png": "[encoded data removed]",
            "text/plain": [
              "<Figure size 1440x1440 with 11 Axes>"
            ]
          },
          "metadata": {
            "tags": []
          }
        }
      ]
    },
    {
      "cell_type": "markdown",
      "metadata": {
        "id": "zj_-OdkgnYnT",
        "colab_type": "text"
      },
      "source": [
        "## Train and Test Sequences"
      ]
    },
    {
      "cell_type": "code",
      "metadata": {
        "id": "maZ3JY9YnYnU",
        "colab_type": "code",
        "colab": {}
      },
      "source": [
        "# function to reshape features into (samples, time steps, features) \n",
        "def gen_sequence(id_df, seq_length, seq_cols):\n",
        "    \"\"\" Only sequences that meet the window-length are considered, no padding is used. This means for testing\n",
        "    we need to drop those which are below the window-length. An alternative would be to pad sequences so that\n",
        "    we can use shorter ones \"\"\"\n",
        "    data_array = id_df[seq_cols].values\n",
        "    num_elements = data_array.shape[0]\n",
        "    for start, stop in zip(range(0, num_elements-seq_length), range(seq_length, num_elements)):\n",
        "        yield data_array[start:stop, :]"
      ],
      "execution_count": 0,
      "outputs": []
    },
    {
      "cell_type": "code",
      "metadata": {
        "id": "eef_UOjenYnb",
        "colab_type": "code",
        "colab": {}
      },
      "source": [
        "# pick the feature columns \n",
        "# sensor_cols = ['s' + str(i) for i in range(1,22)]\n",
        "# sequence_cols = ['setting1', 'setting2', 'setting3', 'cycle_norm']\n",
        "sensor_cols = ['s2', 's3', 's4', 's7', 's8', 's9', 's11', 's12', 's13', 's14', 's15', 's17', 's20', 's21']\n",
        "sequence_cols = ['setting1', 'setting2', 'cycle_norm']\n",
        "sequence_cols.extend(sensor_cols)"
      ],
      "execution_count": 0,
      "outputs": []
    },
    {
      "cell_type": "code",
      "metadata": {
        "id": "poLXaL95nYnf",
        "colab_type": "code",
        "colab": {}
      },
      "source": [
        "# generator for the sequences\n",
        "seq_gen = (list(gen_sequence(train_df[train_df['id']==id], sequence_length, sequence_cols)) \n",
        "           for id in train_df['id'].unique())"
      ],
      "execution_count": 0,
      "outputs": []
    },
    {
      "cell_type": "code",
      "metadata": {
        "id": "cP7dxIYZnYno",
        "colab_type": "code",
        "outputId": "3e1bface-6730-4b1d-aeb7-209757487cda",
        "colab": {
          "base_uri": "https://localhost:8080/",
          "height": 34
        }
      },
      "source": [
        "# generate sequences and convert to numpy array\n",
        "seq_array = np.concatenate(list(seq_gen)).astype(np.float32)\n",
        "seq_array.shape"
      ],
      "execution_count": 0,
      "outputs": [
        {
          "output_type": "execute_result",
          "data": {
            "text/plain": [
              "(15631, 50, 17)"
            ]
          },
          "metadata": {
            "tags": []
          },
          "execution_count": 24
        }
      ]
    },
    {
      "cell_type": "code",
      "metadata": {
        "id": "idOZ7nCdnYnt",
        "colab_type": "code",
        "colab": {}
      },
      "source": [
        "# function to generate labels\n",
        "def gen_labels(id_df, seq_length, label):\n",
        "    data_array = id_df[label].values\n",
        "    num_elements = data_array.shape[0]\n",
        "    return data_array[seq_length:num_elements, :]"
      ],
      "execution_count": 0,
      "outputs": []
    },
    {
      "cell_type": "code",
      "metadata": {
        "id": "SCzgtJSknYnx",
        "colab_type": "code",
        "outputId": "43e9eafe-517c-4df5-d8e0-ee1fcf5f035f",
        "colab": {
          "base_uri": "https://localhost:8080/",
          "height": 34
        }
      },
      "source": [
        "# generate labels\n",
        "label_gen = [gen_labels(train_df[train_df['id']==id], sequence_length, ['RUL']) \n",
        "             for id in train_df['id'].unique()]\n",
        "label_array = np.concatenate(label_gen).astype(np.float32)\n",
        "label_array.shape"
      ],
      "execution_count": 0,
      "outputs": [
        {
          "output_type": "execute_result",
          "data": {
            "text/plain": [
              "(15631, 1)"
            ]
          },
          "metadata": {
            "tags": []
          },
          "execution_count": 26
        }
      ]
    },
    {
      "cell_type": "markdown",
      "metadata": {
        "id": "52ylCNHDnYn1",
        "colab_type": "text"
      },
      "source": [
        "## Model"
      ]
    },
    {
      "cell_type": "code",
      "metadata": {
        "id": "Fd8qvry3nYn3",
        "colab_type": "code",
        "outputId": "96e064e8-701a-401d-a62e-88ff0a361747",
        "colab": {
          "base_uri": "https://localhost:8080/",
          "height": 263
        }
      },
      "source": [
        "from keras.optimizers import Adam, RMSprop\n",
        "from keras.layers import Input, Reshape, Dropout\n",
        "from keras import Model\n",
        "\n",
        "nb_features = seq_array.shape[2]\n",
        "nb_out = label_array.shape[1]\n",
        "\n",
        "model = Sequential()\n",
        "model.add(LSTM(\n",
        "         units=100,\n",
        "         return_sequences=True,\n",
        "         input_shape=(sequence_length, nb_features)))\n",
        "model.add(Dropout(0.4))\n",
        "model.add(LSTM(\n",
        "          units=100,\n",
        "          return_sequences=False))\n",
        "model.add(Dropout(0.4))\n",
        "model.add(Dense(units=1, activation='relu'))\n",
        "model.add(Activation(\"relu\"))\n",
        "model.compile(loss=\"mse\", optimizer=\"rmsprop\", metrics=['mse'])"
      ],
      "execution_count": 0,
      "outputs": [
        {
          "output_type": "stream",
          "text": [
            "WARNING:tensorflow:From /usr/local/lib/python3.6/dist-packages/keras/backend/tensorflow_backend.py:66: The name tf.get_default_graph is deprecated. Please use tf.compat.v1.get_default_graph instead.\n",
            "\n",
            "WARNING:tensorflow:From /usr/local/lib/python3.6/dist-packages/keras/backend/tensorflow_backend.py:541: The name tf.placeholder is deprecated. Please use tf.compat.v1.placeholder instead.\n",
            "\n",
            "WARNING:tensorflow:From /usr/local/lib/python3.6/dist-packages/keras/backend/tensorflow_backend.py:4432: The name tf.random_uniform is deprecated. Please use tf.random.uniform instead.\n",
            "\n",
            "WARNING:tensorflow:From /usr/local/lib/python3.6/dist-packages/keras/backend/tensorflow_backend.py:148: The name tf.placeholder_with_default is deprecated. Please use tf.compat.v1.placeholder_with_default instead.\n",
            "\n",
            "WARNING:tensorflow:From /usr/local/lib/python3.6/dist-packages/keras/backend/tensorflow_backend.py:3733: calling dropout (from tensorflow.python.ops.nn_ops) with keep_prob is deprecated and will be removed in a future version.\n",
            "Instructions for updating:\n",
            "Please use `rate` instead of `keep_prob`. Rate should be set to `rate = 1 - keep_prob`.\n",
            "WARNING:tensorflow:From /usr/local/lib/python3.6/dist-packages/keras/optimizers.py:793: The name tf.train.Optimizer is deprecated. Please use tf.compat.v1.train.Optimizer instead.\n",
            "\n"
          ],
          "name": "stdout"
        }
      ]
    },
    {
      "cell_type": "code",
      "metadata": {
        "scrolled": false,
        "id": "QFYZac_9nYn7",
        "colab_type": "code",
        "outputId": "23677ac1-249a-4a62-bd2f-806e452b09a2",
        "colab": {
          "base_uri": "https://localhost:8080/",
          "height": 382
        }
      },
      "source": [
        "print(model.summary())"
      ],
      "execution_count": 0,
      "outputs": [
        {
          "output_type": "stream",
          "text": [
            "Model: \"sequential_1\"\n",
            "_________________________________________________________________\n",
            "Layer (type)                 Output Shape              Param #   \n",
            "=================================================================\n",
            "lstm_1 (LSTM)                (None, 50, 100)           47200     \n",
            "_________________________________________________________________\n",
            "dropout_1 (Dropout)          (None, 50, 100)           0         \n",
            "_________________________________________________________________\n",
            "lstm_2 (LSTM)                (None, 100)               80400     \n",
            "_________________________________________________________________\n",
            "dropout_2 (Dropout)          (None, 100)               0         \n",
            "_________________________________________________________________\n",
            "dense_1 (Dense)              (None, 1)                 101       \n",
            "_________________________________________________________________\n",
            "activation_1 (Activation)    (None, 1)                 0         \n",
            "=================================================================\n",
            "Total params: 127,701\n",
            "Trainable params: 127,701\n",
            "Non-trainable params: 0\n",
            "_________________________________________________________________\n",
            "None\n"
          ],
          "name": "stdout"
        }
      ]
    },
    {
      "cell_type": "markdown",
      "metadata": {
        "id": "PJGKHFJInYoB",
        "colab_type": "text"
      },
      "source": [
        "## Training the Model"
      ]
    },
    {
      "cell_type": "code",
      "metadata": {
        "scrolled": false,
        "id": "DyVdq6mlnYoE",
        "colab_type": "code",
        "outputId": "2f15827f-77b4-4402-9a46-09d45ef0adf6",
        "colab": {
          "base_uri": "https://localhost:8080/",
          "height": 1000
        }
      },
      "source": [
        "%%time\n",
        "# fit the network\n",
        "hist = model.fit(seq_array, label_array, epochs=40, batch_size=200, validation_split=0.05, verbose=1,\n",
        "          callbacks = [keras.callbacks.EarlyStopping(monitor='val_loss', min_delta=0, patience=10, verbose=0, mode='auto')])"
      ],
      "execution_count": 0,
      "outputs": [
        {
          "output_type": "stream",
          "text": [
            "WARNING:tensorflow:From /usr/local/lib/python3.6/dist-packages/tensorflow_core/python/ops/math_grad.py:1424: where (from tensorflow.python.ops.array_ops) is deprecated and will be removed in a future version.\n",
            "Instructions for updating:\n",
            "Use tf.where in 2.0, which has the same broadcast rule as np.where\n",
            "WARNING:tensorflow:From /usr/local/lib/python3.6/dist-packages/keras/backend/tensorflow_backend.py:1033: The name tf.assign_add is deprecated. Please use tf.compat.v1.assign_add instead.\n",
            "\n",
            "WARNING:tensorflow:From /usr/local/lib/python3.6/dist-packages/keras/backend/tensorflow_backend.py:1020: The name tf.assign is deprecated. Please use tf.compat.v1.assign instead.\n",
            "\n",
            "WARNING:tensorflow:From /usr/local/lib/python3.6/dist-packages/keras/backend/tensorflow_backend.py:3005: The name tf.Session is deprecated. Please use tf.compat.v1.Session instead.\n",
            "\n",
            "Train on 14849 samples, validate on 782 samples\n",
            "Epoch 1/40\n",
            "WARNING:tensorflow:From /usr/local/lib/python3.6/dist-packages/keras/backend/tensorflow_backend.py:190: The name tf.get_default_session is deprecated. Please use tf.compat.v1.get_default_session instead.\n",
            "\n",
            "WARNING:tensorflow:From /usr/local/lib/python3.6/dist-packages/keras/backend/tensorflow_backend.py:197: The name tf.ConfigProto is deprecated. Please use tf.compat.v1.ConfigProto instead.\n",
            "\n",
            "WARNING:tensorflow:From /usr/local/lib/python3.6/dist-packages/keras/backend/tensorflow_backend.py:207: The name tf.global_variables is deprecated. Please use tf.compat.v1.global_variables instead.\n",
            "\n",
            "WARNING:tensorflow:From /usr/local/lib/python3.6/dist-packages/keras/backend/tensorflow_backend.py:216: The name tf.is_variable_initialized is deprecated. Please use tf.compat.v1.is_variable_initialized instead.\n",
            "\n",
            "WARNING:tensorflow:From /usr/local/lib/python3.6/dist-packages/keras/backend/tensorflow_backend.py:223: The name tf.variables_initializer is deprecated. Please use tf.compat.v1.variables_initializer instead.\n",
            "\n",
            "14849/14849 [==============================] - 23s 2ms/step - loss: 7905.1488 - mean_squared_error: 7905.1488 - val_loss: 7091.8519 - val_mean_squared_error: 7091.8519\n",
            "Epoch 2/40\n",
            "14849/14849 [==============================] - 13s 906us/step - loss: 6815.3124 - mean_squared_error: 6815.3124 - val_loss: 6215.1140 - val_mean_squared_error: 6215.1140\n",
            "Epoch 3/40\n",
            "14849/14849 [==============================] - 13s 869us/step - loss: 5990.1756 - mean_squared_error: 5990.1756 - val_loss: 5456.4886 - val_mean_squared_error: 5456.4886\n",
            "Epoch 4/40\n",
            "14849/14849 [==============================] - 13s 876us/step - loss: 5307.8204 - mean_squared_error: 5307.8204 - val_loss: 4808.2443 - val_mean_squared_error: 4808.2443\n",
            "Epoch 5/40\n",
            "14849/14849 [==============================] - 13s 855us/step - loss: 4690.1499 - mean_squared_error: 4690.1499 - val_loss: 4270.6815 - val_mean_squared_error: 4270.6815\n",
            "Epoch 6/40\n",
            "14849/14849 [==============================] - 13s 851us/step - loss: 4202.3726 - mean_squared_error: 4202.3726 - val_loss: 3842.9185 - val_mean_squared_error: 3842.9185\n",
            "Epoch 7/40\n",
            "14849/14849 [==============================] - 13s 897us/step - loss: 3855.7008 - mean_squared_error: 3855.7008 - val_loss: 3548.1229 - val_mean_squared_error: 3548.1229\n",
            "Epoch 8/40\n",
            "14849/14849 [==============================] - 12s 838us/step - loss: 3583.1013 - mean_squared_error: 3583.1013 - val_loss: 3331.4230 - val_mean_squared_error: 3331.4230\n",
            "Epoch 9/40\n",
            "14849/14849 [==============================] - 13s 882us/step - loss: 3412.2174 - mean_squared_error: 3412.2174 - val_loss: 3057.1201 - val_mean_squared_error: 3057.1201\n",
            "Epoch 10/40\n",
            "14849/14849 [==============================] - 13s 856us/step - loss: 2633.3857 - mean_squared_error: 2633.3857 - val_loss: 2339.5023 - val_mean_squared_error: 2339.5023\n",
            "Epoch 11/40\n",
            "14849/14849 [==============================] - 12s 839us/step - loss: 2091.9188 - mean_squared_error: 2091.9188 - val_loss: 1825.2590 - val_mean_squared_error: 1825.2590\n",
            "Epoch 12/40\n",
            "14849/14849 [==============================] - 12s 837us/step - loss: 1788.5470 - mean_squared_error: 1788.5470 - val_loss: 1807.7414 - val_mean_squared_error: 1807.7414\n",
            "Epoch 13/40\n",
            "14849/14849 [==============================] - 13s 856us/step - loss: 1603.4283 - mean_squared_error: 1603.4283 - val_loss: 1383.4269 - val_mean_squared_error: 1383.4269\n",
            "Epoch 14/40\n",
            "14849/14849 [==============================] - 12s 808us/step - loss: 1403.1741 - mean_squared_error: 1403.1741 - val_loss: 1151.7657 - val_mean_squared_error: 1151.7657\n",
            "Epoch 15/40\n",
            "14849/14849 [==============================] - 13s 846us/step - loss: 1262.2580 - mean_squared_error: 1262.2580 - val_loss: 1456.8222 - val_mean_squared_error: 1456.8222\n",
            "Epoch 16/40\n",
            "14849/14849 [==============================] - 13s 882us/step - loss: 1128.1305 - mean_squared_error: 1128.1305 - val_loss: 1306.3860 - val_mean_squared_error: 1306.3860\n",
            "Epoch 17/40\n",
            "14849/14849 [==============================] - 12s 800us/step - loss: 1022.7930 - mean_squared_error: 1022.7930 - val_loss: 1090.7181 - val_mean_squared_error: 1090.7181\n",
            "Epoch 18/40\n",
            "14849/14849 [==============================] - 13s 864us/step - loss: 976.0992 - mean_squared_error: 976.0992 - val_loss: 917.8499 - val_mean_squared_error: 917.8499\n",
            "Epoch 19/40\n",
            "14849/14849 [==============================] - 13s 887us/step - loss: 912.5420 - mean_squared_error: 912.5420 - val_loss: 812.4491 - val_mean_squared_error: 812.4491\n",
            "Epoch 20/40\n",
            "14849/14849 [==============================] - 12s 798us/step - loss: 850.5951 - mean_squared_error: 850.5951 - val_loss: 861.5741 - val_mean_squared_error: 861.5741\n",
            "Epoch 21/40\n",
            "14849/14849 [==============================] - 13s 850us/step - loss: 817.0396 - mean_squared_error: 817.0396 - val_loss: 831.8618 - val_mean_squared_error: 831.8618\n",
            "Epoch 22/40\n",
            "14849/14849 [==============================] - 12s 830us/step - loss: 788.7076 - mean_squared_error: 788.7076 - val_loss: 737.0410 - val_mean_squared_error: 737.0410\n",
            "Epoch 23/40\n",
            "14849/14849 [==============================] - 13s 849us/step - loss: 760.0434 - mean_squared_error: 760.0434 - val_loss: 912.7524 - val_mean_squared_error: 912.7524\n",
            "Epoch 24/40\n",
            "14849/14849 [==============================] - 13s 872us/step - loss: 731.6496 - mean_squared_error: 731.6496 - val_loss: 780.0514 - val_mean_squared_error: 780.0514\n",
            "Epoch 25/40\n",
            "14849/14849 [==============================] - 12s 828us/step - loss: 709.9958 - mean_squared_error: 709.9958 - val_loss: 918.7342 - val_mean_squared_error: 918.7342\n",
            "Epoch 26/40\n",
            "14849/14849 [==============================] - 12s 827us/step - loss: 679.6463 - mean_squared_error: 679.6463 - val_loss: 865.7378 - val_mean_squared_error: 865.7378\n",
            "Epoch 27/40\n",
            "14849/14849 [==============================] - 13s 847us/step - loss: 664.1077 - mean_squared_error: 664.1077 - val_loss: 936.1664 - val_mean_squared_error: 936.1664\n",
            "Epoch 28/40\n",
            "14849/14849 [==============================] - 13s 890us/step - loss: 649.4527 - mean_squared_error: 649.4527 - val_loss: 923.9856 - val_mean_squared_error: 923.9856\n",
            "Epoch 29/40\n",
            "14849/14849 [==============================] - 12s 815us/step - loss: 616.3923 - mean_squared_error: 616.3923 - val_loss: 877.3841 - val_mean_squared_error: 877.3841\n",
            "Epoch 30/40\n",
            "14849/14849 [==============================] - 13s 842us/step - loss: 617.9003 - mean_squared_error: 617.9003 - val_loss: 956.6673 - val_mean_squared_error: 956.6673\n",
            "Epoch 31/40\n",
            "14849/14849 [==============================] - 13s 885us/step - loss: 591.0973 - mean_squared_error: 591.0973 - val_loss: 1121.2411 - val_mean_squared_error: 1121.2411\n",
            "Epoch 32/40\n",
            "14849/14849 [==============================] - 12s 834us/step - loss: 572.1424 - mean_squared_error: 572.1424 - val_loss: 872.1064 - val_mean_squared_error: 872.1064\n",
            "CPU times: user 9min 6s, sys: 27.7 s, total: 9min 34s\n",
            "Wall time: 6min 56s\n"
          ],
          "name": "stdout"
        }
      ]
    },
    {
      "cell_type": "code",
      "metadata": {
        "id": "dyKzrQ5jnYoJ",
        "colab_type": "code",
        "outputId": "9ddfb701-7276-4d66-e3a5-625a198d13f3",
        "colab": {
          "base_uri": "https://localhost:8080/",
          "height": 295
        }
      },
      "source": [
        "plt.plot(hist.history['mean_squared_error'])\n",
        "plt.plot(hist.history['val_mean_squared_error'])\n",
        "plt.title('MSE')\n",
        "plt.ylabel('Mean Squared Error')\n",
        "plt.xlabel('# Epoch')\n",
        "plt.legend(['train', 'test'], loc='upper left')\n",
        "plt.show()"
      ],
      "execution_count": 0,
      "outputs": [
        {
          "output_type": "display_data",
          "data": {
            "image/png": "[encoded data removed]",
            "text/plain": [
              "<Figure size 432x288 with 1 Axes>"
            ]
          },
          "metadata": {
            "tags": []
          }
        }
      ]
    },
    {
      "cell_type": "markdown",
      "metadata": {
        "id": "eJYNrCuUnYoN",
        "colab_type": "text"
      },
      "source": [
        "## Results on Train Set"
      ]
    },
    {
      "cell_type": "code",
      "metadata": {
        "id": "ZHJIIVZsnYoP",
        "colab_type": "code",
        "outputId": "77267c95-f804-4fb2-e8d4-8e301be72f54",
        "colab": {
          "base_uri": "https://localhost:8080/",
          "height": 52
        }
      },
      "source": [
        "# training metrics\n",
        "scores = model.evaluate(seq_array, label_array, verbose=1, batch_size=200)\n",
        "print('MSE: {}'.format(scores[1]))"
      ],
      "execution_count": 0,
      "outputs": [
        {
          "output_type": "stream",
          "text": [
            "15631/15631 [==============================] - 5s 322us/step\n",
            "MSE: 516.7211913367424\n"
          ],
          "name": "stdout"
        }
      ]
    },
    {
      "cell_type": "markdown",
      "metadata": {
        "id": "YT2gKes3nYoT",
        "colab_type": "text"
      },
      "source": [
        "## Results on Test Set"
      ]
    },
    {
      "cell_type": "code",
      "metadata": {
        "id": "rO6JbcVXnYoV",
        "colab_type": "code",
        "outputId": "370bfb99-0ab8-45e2-ce50-af4ce1814df7",
        "colab": {
          "base_uri": "https://localhost:8080/",
          "height": 34
        }
      },
      "source": [
        "seq_array_test_last = [test_df[test_df['id']==id][sequence_cols].values[-sequence_length:] \n",
        "                       for id in test_df['id'].unique() if len(test_df[test_df['id']==id]) >= sequence_length]\n",
        "\n",
        "seq_array_test_last = np.asarray(seq_array_test_last).astype(np.float32)\n",
        "seq_array_test_last.shape"
      ],
      "execution_count": 0,
      "outputs": [
        {
          "output_type": "execute_result",
          "data": {
            "text/plain": [
              "(93, 50, 17)"
            ]
          },
          "metadata": {
            "tags": []
          },
          "execution_count": 32
        }
      ]
    },
    {
      "cell_type": "code",
      "metadata": {
        "id": "t85rlkIcnYoY",
        "colab_type": "code",
        "colab": {}
      },
      "source": [
        "y_mask = [len(test_df[test_df['id']==id]) >= sequence_length for id in test_df['id'].unique()]"
      ],
      "execution_count": 0,
      "outputs": []
    },
    {
      "cell_type": "code",
      "metadata": {
        "id": "oS4Qkt2KnYoc",
        "colab_type": "code",
        "outputId": "96290832-ce5e-4126-9bb0-a6d2193b4d40",
        "colab": {
          "base_uri": "https://localhost:8080/",
          "height": 34
        }
      },
      "source": [
        "label_array_test_last = test_df.groupby('id')['RUL'].nth(-1)[y_mask].values\n",
        "label_array_test_last = label_array_test_last.reshape(label_array_test_last.shape[0],1).astype(np.float32)\n",
        "label_array_test_last.shape"
      ],
      "execution_count": 0,
      "outputs": [
        {
          "output_type": "execute_result",
          "data": {
            "text/plain": [
              "(93, 1)"
            ]
          },
          "metadata": {
            "tags": []
          },
          "execution_count": 34
        }
      ]
    },
    {
      "cell_type": "code",
      "metadata": {
        "id": "fGQHAIaVnYog",
        "colab_type": "code",
        "outputId": "ae675f49-1210-4098-a0b8-26091d556a72",
        "colab": {
          "base_uri": "https://localhost:8080/",
          "height": 52
        }
      },
      "source": [
        "print(seq_array_test_last.shape)\n",
        "print(label_array_test_last.shape)"
      ],
      "execution_count": 0,
      "outputs": [
        {
          "output_type": "stream",
          "text": [
            "(93, 50, 17)\n",
            "(93, 1)\n"
          ],
          "name": "stdout"
        }
      ]
    },
    {
      "cell_type": "code",
      "metadata": {
        "id": "8vbjD6e8nYok",
        "colab_type": "code",
        "outputId": "d64e89a9-c96f-444c-dd4e-f5f373614cdc",
        "colab": {
          "base_uri": "https://localhost:8080/",
          "height": 34
        }
      },
      "source": [
        "# test metrics\n",
        "scores_test = model.evaluate(seq_array_test_last, label_array_test_last, verbose=2)\n",
        "print('MSE: {}'.format(scores_test[1]))"
      ],
      "execution_count": 0,
      "outputs": [
        {
          "output_type": "stream",
          "text": [
            "MSE: 511.0433382423975\n"
          ],
          "name": "stdout"
        }
      ]
    },
    {
      "cell_type": "code",
      "metadata": {
        "id": "pBVrEz6GnYoo",
        "colab_type": "code",
        "outputId": "75582bf1-d418-432e-80d3-e74185a3fb82",
        "colab": {
          "base_uri": "https://localhost:8080/",
          "height": 81
        }
      },
      "source": [
        "results_df = pd.DataFrame([[scores_test[1]],],\n",
        "                         columns = ['MSE'],\n",
        "                         index = ['LSTM'])\n",
        "results_df"
      ],
      "execution_count": 0,
      "outputs": [
        {
          "output_type": "execute_result",
          "data": {
            "text/html": [
              "<div>\n",
              "<style scoped>\n",
              "    .dataframe tbody tr th:only-of-type {\n",
              "        vertical-align: middle;\n",
              "    }\n",
              "\n",
              "    .dataframe tbody tr th {\n",
              "        vertical-align: top;\n",
              "    }\n",
              "\n",
              "    .dataframe thead th {\n",
              "        text-align: right;\n",
              "    }\n",
              "</style>\n",
              "<table border=\"1\" class=\"dataframe\">\n",
              "  <thead>\n",
              "    <tr style=\"text-align: right;\">\n",
              "      <th></th>\n",
              "      <th>MSE</th>\n",
              "    </tr>\n",
              "  </thead>\n",
              "  <tbody>\n",
              "    <tr>\n",
              "      <th>LSTM</th>\n",
              "      <td>511.043338</td>\n",
              "    </tr>\n",
              "  </tbody>\n",
              "</table>\n",
              "</div>"
            ],
            "text/plain": [
              "             MSE\n",
              "LSTM  511.043338"
            ]
          },
          "metadata": {
            "tags": []
          },
          "execution_count": 37
        }
      ]
    },
    {
      "cell_type": "markdown",
      "metadata": {
        "id": "nsJJm_KDnYot",
        "colab_type": "text"
      },
      "source": [
        "## Plot of Predictions vs True RUL Values"
      ]
    },
    {
      "cell_type": "code",
      "metadata": {
        "id": "iVyRbh05nYot",
        "colab_type": "code",
        "outputId": "1d999acd-9e14-47e1-f0ae-bd41faf5b5c9",
        "colab": {
          "base_uri": "https://localhost:8080/",
          "height": 265
        }
      },
      "source": [
        "y_pred_test = model.predict(seq_array_test_last, verbose=0)\n",
        "\n",
        "import matplotlib.pyplot as plt2\n",
        "\n",
        "plt2.plot(y_pred_test, color='red', label='Prediction')\n",
        "plt2.plot(label_array_test_last, color='blue', label='Ground Truth')\n",
        "plt2.legend(loc='upper left')\n",
        "plt2.show()"
      ],
      "execution_count": 0,
      "outputs": [
        {
          "output_type": "display_data",
          "data": {
            "image/png": "[encoded data removed]",
            "text/plain": [
              "<Figure size 432x288 with 1 Axes>"
            ]
          },
          "metadata": {
            "tags": []
          }
        }
      ]
    },
    {
      "cell_type": "code",
      "metadata": {
        "id": "etTsLT85nYoy",
        "colab_type": "code",
        "colab": {}
      },
      "source": [
        ""
      ],
      "execution_count": 0,
      "outputs": []
    }
  ]
}